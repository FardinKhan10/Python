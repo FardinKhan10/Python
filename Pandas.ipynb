{
 "cells": [
  {
   "cell_type": "code",
   "execution_count": 17,
   "id": "d78fb45e-bf2c-4eec-9688-d982f64a0612",
   "metadata": {},
   "outputs": [
    {
     "data": {
      "text/html": [
       "<div>\n",
       "<style scoped>\n",
       "    .dataframe tbody tr th:only-of-type {\n",
       "        vertical-align: middle;\n",
       "    }\n",
       "\n",
       "    .dataframe tbody tr th {\n",
       "        vertical-align: top;\n",
       "    }\n",
       "\n",
       "    .dataframe thead th {\n",
       "        text-align: right;\n",
       "    }\n",
       "</style>\n",
       "<table border=\"1\" class=\"dataframe\">\n",
       "  <thead>\n",
       "    <tr style=\"text-align: right;\">\n",
       "      <th></th>\n",
       "      <th>ID</th>\n",
       "      <th>Name</th>\n",
       "      <th>Score</th>\n",
       "    </tr>\n",
       "  </thead>\n",
       "  <tbody>\n",
       "    <tr>\n",
       "      <th>0</th>\n",
       "      <td>1</td>\n",
       "      <td>Fardin</td>\n",
       "      <td>85</td>\n",
       "    </tr>\n",
       "    <tr>\n",
       "      <th>1</th>\n",
       "      <td>2</td>\n",
       "      <td>Sudarshan</td>\n",
       "      <td>92</td>\n",
       "    </tr>\n",
       "  </tbody>\n",
       "</table>\n",
       "</div>"
      ],
      "text/plain": [
       "   ID       Name  Score\n",
       "0   1     Fardin     85\n",
       "1   2  Sudarshan     92"
      ]
     },
     "execution_count": 17,
     "metadata": {},
     "output_type": "execute_result"
    }
   ],
   "source": [
    "'''\n",
    "INTRODUCTION TO PANDAS 🐼\n",
    "Python library for data analysis and manipulation\n",
    "\n",
    "Two main data structures:\n",
    "1D - Series (list)\n",
    "2D - DataFrame (matrix)\n",
    "\n",
    "Why?\n",
    "- Support for CSV, Excel, SQL, JSON etc.\n",
    "- Powerful data aggregation and grouping\n",
    "- Easy handling of missing data\n",
    "- Convenient for filtering, joining, and reshaping\n",
    "'''\n",
    "\n",
    "import pandas as pd\n",
    "import numpy as np\n",
    "\n",
    "# Dictionary to DataFrame\n",
    "friends = {\n",
    "    'name': ['Fardin', 'Adnan', 'Shahnawaz'],\n",
    "    'city': ['Pune', 'Mumbai', 'Solapur'],\n",
    "    'marks': [98, 99, 100]\n",
    "}\n",
    "\n",
    "# Create DataFrame\n",
    "df = pd.DataFrame(friends)\n",
    "df  # show\n",
    "\n",
    "# Save to CSV with and without index\n",
    "df.to_csv('friends.csv')  \n",
    "df.to_csv('friends.csv', index=False)\n",
    "\n",
    "# Top, bottom, summary\n",
    "df.head(1)\n",
    "df.tail(1)\n",
    "df.describe()\n",
    "\n",
    "# Read from CSV\n",
    "new = pd.read_csv('new.csv')\n",
    "new  # show\n",
    "\n",
    "new.describe()\n",
    "# matrix - [row][column]\n",
    "# df - [col][row]\n",
    "new['city']\n",
    "# specific values\n",
    "new['city'][3]\n",
    "# specific values update\n",
    "new.loc[3, 'city'] = 'Shrinagar'\n",
    "new\n",
    "new.to_csv('new.csv', index=False)\n",
    "new\n",
    "\n",
    "# Custom index\n",
    "new.index = ['a', 'b', 'c', 'd', 'e', 'f', 'g', 'h', 'i', 'j']\n",
    "new\n",
    "\n",
    "# Series example\n",
    "sr = pd.Series([1,2,3,4,5,6,7,8,9,10])\n",
    "sr\n",
    "type(sr)\n",
    "type(df)\n",
    "\n",
    "# Random Series\n",
    "sr1 = pd.Series(np.random.randint(1, 11, size=5))\n",
    "sr1\n",
    "\n",
    "# Random DataFrame\n",
    "randomDf = pd.DataFrame(np.random.randint(1, 101, size=(5,5)))\n",
    "randomDf\n",
    "\n",
    "# With explicit index\n",
    "randomDf = pd.DataFrame(np.random.randint(1, 101, size=(5,5)), index=np.arange(5))\n",
    "randomDf\n",
    "randomDf.describe()\n",
    "\n",
    "# Larger random DataFrame\n",
    "randomDf = pd.DataFrame(np.random.randint(1, 101, size=(300,5)), index=np.arange(300))\n",
    "randomDf\n",
    "randomDf.head(5)\n",
    "randomDf.tail(5)\n",
    "randomDf.index\n",
    "randomDf.columns\n",
    "randomDf.to_numpy()\n",
    "\n",
    "# Custom Series with index\n",
    "s1 = pd.Series([10,20,30], index=['a','b','c'])\n",
    "s1\n",
    "s1['a']\n",
    "\n",
    "# Modify dictionary before DataFrame\n",
    "friends['Number'] = ['1','2','3']\n",
    "friends\n",
    "\n",
    "# Create DataFrame from list of lists\n",
    "df1 = pd.DataFrame([\n",
    "    ['Tom', 28],\n",
    "    ['Jerry', 31]\n",
    "], columns=['Name', 'Age'])\n",
    "\n",
    "df1['City'] = ['Pune', 'Mumbai']\n",
    "df1\n",
    "\n",
    "# Drop column (view only)\n",
    "df1.drop('Age', axis=1)\n",
    "\n",
    "# Drop column permanently\n",
    "df1.drop('Age', axis=1, inplace=True)\n",
    "df1\n",
    "\n",
    "# Add new column\n",
    "df1['Number'] = ['1', '2']\n",
    "df1\n",
    "\n",
    "# Access a column\n",
    "df1['Name']\n",
    "\n",
    "randomDf.sort_index(axis = 0, ascending=False)\n",
    "\n",
    "randomDf.sort_index(axis = 1, ascending=False)\n",
    "\n",
    "\n",
    "df1\n",
    "df1.columns = ['a','b','c']\n",
    "df1\n",
    "df1.columns = ['Name','City','Number']\n",
    "df1\n",
    "\n",
    "\n",
    "df1['Name'][0]\n",
    "# Not a recommended way of updation\n",
    "# df1['Name'][0] = 'Mr Tom'\n",
    "# df1\n",
    "\n",
    "# recommended way to update\n",
    "# df1.loc[0,'Name'] = 'Tom'\n",
    "# df1\n",
    "\n",
    "# randomDf.loc[(randomDf[0]<2) & (randomDf[0]<2)]\n",
    "\n",
    "# randomDf.iloc[2,2]\n",
    "\n",
    "# df1.loc[0,'City']\n",
    "\n",
    "# df1.loc[0,1]\n",
    "\n",
    "# df1.iloc[0, 1]\n",
    "\n",
    "\n",
    "#Iterate over DF\n",
    "df = pd.DataFrame({\n",
    "    'Name':['Raj','Alice','Bob'],\n",
    "    'Age':[20,45,34]\n",
    "})\n",
    "\n",
    "# dd\n",
    "\n",
    "# for index, row in df.iterrows():\n",
    "#     print(f\"{index} {row['Name']} {row['Age']}\")\n",
    "\n",
    "\n",
    "#Reshaping\n",
    "data = pd.DataFrame({\n",
    "    'Date':['2025-02','2025-02','2025-02'],\n",
    "    'City':['Delhi','Mumbai','Pune'],\n",
    "    'Temp':[40,35,43]\n",
    "})\n",
    "data\n",
    "\n",
    "#Reshaped the Data\n",
    "data.pivot(index='Date',columns='City',values='Temp')\n",
    "\n",
    "\n",
    "\n",
    "#Concat\n",
    "df1 = pd.DataFrame({'A':['A0','A1'], 'B':['B0','B1']})\n",
    "df2 = pd.DataFrame({'A':['A2','A3'], 'B':['B2','B3']})\n",
    "\n",
    "df1\n",
    "df2\n",
    "\n",
    "pd.concat([df1,df2])\n",
    "\n",
    "pd.concat([df1,df2], axis = 1)\n",
    "\n",
    "#Merge\n",
    "left = pd.DataFrame({'ID':[1,2], 'Name':['Fardin','Sudarshan']})\n",
    "right = pd.DataFrame({'ID':[1,2], 'Score':[85,92]})\n",
    "\n",
    "pd.concat([left,right], axis=1) #Not Good\n",
    "\n",
    "\n",
    "pd.merge(left,right, on='ID')"
   ]
  },
  {
   "cell_type": "code",
   "execution_count": 21,
   "id": "3a5b5dd6-f427-47eb-9c39-c9d5e9866867",
   "metadata": {},
   "outputs": [],
   "source": [
    "# GroupBy\n",
    "df = pd.DataFrame({\n",
    "    'Department': ['IT', 'HR','IT', 'HR'],\n",
    "    'Employees': ['A', 'B', 'C', 'D'],\n",
    "    'Salary': [60000, 50000, 65000, 52000]\n",
    "})"
   ]
  },
  {
   "cell_type": "code",
   "execution_count": 23,
   "id": "68480ba0-02d2-4dc3-98e3-36fc67ebf27a",
   "metadata": {},
   "outputs": [
    {
     "data": {
      "text/html": [
       "<div>\n",
       "<style scoped>\n",
       "    .dataframe tbody tr th:only-of-type {\n",
       "        vertical-align: middle;\n",
       "    }\n",
       "\n",
       "    .dataframe tbody tr th {\n",
       "        vertical-align: top;\n",
       "    }\n",
       "\n",
       "    .dataframe thead th {\n",
       "        text-align: right;\n",
       "    }\n",
       "</style>\n",
       "<table border=\"1\" class=\"dataframe\">\n",
       "  <thead>\n",
       "    <tr style=\"text-align: right;\">\n",
       "      <th></th>\n",
       "      <th>Department</th>\n",
       "      <th>Employees</th>\n",
       "      <th>Salary</th>\n",
       "    </tr>\n",
       "  </thead>\n",
       "  <tbody>\n",
       "    <tr>\n",
       "      <th>0</th>\n",
       "      <td>IT</td>\n",
       "      <td>A</td>\n",
       "      <td>60000</td>\n",
       "    </tr>\n",
       "    <tr>\n",
       "      <th>1</th>\n",
       "      <td>HR</td>\n",
       "      <td>B</td>\n",
       "      <td>50000</td>\n",
       "    </tr>\n",
       "    <tr>\n",
       "      <th>2</th>\n",
       "      <td>IT</td>\n",
       "      <td>C</td>\n",
       "      <td>65000</td>\n",
       "    </tr>\n",
       "    <tr>\n",
       "      <th>3</th>\n",
       "      <td>HR</td>\n",
       "      <td>D</td>\n",
       "      <td>52000</td>\n",
       "    </tr>\n",
       "  </tbody>\n",
       "</table>\n",
       "</div>"
      ],
      "text/plain": [
       "  Department Employees  Salary\n",
       "0         IT         A   60000\n",
       "1         HR         B   50000\n",
       "2         IT         C   65000\n",
       "3         HR         D   52000"
      ]
     },
     "execution_count": 23,
     "metadata": {},
     "output_type": "execute_result"
    }
   ],
   "source": [
    "df"
   ]
  },
  {
   "cell_type": "code",
   "execution_count": 29,
   "id": "96391c3d-19ea-4745-8ff5-afd547691c5c",
   "metadata": {},
   "outputs": [
    {
     "data": {
      "text/plain": [
       "Department\n",
       "HR    51000.0\n",
       "IT    62500.0\n",
       "Name: Salary, dtype: float64"
      ]
     },
     "execution_count": 29,
     "metadata": {},
     "output_type": "execute_result"
    }
   ],
   "source": [
    "df.groupby('Department')['Salary'].mean()"
   ]
  },
  {
   "cell_type": "code",
   "execution_count": 31,
   "id": "96dfd031-76d2-43d3-b806-c43eaea76e8a",
   "metadata": {},
   "outputs": [
    {
     "data": {
      "text/plain": [
       "Department\n",
       "HR    52000\n",
       "IT    65000\n",
       "Name: Salary, dtype: int64"
      ]
     },
     "execution_count": 31,
     "metadata": {},
     "output_type": "execute_result"
    }
   ],
   "source": [
    "df.groupby('Department')['Salary'].max()"
   ]
  },
  {
   "cell_type": "code",
   "execution_count": 33,
   "id": "9abcbe94-2d12-410e-8ff7-118353b7a3bf",
   "metadata": {},
   "outputs": [
    {
     "data": {
      "text/plain": [
       "Department\n",
       "HR    102000\n",
       "IT    125000\n",
       "Name: Salary, dtype: int64"
      ]
     },
     "execution_count": 33,
     "metadata": {},
     "output_type": "execute_result"
    }
   ],
   "source": [
    "df.groupby('Department')['Salary'].sum()"
   ]
  },
  {
   "cell_type": "code",
   "execution_count": 37,
   "id": "820986aa-0582-4710-bae6-2e4e4fd28b8a",
   "metadata": {},
   "outputs": [],
   "source": [
    "# handle missing data\n",
    "df = pd.DataFrame({\n",
    "    'A': [1,2, None],\n",
    "    'B': [None, 5,6]\n",
    "})"
   ]
  },
  {
   "cell_type": "code",
   "execution_count": 39,
   "id": "75dbe245-7cc7-48ef-8963-fbb4f553eafd",
   "metadata": {},
   "outputs": [
    {
     "data": {
      "text/html": [
       "<div>\n",
       "<style scoped>\n",
       "    .dataframe tbody tr th:only-of-type {\n",
       "        vertical-align: middle;\n",
       "    }\n",
       "\n",
       "    .dataframe tbody tr th {\n",
       "        vertical-align: top;\n",
       "    }\n",
       "\n",
       "    .dataframe thead th {\n",
       "        text-align: right;\n",
       "    }\n",
       "</style>\n",
       "<table border=\"1\" class=\"dataframe\">\n",
       "  <thead>\n",
       "    <tr style=\"text-align: right;\">\n",
       "      <th></th>\n",
       "      <th>A</th>\n",
       "      <th>B</th>\n",
       "    </tr>\n",
       "  </thead>\n",
       "  <tbody>\n",
       "    <tr>\n",
       "      <th>0</th>\n",
       "      <td>1.0</td>\n",
       "      <td>NaN</td>\n",
       "    </tr>\n",
       "    <tr>\n",
       "      <th>1</th>\n",
       "      <td>2.0</td>\n",
       "      <td>5.0</td>\n",
       "    </tr>\n",
       "    <tr>\n",
       "      <th>2</th>\n",
       "      <td>NaN</td>\n",
       "      <td>6.0</td>\n",
       "    </tr>\n",
       "  </tbody>\n",
       "</table>\n",
       "</div>"
      ],
      "text/plain": [
       "     A    B\n",
       "0  1.0  NaN\n",
       "1  2.0  5.0\n",
       "2  NaN  6.0"
      ]
     },
     "execution_count": 39,
     "metadata": {},
     "output_type": "execute_result"
    }
   ],
   "source": [
    "df"
   ]
  },
  {
   "cell_type": "code",
   "execution_count": 41,
   "id": "658216c9-d96e-4d50-9b8f-c9fda70aa231",
   "metadata": {},
   "outputs": [
    {
     "data": {
      "text/html": [
       "<div>\n",
       "<style scoped>\n",
       "    .dataframe tbody tr th:only-of-type {\n",
       "        vertical-align: middle;\n",
       "    }\n",
       "\n",
       "    .dataframe tbody tr th {\n",
       "        vertical-align: top;\n",
       "    }\n",
       "\n",
       "    .dataframe thead th {\n",
       "        text-align: right;\n",
       "    }\n",
       "</style>\n",
       "<table border=\"1\" class=\"dataframe\">\n",
       "  <thead>\n",
       "    <tr style=\"text-align: right;\">\n",
       "      <th></th>\n",
       "      <th>A</th>\n",
       "      <th>B</th>\n",
       "    </tr>\n",
       "  </thead>\n",
       "  <tbody>\n",
       "    <tr>\n",
       "      <th>0</th>\n",
       "      <td>1.0</td>\n",
       "      <td>0.0</td>\n",
       "    </tr>\n",
       "    <tr>\n",
       "      <th>1</th>\n",
       "      <td>2.0</td>\n",
       "      <td>5.0</td>\n",
       "    </tr>\n",
       "    <tr>\n",
       "      <th>2</th>\n",
       "      <td>0.0</td>\n",
       "      <td>6.0</td>\n",
       "    </tr>\n",
       "  </tbody>\n",
       "</table>\n",
       "</div>"
      ],
      "text/plain": [
       "     A    B\n",
       "0  1.0  0.0\n",
       "1  2.0  5.0\n",
       "2  0.0  6.0"
      ]
     },
     "execution_count": 41,
     "metadata": {},
     "output_type": "execute_result"
    }
   ],
   "source": [
    "df.fillna(0)"
   ]
  },
  {
   "cell_type": "code",
   "execution_count": 43,
   "id": "61e50c63-1590-47cf-ac84-61e129ddb79e",
   "metadata": {},
   "outputs": [
    {
     "data": {
      "text/html": [
       "<div>\n",
       "<style scoped>\n",
       "    .dataframe tbody tr th:only-of-type {\n",
       "        vertical-align: middle;\n",
       "    }\n",
       "\n",
       "    .dataframe tbody tr th {\n",
       "        vertical-align: top;\n",
       "    }\n",
       "\n",
       "    .dataframe thead th {\n",
       "        text-align: right;\n",
       "    }\n",
       "</style>\n",
       "<table border=\"1\" class=\"dataframe\">\n",
       "  <thead>\n",
       "    <tr style=\"text-align: right;\">\n",
       "      <th></th>\n",
       "      <th>A</th>\n",
       "      <th>B</th>\n",
       "    </tr>\n",
       "  </thead>\n",
       "  <tbody>\n",
       "    <tr>\n",
       "      <th>0</th>\n",
       "      <td>1.0</td>\n",
       "      <td>2.0</td>\n",
       "    </tr>\n",
       "    <tr>\n",
       "      <th>1</th>\n",
       "      <td>2.0</td>\n",
       "      <td>5.0</td>\n",
       "    </tr>\n",
       "    <tr>\n",
       "      <th>2</th>\n",
       "      <td>2.0</td>\n",
       "      <td>6.0</td>\n",
       "    </tr>\n",
       "  </tbody>\n",
       "</table>\n",
       "</div>"
      ],
      "text/plain": [
       "     A    B\n",
       "0  1.0  2.0\n",
       "1  2.0  5.0\n",
       "2  2.0  6.0"
      ]
     },
     "execution_count": 43,
     "metadata": {},
     "output_type": "execute_result"
    }
   ],
   "source": [
    "df.fillna(2)"
   ]
  },
  {
   "cell_type": "code",
   "execution_count": 45,
   "id": "49a575d1-d175-4e5e-9abd-f626d1645b9b",
   "metadata": {},
   "outputs": [
    {
     "data": {
      "text/html": [
       "<div>\n",
       "<style scoped>\n",
       "    .dataframe tbody tr th:only-of-type {\n",
       "        vertical-align: middle;\n",
       "    }\n",
       "\n",
       "    .dataframe tbody tr th {\n",
       "        vertical-align: top;\n",
       "    }\n",
       "\n",
       "    .dataframe thead th {\n",
       "        text-align: right;\n",
       "    }\n",
       "</style>\n",
       "<table border=\"1\" class=\"dataframe\">\n",
       "  <thead>\n",
       "    <tr style=\"text-align: right;\">\n",
       "      <th></th>\n",
       "      <th>A</th>\n",
       "      <th>B</th>\n",
       "    </tr>\n",
       "  </thead>\n",
       "  <tbody>\n",
       "    <tr>\n",
       "      <th>0</th>\n",
       "      <td>1.0</td>\n",
       "      <td>500.0</td>\n",
       "    </tr>\n",
       "    <tr>\n",
       "      <th>1</th>\n",
       "      <td>2.0</td>\n",
       "      <td>5.0</td>\n",
       "    </tr>\n",
       "    <tr>\n",
       "      <th>2</th>\n",
       "      <td>500.0</td>\n",
       "      <td>6.0</td>\n",
       "    </tr>\n",
       "  </tbody>\n",
       "</table>\n",
       "</div>"
      ],
      "text/plain": [
       "       A      B\n",
       "0    1.0  500.0\n",
       "1    2.0    5.0\n",
       "2  500.0    6.0"
      ]
     },
     "execution_count": 45,
     "metadata": {},
     "output_type": "execute_result"
    }
   ],
   "source": [
    "df.fillna(500)"
   ]
  },
  {
   "cell_type": "code",
   "execution_count": 47,
   "id": "c3f5fda0-03cf-4edb-9937-655ac3c3c212",
   "metadata": {},
   "outputs": [],
   "source": [
    "# Sorting a DF\n",
    "df = pd.DataFrame({\n",
    "    'Name': ['Charlie', 'Alice', 'Bob'],\n",
    "    'Age': [35, 25, 30]\n",
    "})"
   ]
  },
  {
   "cell_type": "code",
   "execution_count": 49,
   "id": "4211499f-5a16-47ab-84bf-25797de52c83",
   "metadata": {},
   "outputs": [
    {
     "data": {
      "text/html": [
       "<div>\n",
       "<style scoped>\n",
       "    .dataframe tbody tr th:only-of-type {\n",
       "        vertical-align: middle;\n",
       "    }\n",
       "\n",
       "    .dataframe tbody tr th {\n",
       "        vertical-align: top;\n",
       "    }\n",
       "\n",
       "    .dataframe thead th {\n",
       "        text-align: right;\n",
       "    }\n",
       "</style>\n",
       "<table border=\"1\" class=\"dataframe\">\n",
       "  <thead>\n",
       "    <tr style=\"text-align: right;\">\n",
       "      <th></th>\n",
       "      <th>Name</th>\n",
       "      <th>Age</th>\n",
       "    </tr>\n",
       "  </thead>\n",
       "  <tbody>\n",
       "    <tr>\n",
       "      <th>0</th>\n",
       "      <td>Charlie</td>\n",
       "      <td>35</td>\n",
       "    </tr>\n",
       "    <tr>\n",
       "      <th>1</th>\n",
       "      <td>Alice</td>\n",
       "      <td>25</td>\n",
       "    </tr>\n",
       "    <tr>\n",
       "      <th>2</th>\n",
       "      <td>Bob</td>\n",
       "      <td>30</td>\n",
       "    </tr>\n",
       "  </tbody>\n",
       "</table>\n",
       "</div>"
      ],
      "text/plain": [
       "      Name  Age\n",
       "0  Charlie   35\n",
       "1    Alice   25\n",
       "2      Bob   30"
      ]
     },
     "execution_count": 49,
     "metadata": {},
     "output_type": "execute_result"
    }
   ],
   "source": [
    "df"
   ]
  },
  {
   "cell_type": "code",
   "execution_count": 51,
   "id": "5485e897-f733-4210-83a2-a31b16fb0fb1",
   "metadata": {},
   "outputs": [
    {
     "data": {
      "text/html": [
       "<div>\n",
       "<style scoped>\n",
       "    .dataframe tbody tr th:only-of-type {\n",
       "        vertical-align: middle;\n",
       "    }\n",
       "\n",
       "    .dataframe tbody tr th {\n",
       "        vertical-align: top;\n",
       "    }\n",
       "\n",
       "    .dataframe thead th {\n",
       "        text-align: right;\n",
       "    }\n",
       "</style>\n",
       "<table border=\"1\" class=\"dataframe\">\n",
       "  <thead>\n",
       "    <tr style=\"text-align: right;\">\n",
       "      <th></th>\n",
       "      <th>Name</th>\n",
       "      <th>Age</th>\n",
       "    </tr>\n",
       "  </thead>\n",
       "  <tbody>\n",
       "    <tr>\n",
       "      <th>1</th>\n",
       "      <td>Alice</td>\n",
       "      <td>25</td>\n",
       "    </tr>\n",
       "    <tr>\n",
       "      <th>2</th>\n",
       "      <td>Bob</td>\n",
       "      <td>30</td>\n",
       "    </tr>\n",
       "    <tr>\n",
       "      <th>0</th>\n",
       "      <td>Charlie</td>\n",
       "      <td>35</td>\n",
       "    </tr>\n",
       "  </tbody>\n",
       "</table>\n",
       "</div>"
      ],
      "text/plain": [
       "      Name  Age\n",
       "1    Alice   25\n",
       "2      Bob   30\n",
       "0  Charlie   35"
      ]
     },
     "execution_count": 51,
     "metadata": {},
     "output_type": "execute_result"
    }
   ],
   "source": [
    "df.sort_values(by='Age')"
   ]
  },
  {
   "cell_type": "code",
   "execution_count": 53,
   "id": "75d1dbeb-a63a-4bba-9afd-b92df64eff90",
   "metadata": {},
   "outputs": [
    {
     "data": {
      "text/html": [
       "<div>\n",
       "<style scoped>\n",
       "    .dataframe tbody tr th:only-of-type {\n",
       "        vertical-align: middle;\n",
       "    }\n",
       "\n",
       "    .dataframe tbody tr th {\n",
       "        vertical-align: top;\n",
       "    }\n",
       "\n",
       "    .dataframe thead th {\n",
       "        text-align: right;\n",
       "    }\n",
       "</style>\n",
       "<table border=\"1\" class=\"dataframe\">\n",
       "  <thead>\n",
       "    <tr style=\"text-align: right;\">\n",
       "      <th></th>\n",
       "      <th>Name</th>\n",
       "      <th>Age</th>\n",
       "    </tr>\n",
       "  </thead>\n",
       "  <tbody>\n",
       "    <tr>\n",
       "      <th>0</th>\n",
       "      <td>Charlie</td>\n",
       "      <td>35</td>\n",
       "    </tr>\n",
       "    <tr>\n",
       "      <th>2</th>\n",
       "      <td>Bob</td>\n",
       "      <td>30</td>\n",
       "    </tr>\n",
       "    <tr>\n",
       "      <th>1</th>\n",
       "      <td>Alice</td>\n",
       "      <td>25</td>\n",
       "    </tr>\n",
       "  </tbody>\n",
       "</table>\n",
       "</div>"
      ],
      "text/plain": [
       "      Name  Age\n",
       "0  Charlie   35\n",
       "2      Bob   30\n",
       "1    Alice   25"
      ]
     },
     "execution_count": 53,
     "metadata": {},
     "output_type": "execute_result"
    }
   ],
   "source": [
    "df.sort_values(by='Age',  ascending=False)"
   ]
  },
  {
   "cell_type": "code",
   "execution_count": null,
   "id": "035bdf77-c86e-4a3e-8a37-fc92d5847d8e",
   "metadata": {},
   "outputs": [],
   "source": []
  },
  {
   "cell_type": "code",
   "execution_count": null,
   "id": "a32ba41c-ee41-416c-8a5d-e6eaacbd83aa",
   "metadata": {},
   "outputs": [],
   "source": []
  },
  {
   "cell_type": "code",
   "execution_count": null,
   "id": "2c93330c-68a7-4e5e-b847-893c3f87401f",
   "metadata": {},
   "outputs": [],
   "source": []
  }
 ],
 "metadata": {
  "kernelspec": {
   "display_name": "Python [conda env:base] *",
   "language": "python",
   "name": "conda-base-py"
  },
  "language_info": {
   "codemirror_mode": {
    "name": "ipython",
    "version": 3
   },
   "file_extension": ".py",
   "mimetype": "text/x-python",
   "name": "python",
   "nbconvert_exporter": "python",
   "pygments_lexer": "ipython3",
   "version": "3.12.7"
  }
 },
 "nbformat": 4,
 "nbformat_minor": 5
}
