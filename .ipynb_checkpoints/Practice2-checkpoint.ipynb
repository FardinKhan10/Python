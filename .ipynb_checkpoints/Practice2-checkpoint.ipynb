{
 "cells": [
  {
   "cell_type": "code",
   "execution_count": null,
   "id": "10f3a42a-4ebc-4f6c-ae1c-73612a2fd69d",
   "metadata": {},
   "outputs": [],
   "source": [
    "import pandas as pd\n",
    "import numpy as np\n",
    "import matplotlib.pyplot as plt\n",
    "import seaborn as sns"
   ]
  },
  {
   "cell_type": "code",
   "execution_count": null,
   "id": "c162ac6b-4555-4fb0-bdc1-091f004ed81c",
   "metadata": {},
   "outputs": [],
   "source": [
    "data = pd.read_csv('transaction_dataset.csv')"
   ]
  },
  {
   "cell_type": "code",
   "execution_count": null,
   "id": "d504754e-01d7-4ae8-b016-b4f72492fb9b",
   "metadata": {},
   "outputs": [],
   "source": []
  },
  {
   "cell_type": "code",
   "execution_count": null,
   "id": "fce1c4f2-5e7a-49e0-82fe-2865bf500f3b",
   "metadata": {},
   "outputs": [],
   "source": [
    "data.head()"
   ]
  },
  {
   "cell_type": "code",
   "execution_count": null,
   "id": "91e6983e-2794-4ef3-98af-cb5525e648e5",
   "metadata": {},
   "outputs": [],
   "source": [
    "data.info()"
   ]
  },
  {
   "cell_type": "code",
   "execution_count": null,
   "id": "acc191ff-97ec-44fb-a849-5cb046283ca0",
   "metadata": {},
   "outputs": [],
   "source": [
    "data['Location'].value_counts()"
   ]
  },
  {
   "cell_type": "code",
   "execution_count": null,
   "id": "99dab7a1-1c2f-4325-9ebe-bb3e6abffe4c",
   "metadata": {},
   "outputs": [],
   "source": [
    "# data dictionary\n",
    "# id - transaction id\n",
    "# date - transaction date\n",
    "# customer_id - unique customer\n",
    "# transaction_amount - the amount spent by the customer in a particular transaction\n",
    "# transaction_type - purchasing a product or transferring money\n",
    "# Payment_method - medium of making the transaction\n",
    "# account_balance - amount remaining in the customers wallet after making the transaction\n",
    "# category - category type of the product purchased\n",
    "# Location - where was the transaction made?\n",
    "# transaction_status - success/failure/pending"
   ]
  },
  {
   "cell_type": "code",
   "execution_count": null,
   "id": "97d1f899-f510-4b84-ba9a-6996e15a34d3",
   "metadata": {},
   "outputs": [],
   "source": [
    "# Insights that can be generated: EDA - exploratory data analysis\n",
    "\n",
    "# 1. Transaction trends over time Month on month analysis, week on week analysis, year on year analysis, daily trasaction count, average monthly transaction count.\n",
    "# 2. location wise analysis - Hotspots - (customer count > median customer count and transaction value > average transaction value)\n",
    "# 3. payment method analysis - in which payment type is there maximum failures,\n",
    "# 4. category analysis - average order value, median order value - pricing analysis\n",
    "# 5. purchasing power - average account balance + average order value\n",
    "# 6. Customer segmentation analysis - gold membership, silver membership, bronze membership. recency, frequency, monetary (RFM) - customer score - average/median\n",
    "# 7. "
   ]
  },
  {
   "cell_type": "code",
   "execution_count": null,
   "id": "8d84aa2a-961e-4d2a-bd3e-2ab1f6d1f52b",
   "metadata": {},
   "outputs": [],
   "source": [
    "# data['Date'] = pd.to_datetime(data['Date'], error = 'coerce') - this code will convert all the valid dates and set invalid dates to nall"
   ]
  },
  {
   "cell_type": "code",
   "execution_count": null,
   "id": "673d7e15-9f10-4580-8aba-809a30acd1ca",
   "metadata": {},
   "outputs": [],
   "source": [
    "data['Date_Modified_only_date'] = data['Date'].astype('datetime64[ms]')"
   ]
  },
  {
   "cell_type": "code",
   "execution_count": null,
   "id": "2c7c4a48-e963-4943-afc5-5112a9881607",
   "metadata": {},
   "outputs": [],
   "source": [
    "data.info()"
   ]
  },
  {
   "cell_type": "code",
   "execution_count": null,
   "id": "f57ffbdc-0889-4e89-960c-af2acc74d9c8",
   "metadata": {},
   "outputs": [],
   "source": [
    "# daily basis analysis - in which hour is there a peak in transactions"
   ]
  },
  {
   "cell_type": "code",
   "execution_count": null,
   "id": "2479cdfd-07ff-429a-a927-2652f8727d7d",
   "metadata": {},
   "outputs": [],
   "source": [
    "data['Transaction_month']=data['Date_Modified_only_date'].dt.month"
   ]
  },
  {
   "cell_type": "code",
   "execution_count": null,
   "id": "9890317c-21d7-445d-b52e-3203f91a4554",
   "metadata": {},
   "outputs": [],
   "source": [
    "data['Transaction_year']=data['Date_Modified_only_date'].dt.year"
   ]
  },
  {
   "cell_type": "code",
   "execution_count": null,
   "id": "6a2803c1-0423-47e9-bd08-4a826b3ccec0",
   "metadata": {},
   "outputs": [],
   "source": [
    "data['Transaction_week'] = data['Date_Modified_only_date'].dt.isocalendar().week"
   ]
  },
  {
   "cell_type": "code",
   "execution_count": null,
   "id": "b5619ffa-7eb3-4664-a276-6847c63d2e9f",
   "metadata": {},
   "outputs": [],
   "source": [
    "data['Month_year']=data['Date_Modified_only_date'].dt.strftime('%b-%Y') # example - jan-2023"
   ]
  },
  {
   "cell_type": "code",
   "execution_count": null,
   "id": "2ae2f1b8-bc2c-418e-bfdb-87d2afc84c8e",
   "metadata": {},
   "outputs": [],
   "source": [
    "data['Day_name']=data['Date_Modified_only_date'].dt.day_name()"
   ]
  },
  {
   "cell_type": "code",
   "execution_count": null,
   "id": "f54bd60c-cd5f-4a78-b3f5-db2c5199e39f",
   "metadata": {},
   "outputs": [],
   "source": [
    "data['Quarter'] = data['Date_Modified_only_date'].dt.quarter"
   ]
  },
  {
   "cell_type": "code",
   "execution_count": null,
   "id": "ca7babed-419a-4bd4-beea-2ced0d608a61",
   "metadata": {},
   "outputs": [],
   "source": [
    "data['Transaction_week'] = data['Date_Modified_only_date'].dt.quarter"
   ]
  },
  {
   "cell_type": "code",
   "execution_count": null,
   "id": "c4e25f61-c03c-4936-ad79-62a8b031bd03",
   "metadata": {},
   "outputs": [],
   "source": [
    "data['is_weekend'] = data['Date_Modified_only_date'].dt.weekday>= 5 # Return the day of the week as an integer 0-mon , 5-sat, 6-sun"
   ]
  },
  {
   "cell_type": "code",
   "execution_count": null,
   "id": "2f0c71cf-36a8-4442-8795-5d6fdd3612cc",
   "metadata": {},
   "outputs": [],
   "source": [
    "data['Transaction_hour'] = data['Date_Modified_only_date'].dt.hour"
   ]
  },
  {
   "cell_type": "code",
   "execution_count": null,
   "id": "3a77c472-5a80-4255-83af-e54e404bbf26",
   "metadata": {},
   "outputs": [],
   "source": [
    "data['Transaction_min'] = data['Date_Modified_only_date'].dt.minute"
   ]
  },
  {
   "cell_type": "code",
   "execution_count": null,
   "id": "86655546-ec23-4933-9956-fbf4dec2ab4e",
   "metadata": {},
   "outputs": [],
   "source": [
    "data1 = data.copy()"
   ]
  },
  {
   "cell_type": "code",
   "execution_count": null,
   "id": "3742f371-9e49-4059-bf59-1ffc61553f82",
   "metadata": {},
   "outputs": [],
   "source": []
  },
  {
   "cell_type": "code",
   "execution_count": null,
   "id": "712ff275-ce68-4805-99cd-7db79de7ea34",
   "metadata": {},
   "outputs": [],
   "source": [
    "data.head()"
   ]
  },
  {
   "cell_type": "code",
   "execution_count": null,
   "id": "d855fffc-2b2a-47a9-a6de-b58fa6230805",
   "metadata": {},
   "outputs": [],
   "source": [
    "data = data[data['Transaction_year'] <=2025]"
   ]
  },
  {
   "cell_type": "code",
   "execution_count": null,
   "id": "0827b2ba-d485-48b9-a86f-3bcbe8966ae5",
   "metadata": {},
   "outputs": [],
   "source": [
    "data['Transaction_year'].value_counts()"
   ]
  },
  {
   "cell_type": "code",
   "execution_count": null,
   "id": "9e08a314-0b9b-4059-8153-11c15320904a",
   "metadata": {},
   "outputs": [],
   "source": [
    "# how many customer transacted each year. plot the customer count in a bar graph "
   ]
  },
  {
   "cell_type": "code",
   "execution_count": null,
   "id": "98957a8f-69c3-4126-8954-2662dff2988a",
   "metadata": {},
   "outputs": [],
   "source": [
    "customer_counts_per_year = data.groupby(['Transaction_year'])['Customer_ID'].size().reset_index()"
   ]
  },
  {
   "cell_type": "code",
   "execution_count": null,
   "id": "575032a5-7250-46b7-91bb-3b074bf362b8",
   "metadata": {},
   "outputs": [],
   "source": [
    "customer_counts_per_year"
   ]
  },
  {
   "cell_type": "code",
   "execution_count": null,
   "id": "3b1162b4-6d95-4821-8208-7e0ed8d2bd08",
   "metadata": {},
   "outputs": [],
   "source": [
    "plt.bar(customer_counts_per_year['Transaction_year'], customer_counts_per_year['Customer_ID'], color='skyblue')\n",
    "plt.xlabel('Year')\n",
    "plt.ylabel('Number of Unique Customers')\n",
    "plt.title('Number of Customers Transacted Each Year')\n",
    "plt.show()"
   ]
  },
  {
   "cell_type": "code",
   "execution_count": null,
   "id": "2c49fac7-8327-4df8-a841-8c91ba205604",
   "metadata": {},
   "outputs": [],
   "source": [
    "# for each year, plot the monthly trend of average order value"
   ]
  },
  {
   "cell_type": "code",
   "execution_count": null,
   "id": "89b4e6ef-b76a-43ee-bcf3-a58966797fc0",
   "metadata": {},
   "outputs": [],
   "source": [
    "monthly_average_transaction_value = data.groupby(['Month_year'])['Transaction_Amount'].mean().reset_index()"
   ]
  },
  {
   "cell_type": "code",
   "execution_count": null,
   "id": "d1bf63ca-ba23-4376-9699-734d66a9b508",
   "metadata": {},
   "outputs": [],
   "source": [
    "monthly_average_transaction_value = monthly_average_transaction_value.rename(columns={'Transaction_Amount':'Monthly_Average'})"
   ]
  },
  {
   "cell_type": "code",
   "execution_count": null,
   "id": "111525e2-b7ee-4f1e-b8e4-bc8d8f937b2d",
   "metadata": {},
   "outputs": [],
   "source": [
    "monthly_average_transaction_value['Year'] = monthly_average_transaction_value['Month_year'].str.split('-').str[1]"
   ]
  },
  {
   "cell_type": "code",
   "execution_count": null,
   "id": "5cb6686e-3fba-4774-97b8-b05d5723d88a",
   "metadata": {},
   "outputs": [],
   "source": [
    "monthly_average_transaction_value"
   ]
  },
  {
   "cell_type": "code",
   "execution_count": null,
   "id": "2235425b-0a8f-445f-acc5-fb9bc14fed6c",
   "metadata": {},
   "outputs": [],
   "source": [
    "Year = list(set(monthly_average_transaction_value['Year'].tolist()))"
   ]
  },
  {
   "cell_type": "code",
   "execution_count": null,
   "id": "4f58678b-a36c-41e8-a604-1575c33cc8d0",
   "metadata": {},
   "outputs": [],
   "source": [
    "Year"
   ]
  },
  {
   "cell_type": "code",
   "execution_count": null,
   "id": "6126855e-c3b5-4b38-8fb0-b404caf852d1",
   "metadata": {},
   "outputs": [],
   "source": [
    "for y in Year:\n",
    "    df=monthly_average_transaction_value[monthly_average_transaction_value['Year']==y]\n",
    "    plt.figure(figsize=(12, 10))\n",
    "    plt.bar(df['Month_year'], df['Monthly_Average'])\n",
    "    plt.title(f'Monthly Average Transection Trand For The Year {y}')\n",
    "    plt.show()\n",
    "\n",
    "# sort bars in ascinding order (jan, feb, mar)"
   ]
  },
  {
   "cell_type": "code",
   "execution_count": null,
   "id": "06c6d33c-352b-4dc9-a192-7928ab9c4fce",
   "metadata": {},
   "outputs": [],
   "source": []
  },
  {
   "cell_type": "code",
   "execution_count": null,
   "id": "c570e142-6b27-4144-9b07-820bb83d0939",
   "metadata": {},
   "outputs": [],
   "source": []
  },
  {
   "cell_type": "code",
   "execution_count": null,
   "id": "c93bc70a-1beb-46cf-b4d9-28b9e965424d",
   "metadata": {},
   "outputs": [],
   "source": [
    "plt.figure(figsize=(50, 20))\n",
    "plt.bar(monthly_average_transaction_value['Month_year'], monthly_average_transaction_value['Monthly_Average'], color='skyblue')\n",
    "plt.show()"
   ]
  },
  {
   "cell_type": "code",
   "execution_count": null,
   "id": "dd8b71ae-a787-4c30-b9b7-4006db1c352b",
   "metadata": {},
   "outputs": [],
   "source": []
  },
  {
   "cell_type": "code",
   "execution_count": null,
   "id": "a25d5285-a828-4f38-a8c6-f9ae0f3133bd",
   "metadata": {},
   "outputs": [],
   "source": [
    "# for each year, display the week on week transaction value trend for each quarter 3 year 4 quarters\n",
    "# how many weeks are there in a quarter - 12\n",
    "# Get dataframe which has year, quarter, week, total transaction value"
   ]
  },
  {
   "cell_type": "code",
   "execution_count": null,
   "id": "3ad42ebe-90ba-43fd-8321-73ac5db7f8f6",
   "metadata": {},
   "outputs": [],
   "source": [
    "data.info()"
   ]
  },
  {
   "cell_type": "code",
   "execution_count": null,
   "id": "6e5700fc-8d2f-495e-8ff3-f926be312876",
   "metadata": {},
   "outputs": [],
   "source": [
    "df1 = data.groupby(['Transaction_year','Quarter','Transaction_week'])['Transaction_Amount'].sum().reset_index()"
   ]
  },
  {
   "cell_type": "code",
   "execution_count": null,
   "id": "2932fa2c-0dec-4f03-9a1f-149f3d2bfcde",
   "metadata": {},
   "outputs": [],
   "source": [
    "df1 = df1.rename(columns = {'Transaction_Amount':'Total_Transaction_Value'})"
   ]
  },
  {
   "cell_type": "code",
   "execution_count": null,
   "id": "fa0187d3-8ae6-4127-a82e-ac302a7bcd24",
   "metadata": {},
   "outputs": [],
   "source": [
    "df1"
   ]
  },
  {
   "cell_type": "code",
   "execution_count": null,
   "id": "14ac90fd-067d-4472-9723-006e83aacde7",
   "metadata": {},
   "outputs": [],
   "source": [
    "transacting_years = sorted(list(set(df1['Transaction_year'].tolist())))"
   ]
  },
  {
   "cell_type": "code",
   "execution_count": null,
   "id": "e395d905-ed11-4c44-b4f8-7b932d111552",
   "metadata": {},
   "outputs": [],
   "source": [
    "quarters = sorted(list(set(df1['Quarter'].tolist())))"
   ]
  },
  {
   "cell_type": "code",
   "execution_count": null,
   "id": "6ce2b73c-0374-4b9c-9d62-bdf3697edc61",
   "metadata": {},
   "outputs": [],
   "source": [
    "for year in transacting_years:\n",
    "    for quarter in quarters:\n",
    "        needed_df = df1[(df1['Transaction_year'] == year) & (df1['Quarter'] == quarter)]\n",
    "        plt.figure(figsize=(15, 15))\n",
    "        plt.bar(needed_df['Transaction_week'], needed_df['Total_Transaction_Value'])\n",
    "        plt.xticks(needed_df['Transaction_week'])\n",
    "        plt.title(f'Total value trend for the quarter {quarter} and year {year}')\n",
    "        plt.show()"
   ]
  },
  {
   "cell_type": "code",
   "execution_count": null,
   "id": "6d39820d-8f50-4e4c-9410-46786a765272",
   "metadata": {},
   "outputs": [],
   "source": [
    "# for each year and each month, find out the total transaction value trend day on day (monday,tuesday,...sunday) - 36 bar charts"
   ]
  },
  {
   "cell_type": "code",
   "execution_count": null,
   "id": "eb471a89-44fe-4cc0-a7be-6bdf4c6f4c65",
   "metadata": {},
   "outputs": [],
   "source": [
    "data1.info()"
   ]
  },
  {
   "cell_type": "code",
   "execution_count": null,
   "id": "22503abf-0561-4791-8473-841afedc7f19",
   "metadata": {},
   "outputs": [],
   "source": [
    "data1['month_name'] = data1['Date_Modified_only_date'].dt.strftime('%B') # month name\n",
    "data1['day_number'] = data1['Date_Modified_only_date'].dt.strftime('%w') # day number in a week"
   ]
  },
  {
   "cell_type": "code",
   "execution_count": null,
   "id": "0714ce3b-1c03-435e-a4f9-618d0499e477",
   "metadata": {},
   "outputs": [],
   "source": [
    "day_wise_df = data1.groupby(['Transaction_year','Transaction_month','month_name','Day_name','day_number'])['Transaction_Amount'].sum().reset_index()"
   ]
  },
  {
   "cell_type": "code",
   "execution_count": null,
   "id": "5cc9cdaa-3c1a-4180-a296-6c44f6aabdb8",
   "metadata": {},
   "outputs": [],
   "source": [
    "day_wise_df = day_wise_df.sort_values(by=['Transaction_year','Transaction_month','day_number'], ascending = True)"
   ]
  },
  {
   "cell_type": "code",
   "execution_count": null,
   "id": "d0c89342-d59f-460b-8133-689f6265701a",
   "metadata": {},
   "outputs": [],
   "source": [
    "transacting_years = sorted(list(set(data1['Transaction_year'].tolist())))"
   ]
  },
  {
   "cell_type": "code",
   "execution_count": null,
   "id": "87e41af5-0637-4031-88c9-7bd7262409b0",
   "metadata": {},
   "outputs": [],
   "source": [
    "month_numbers = sorted(list(set(data1['Transaction_month'].tolist())))"
   ]
  },
  {
   "cell_type": "code",
   "execution_count": null,
   "id": "4121e378-87f7-4ba8-a712-0cae9a434eb5",
   "metadata": {},
   "outputs": [],
   "source": [
    "for year in transacting_years:\n",
    "    for month in month_numbers:\n",
    "        needed = day_wise_df[(day_wise_df['Transaction_year']==year) & (day_wise_df['Transaction_month'])==month]\n",
    "        plt.bar(needed['Day_name'], needed['Transaction_Amount'])\n",
    "        plt.title(f'Total value trend for each day in the month of {month} and year {year}')\n",
    "        plt.show()"
   ]
  },
  {
   "cell_type": "code",
   "execution_count": null,
   "id": "a17ca4bc-45fe-470c-9328-5ddee1fb2775",
   "metadata": {},
   "outputs": [],
   "source": []
  },
  {
   "cell_type": "code",
   "execution_count": null,
   "id": "844f5fb9-5e06-4aba-bb90-990190ab706d",
   "metadata": {},
   "outputs": [],
   "source": []
  }
 ],
 "metadata": {
  "kernelspec": {
   "display_name": "Python [conda env:base] *",
   "language": "python",
   "name": "conda-base-py"
  },
  "language_info": {
   "codemirror_mode": {
    "name": "ipython",
    "version": 3
   },
   "file_extension": ".py",
   "mimetype": "text/x-python",
   "name": "python",
   "nbconvert_exporter": "python",
   "pygments_lexer": "ipython3",
   "version": "3.12.7"
  }
 },
 "nbformat": 4,
 "nbformat_minor": 5
}
