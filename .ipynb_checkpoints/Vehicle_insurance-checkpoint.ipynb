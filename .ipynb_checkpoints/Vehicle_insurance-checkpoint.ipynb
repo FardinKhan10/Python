{
 "cells": [
  {
   "cell_type": "code",
   "execution_count": 4,
   "id": "5bac3059-b990-4be5-86e0-58fe8e71418e",
   "metadata": {},
   "outputs": [],
   "source": [
    "import pandas as pd\n",
    "import numpy as np\n",
    "import matplotlib.pyplot as plt\n",
    "import seaborn as sns"
   ]
  },
  {
   "cell_type": "code",
   "execution_count": 6,
   "id": "46813505-3c45-49c6-aa39-d1e6b7b0bd05",
   "metadata": {},
   "outputs": [],
   "source": [
    "data = pd.read_csv('vehicle_insurance.csv')"
   ]
  },
  {
   "cell_type": "code",
   "execution_count": 10,
   "id": "84ba0ae1-e391-40d2-ad8a-14495831db73",
   "metadata": {},
   "outputs": [
    {
     "data": {
      "text/html": [
       "<div>\n",
       "<style scoped>\n",
       "    .dataframe tbody tr th:only-of-type {\n",
       "        vertical-align: middle;\n",
       "    }\n",
       "\n",
       "    .dataframe tbody tr th {\n",
       "        vertical-align: top;\n",
       "    }\n",
       "\n",
       "    .dataframe thead th {\n",
       "        text-align: right;\n",
       "    }\n",
       "</style>\n",
       "<table border=\"1\" class=\"dataframe\">\n",
       "  <thead>\n",
       "    <tr style=\"text-align: right;\">\n",
       "      <th></th>\n",
       "      <th>id</th>\n",
       "      <th>Gender</th>\n",
       "      <th>Age</th>\n",
       "      <th>Driving_License</th>\n",
       "      <th>Region_Code</th>\n",
       "      <th>Previously_Insured</th>\n",
       "      <th>Vehicle_Age</th>\n",
       "      <th>Vehicle_Damage</th>\n",
       "      <th>Annual_Premium</th>\n",
       "      <th>Policy_Sales_Channel</th>\n",
       "      <th>Vintage</th>\n",
       "      <th>Response</th>\n",
       "    </tr>\n",
       "  </thead>\n",
       "  <tbody>\n",
       "    <tr>\n",
       "      <th>0</th>\n",
       "      <td>1</td>\n",
       "      <td>Male</td>\n",
       "      <td>44</td>\n",
       "      <td>1</td>\n",
       "      <td>28.0</td>\n",
       "      <td>0</td>\n",
       "      <td>&gt; 2 Years</td>\n",
       "      <td>Yes</td>\n",
       "      <td>40454.0</td>\n",
       "      <td>26.0</td>\n",
       "      <td>217</td>\n",
       "      <td>1</td>\n",
       "    </tr>\n",
       "    <tr>\n",
       "      <th>1</th>\n",
       "      <td>2</td>\n",
       "      <td>Male</td>\n",
       "      <td>76</td>\n",
       "      <td>1</td>\n",
       "      <td>3.0</td>\n",
       "      <td>0</td>\n",
       "      <td>1-2 Year</td>\n",
       "      <td>No</td>\n",
       "      <td>33536.0</td>\n",
       "      <td>26.0</td>\n",
       "      <td>183</td>\n",
       "      <td>0</td>\n",
       "    </tr>\n",
       "    <tr>\n",
       "      <th>2</th>\n",
       "      <td>3</td>\n",
       "      <td>Male</td>\n",
       "      <td>47</td>\n",
       "      <td>1</td>\n",
       "      <td>28.0</td>\n",
       "      <td>0</td>\n",
       "      <td>&gt; 2 Years</td>\n",
       "      <td>Yes</td>\n",
       "      <td>38294.0</td>\n",
       "      <td>26.0</td>\n",
       "      <td>27</td>\n",
       "      <td>1</td>\n",
       "    </tr>\n",
       "    <tr>\n",
       "      <th>3</th>\n",
       "      <td>4</td>\n",
       "      <td>Male</td>\n",
       "      <td>21</td>\n",
       "      <td>1</td>\n",
       "      <td>11.0</td>\n",
       "      <td>1</td>\n",
       "      <td>&lt; 1 Year</td>\n",
       "      <td>No</td>\n",
       "      <td>28619.0</td>\n",
       "      <td>152.0</td>\n",
       "      <td>203</td>\n",
       "      <td>0</td>\n",
       "    </tr>\n",
       "    <tr>\n",
       "      <th>4</th>\n",
       "      <td>5</td>\n",
       "      <td>Female</td>\n",
       "      <td>29</td>\n",
       "      <td>1</td>\n",
       "      <td>41.0</td>\n",
       "      <td>1</td>\n",
       "      <td>&lt; 1 Year</td>\n",
       "      <td>No</td>\n",
       "      <td>27496.0</td>\n",
       "      <td>152.0</td>\n",
       "      <td>39</td>\n",
       "      <td>0</td>\n",
       "    </tr>\n",
       "  </tbody>\n",
       "</table>\n",
       "</div>"
      ],
      "text/plain": [
       "   id  Gender  Age  Driving_License  Region_Code  Previously_Insured  \\\n",
       "0   1    Male   44                1         28.0                   0   \n",
       "1   2    Male   76                1          3.0                   0   \n",
       "2   3    Male   47                1         28.0                   0   \n",
       "3   4    Male   21                1         11.0                   1   \n",
       "4   5  Female   29                1         41.0                   1   \n",
       "\n",
       "  Vehicle_Age Vehicle_Damage  Annual_Premium  Policy_Sales_Channel  Vintage  \\\n",
       "0   > 2 Years            Yes         40454.0                  26.0      217   \n",
       "1    1-2 Year             No         33536.0                  26.0      183   \n",
       "2   > 2 Years            Yes         38294.0                  26.0       27   \n",
       "3    < 1 Year             No         28619.0                 152.0      203   \n",
       "4    < 1 Year             No         27496.0                 152.0       39   \n",
       "\n",
       "   Response  \n",
       "0         1  \n",
       "1         0  \n",
       "2         1  \n",
       "3         0  \n",
       "4         0  "
      ]
     },
     "execution_count": 10,
     "metadata": {},
     "output_type": "execute_result"
    }
   ],
   "source": [
    "data.head()"
   ]
  },
  {
   "cell_type": "code",
   "execution_count": 8,
   "id": "9052237e-4250-42b4-8417-a7e2892ea881",
   "metadata": {},
   "outputs": [
    {
     "name": "stdout",
     "output_type": "stream",
     "text": [
      "<class 'pandas.core.frame.DataFrame'>\n",
      "RangeIndex: 381109 entries, 0 to 381108\n",
      "Data columns (total 12 columns):\n",
      " #   Column                Non-Null Count   Dtype  \n",
      "---  ------                --------------   -----  \n",
      " 0   id                    381109 non-null  int64  \n",
      " 1   Gender                381109 non-null  object \n",
      " 2   Age                   381109 non-null  int64  \n",
      " 3   Driving_License       381109 non-null  int64  \n",
      " 4   Region_Code           381109 non-null  float64\n",
      " 5   Previously_Insured    381109 non-null  int64  \n",
      " 6   Vehicle_Age           381109 non-null  object \n",
      " 7   Vehicle_Damage        381109 non-null  object \n",
      " 8   Annual_Premium        381109 non-null  float64\n",
      " 9   Policy_Sales_Channel  381109 non-null  float64\n",
      " 10  Vintage               381109 non-null  int64  \n",
      " 11  Response              381109 non-null  int64  \n",
      "dtypes: float64(3), int64(6), object(3)\n",
      "memory usage: 34.9+ MB\n"
     ]
    }
   ],
   "source": [
    "data.info()"
   ]
  },
  {
   "cell_type": "code",
   "execution_count": null,
   "id": "66749dda-7e75-482d-8b44-119084e7298d",
   "metadata": {},
   "outputs": [],
   "source": [
    "# data dictionary: (what is not obvious)\n",
    "\n",
    "# 1.Driving_License - binary (0 or 1)\n",
    "# 2.Region_Code - where is the customer is located\n",
    "# 3. Policy_Sales_Channel -  the sales channel through which the policy was marketed / sold\n",
    "# 4. vintage - number of days since the customer took the policy\n",
    "# 5. response - whether the customer purchased the insurance or not\n",
    "\n",
    "# sai age group vs insurance, gender opting for insurance policy, region code\n",
    "# swaroop License plays a robe in insurance\n",
    "# annual premium doesit play a role in opting for insurance groups of premiums\n",
    "# conversion rate (no of people opting for an insurance) / total no of people population\n",
    "# driving License rate % percentage of people haivng dl and opting for insurance\n",
    "# average vintage for insurance holders\n",
    "# region based metrics, premium based metrics, customer Level metrics, vintage / behavior metrics\n",
    "# Lift conversion rate of a group / overall conversion rate imp business model evaluation metric\n",
    "# ex: Lets say overall conversion rate is 15% and among customers whose vehicle is damaged the conversion is 30%\n",
    "# then the lift = 30%/15% 2. 2 means customers with vehicle damage are 2 times more likely to buy an insurance\n",
    "# compared an average customer\n",
    "# rank customers based on vintage, premium, age analye how they behave (that is if they buy the insurance or not)"
   ]
  },
  {
   "cell_type": "code",
   "execution_count": null,
   "id": "b7a7be98-0c16-46bb-a9c4-5d83c18e1588",
   "metadata": {},
   "outputs": [],
   "source": []
  },
  {
   "cell_type": "code",
   "execution_count": null,
   "id": "51d3c0fa-b08f-4f77-99e9-29f1d27666b8",
   "metadata": {},
   "outputs": [],
   "source": [
    "# Lift\n",
    "# overall conversion rate (no of peaple opting for an insurance) / total no of people"
   ]
  },
  {
   "cell_type": "code",
   "execution_count": 12,
   "id": "5e81105b-aa3c-44ce-9a84-1fa203703693",
   "metadata": {},
   "outputs": [
    {
     "data": {
      "text/plain": [
       "Response\n",
       "0    87.743664\n",
       "1    12.256336\n",
       "Name: proportion, dtype: float64"
      ]
     },
     "execution_count": 12,
     "metadata": {},
     "output_type": "execute_result"
    }
   ],
   "source": [
    "data['Response'].value_counts(normalize=True)*100"
   ]
  },
  {
   "cell_type": "code",
   "execution_count": null,
   "id": "92c00f97-a823-449e-99c0-08d2bf16ddb0",
   "metadata": {},
   "outputs": [],
   "source": [
    "# imbalanced dataset\n",
    "# target variable -response has imbalance in class\n",
    "# minority_class_count * 2 < majority_class_count - imbalanced"
   ]
  },
  {
   "cell_type": "code",
   "execution_count": null,
   "id": "9252373e-8733-485a-a715-3af1025ea2d0",
   "metadata": {},
   "outputs": [],
   "source": [
    "# overall conversion rate 12.25%"
   ]
  },
  {
   "cell_type": "code",
   "execution_count": 14,
   "id": "1ecc3607-fa6f-4de8-9e89-27f7db842b69",
   "metadata": {},
   "outputs": [],
   "source": [
    "df = data[data['Vehicle_Damage'] == 'Yes']"
   ]
  },
  {
   "cell_type": "code",
   "execution_count": 16,
   "id": "89f83611-32ca-41b0-99d5-89037f823b7e",
   "metadata": {},
   "outputs": [
    {
     "data": {
      "text/plain": [
       "Response\n",
       "0    87.743664\n",
       "1    12.256336\n",
       "Name: proportion, dtype: float64"
      ]
     },
     "execution_count": 16,
     "metadata": {},
     "output_type": "execute_result"
    }
   ],
   "source": [
    "data['Response'].value_counts(normalize=True)*100"
   ]
  },
  {
   "cell_type": "code",
   "execution_count": null,
   "id": "06b39b52-c510-47c0-b8bb-34047a003e35",
   "metadata": {},
   "outputs": [],
   "source": [
    "# conversion rate for all the customer whose vehicle is damaged = 23.76%"
   ]
  },
  {
   "cell_type": "code",
   "execution_count": 18,
   "id": "0bbe92c1-7886-44a8-8e6e-efb8059520e6",
   "metadata": {},
   "outputs": [],
   "source": [
    "lift = 23.76 / 12.25"
   ]
  },
  {
   "cell_type": "code",
   "execution_count": 20,
   "id": "31e7ad32-dacf-4a82-b5da-48be7eb31173",
   "metadata": {},
   "outputs": [
    {
     "data": {
      "text/plain": [
       "1.939591836734694"
      ]
     },
     "execution_count": 20,
     "metadata": {},
     "output_type": "execute_result"
    }
   ],
   "source": [
    "lift"
   ]
  },
  {
   "cell_type": "code",
   "execution_count": null,
   "id": "a8a525a0-14d5-4a68-851c-8c9b80a2c4d8",
   "metadata": {},
   "outputs": [],
   "source": [
    "# can you find age distribution and represent it garphcally"
   ]
  },
  {
   "cell_type": "code",
   "execution_count": null,
   "id": "8620bd83-42ac-4e16-a88a-86175255521e",
   "metadata": {},
   "outputs": [],
   "source": [
    "# all the remaining analysis is homework. after each analysis, write down the insight and check\n",
    "# if your analysis was helpful in improving the the business communication strategy"
   ]
  },
  {
   "cell_type": "code",
   "execution_count": null,
   "id": "6bb91411-1c92-4df7-89d1-c175a0ca017e",
   "metadata": {},
   "outputs": [],
   "source": []
  },
  {
   "cell_type": "code",
   "execution_count": null,
   "id": "a56981ee-2a0a-4aa4-8ea4-774fd5836d93",
   "metadata": {},
   "outputs": [],
   "source": []
  },
  {
   "cell_type": "code",
   "execution_count": null,
   "id": "86cadf9a-81be-431e-a83e-e7221641dc63",
   "metadata": {},
   "outputs": [],
   "source": []
  },
  {
   "cell_type": "code",
   "execution_count": null,
   "id": "138b6e88-eda4-4147-b623-ecff906f3603",
   "metadata": {},
   "outputs": [],
   "source": []
  }
 ],
 "metadata": {
  "kernelspec": {
   "display_name": "Python [conda env:base] *",
   "language": "python",
   "name": "conda-base-py"
  },
  "language_info": {
   "codemirror_mode": {
    "name": "ipython",
    "version": 3
   },
   "file_extension": ".py",
   "mimetype": "text/x-python",
   "name": "python",
   "nbconvert_exporter": "python",
   "pygments_lexer": "ipython3",
   "version": "3.12.7"
  }
 },
 "nbformat": 4,
 "nbformat_minor": 5
}
