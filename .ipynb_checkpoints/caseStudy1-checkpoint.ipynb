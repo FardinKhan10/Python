{
 "cells": [
  {
   "cell_type": "markdown",
   "id": "f934852f-8d0c-42a2-8d9c-8d43e272edc5",
   "metadata": {},
   "source": [
    "# Case Study 1"
   ]
  },
  {
   "cell_type": "markdown",
   "id": "307f5b73-7616-4a19-8ac0-2ebc43965456",
   "metadata": {},
   "source": [
    "#### IMPORT LIBRARIES"
   ]
  },
  {
   "cell_type": "code",
   "execution_count": 1,
   "id": "54f7d049-c994-4903-a3bf-25dc343e1500",
   "metadata": {},
   "outputs": [],
   "source": [
    "import pandas as pd\n",
    "import numpy as np\n",
    "import matplotlib.pyplot as plt\n",
    "import seaborn as sns"
   ]
  },
  {
   "cell_type": "markdown",
   "id": "9ea310c3-6b49-4068-befa-76ba2ae69301",
   "metadata": {},
   "source": [
    "### READ/LOAD THE FILE"
   ]
  },
  {
   "cell_type": "code",
   "execution_count": 2,
   "id": "c025b388-bfb6-4355-92dc-1d5db141b0de",
   "metadata": {},
   "outputs": [],
   "source": [
    "df = pd.read_csv(\"customer_churn_data.csv\")"
   ]
  },
  {
   "cell_type": "code",
   "execution_count": 8,
   "id": "7905af35-4e6b-4c78-ae0b-4d2ca3a91697",
   "metadata": {},
   "outputs": [
    {
     "data": {
      "text/html": [
       "<div>\n",
       "<style scoped>\n",
       "    .dataframe tbody tr th:only-of-type {\n",
       "        vertical-align: middle;\n",
       "    }\n",
       "\n",
       "    .dataframe tbody tr th {\n",
       "        vertical-align: top;\n",
       "    }\n",
       "\n",
       "    .dataframe thead th {\n",
       "        text-align: right;\n",
       "    }\n",
       "</style>\n",
       "<table border=\"1\" class=\"dataframe\">\n",
       "  <thead>\n",
       "    <tr style=\"text-align: right;\">\n",
       "      <th></th>\n",
       "      <th>year</th>\n",
       "      <th>customer_id</th>\n",
       "      <th>phone_no</th>\n",
       "      <th>gender</th>\n",
       "      <th>age</th>\n",
       "      <th>no_of_days_subscribed</th>\n",
       "      <th>multi_screen</th>\n",
       "      <th>mail_subscribed</th>\n",
       "      <th>weekly_mins_watched</th>\n",
       "      <th>minimum_daily_mins</th>\n",
       "      <th>maximum_daily_mins</th>\n",
       "      <th>weekly_max_night_mins</th>\n",
       "      <th>videos_watched</th>\n",
       "      <th>maximum_days_inactive</th>\n",
       "      <th>customer_support_calls</th>\n",
       "      <th>churn</th>\n",
       "    </tr>\n",
       "  </thead>\n",
       "  <tbody>\n",
       "    <tr>\n",
       "      <th>0</th>\n",
       "      <td>2015</td>\n",
       "      <td>100198</td>\n",
       "      <td>409-8743</td>\n",
       "      <td>Female</td>\n",
       "      <td>36</td>\n",
       "      <td>62</td>\n",
       "      <td>no</td>\n",
       "      <td>no</td>\n",
       "      <td>148.35</td>\n",
       "      <td>12.2</td>\n",
       "      <td>16.81</td>\n",
       "      <td>82</td>\n",
       "      <td>1</td>\n",
       "      <td>4.0</td>\n",
       "      <td>1</td>\n",
       "      <td>0.0</td>\n",
       "    </tr>\n",
       "    <tr>\n",
       "      <th>1</th>\n",
       "      <td>2015</td>\n",
       "      <td>100643</td>\n",
       "      <td>340-5930</td>\n",
       "      <td>Female</td>\n",
       "      <td>39</td>\n",
       "      <td>149</td>\n",
       "      <td>no</td>\n",
       "      <td>no</td>\n",
       "      <td>294.45</td>\n",
       "      <td>7.7</td>\n",
       "      <td>33.37</td>\n",
       "      <td>87</td>\n",
       "      <td>3</td>\n",
       "      <td>3.0</td>\n",
       "      <td>2</td>\n",
       "      <td>0.0</td>\n",
       "    </tr>\n",
       "    <tr>\n",
       "      <th>2</th>\n",
       "      <td>2015</td>\n",
       "      <td>100756</td>\n",
       "      <td>372-3750</td>\n",
       "      <td>Female</td>\n",
       "      <td>65</td>\n",
       "      <td>126</td>\n",
       "      <td>no</td>\n",
       "      <td>no</td>\n",
       "      <td>87.30</td>\n",
       "      <td>11.9</td>\n",
       "      <td>9.89</td>\n",
       "      <td>91</td>\n",
       "      <td>1</td>\n",
       "      <td>4.0</td>\n",
       "      <td>5</td>\n",
       "      <td>1.0</td>\n",
       "    </tr>\n",
       "    <tr>\n",
       "      <th>3</th>\n",
       "      <td>2015</td>\n",
       "      <td>101595</td>\n",
       "      <td>331-4902</td>\n",
       "      <td>Female</td>\n",
       "      <td>24</td>\n",
       "      <td>131</td>\n",
       "      <td>no</td>\n",
       "      <td>yes</td>\n",
       "      <td>321.30</td>\n",
       "      <td>9.5</td>\n",
       "      <td>36.41</td>\n",
       "      <td>102</td>\n",
       "      <td>4</td>\n",
       "      <td>3.0</td>\n",
       "      <td>3</td>\n",
       "      <td>0.0</td>\n",
       "    </tr>\n",
       "    <tr>\n",
       "      <th>4</th>\n",
       "      <td>2015</td>\n",
       "      <td>101653</td>\n",
       "      <td>351-8398</td>\n",
       "      <td>Female</td>\n",
       "      <td>40</td>\n",
       "      <td>191</td>\n",
       "      <td>no</td>\n",
       "      <td>no</td>\n",
       "      <td>243.00</td>\n",
       "      <td>10.9</td>\n",
       "      <td>27.54</td>\n",
       "      <td>83</td>\n",
       "      <td>7</td>\n",
       "      <td>3.0</td>\n",
       "      <td>1</td>\n",
       "      <td>0.0</td>\n",
       "    </tr>\n",
       "  </tbody>\n",
       "</table>\n",
       "</div>"
      ],
      "text/plain": [
       "   year  customer_id  phone_no  gender  age  no_of_days_subscribed  \\\n",
       "0  2015       100198  409-8743  Female   36                     62   \n",
       "1  2015       100643  340-5930  Female   39                    149   \n",
       "2  2015       100756  372-3750  Female   65                    126   \n",
       "3  2015       101595  331-4902  Female   24                    131   \n",
       "4  2015       101653  351-8398  Female   40                    191   \n",
       "\n",
       "  multi_screen mail_subscribed  weekly_mins_watched  minimum_daily_mins  \\\n",
       "0           no              no               148.35                12.2   \n",
       "1           no              no               294.45                 7.7   \n",
       "2           no              no                87.30                11.9   \n",
       "3           no             yes               321.30                 9.5   \n",
       "4           no              no               243.00                10.9   \n",
       "\n",
       "   maximum_daily_mins  weekly_max_night_mins  videos_watched  \\\n",
       "0               16.81                     82               1   \n",
       "1               33.37                     87               3   \n",
       "2                9.89                     91               1   \n",
       "3               36.41                    102               4   \n",
       "4               27.54                     83               7   \n",
       "\n",
       "   maximum_days_inactive  customer_support_calls  churn  \n",
       "0                    4.0                       1    0.0  \n",
       "1                    3.0                       2    0.0  \n",
       "2                    4.0                       5    1.0  \n",
       "3                    3.0                       3    0.0  \n",
       "4                    3.0                       1    0.0  "
      ]
     },
     "execution_count": 8,
     "metadata": {},
     "output_type": "execute_result"
    }
   ],
   "source": [
    "df.head()\n"
   ]
  },
  {
   "cell_type": "code",
   "execution_count": 10,
   "id": "d92dc69c-2a0f-43a5-a232-820410243a27",
   "metadata": {},
   "outputs": [
    {
     "data": {
      "text/plain": [
       "Index(['year', 'customer_id', 'phone_no', 'gender', 'age',\n",
       "       'no_of_days_subscribed', 'multi_screen', 'mail_subscribed',\n",
       "       'weekly_mins_watched', 'minimum_daily_mins', 'maximum_daily_mins',\n",
       "       'weekly_max_night_mins', 'videos_watched', 'maximum_days_inactive',\n",
       "       'customer_support_calls', 'churn'],\n",
       "      dtype='object')"
      ]
     },
     "execution_count": 10,
     "metadata": {},
     "output_type": "execute_result"
    }
   ],
   "source": [
    "# View all columns\n",
    "df.columns"
   ]
  },
  {
   "cell_type": "code",
   "execution_count": 18,
   "id": "6d8b0297-164f-4eba-9d2a-cf4ec8d4e10b",
   "metadata": {},
   "outputs": [
    {
     "data": {
      "text/plain": [
       "0       0.0\n",
       "1       0.0\n",
       "2       1.0\n",
       "3       0.0\n",
       "4       0.0\n",
       "       ... \n",
       "1995    NaN\n",
       "1996    0.0\n",
       "1997    0.0\n",
       "1998    0.0\n",
       "1999    1.0\n",
       "Name: churn, Length: 2000, dtype: float64"
      ]
     },
     "execution_count": 18,
     "metadata": {},
     "output_type": "execute_result"
    }
   ],
   "source": [
    "# To check unique values of a column\n",
    "df['churn']"
   ]
  },
  {
   "cell_type": "code",
   "execution_count": 20,
   "id": "932d2f6a-4fb5-4456-950d-047fb35556fd",
   "metadata": {},
   "outputs": [
    {
     "data": {
      "text/plain": [
       "array([ 0.,  1., nan])"
      ]
     },
     "execution_count": 20,
     "metadata": {},
     "output_type": "execute_result"
    }
   ],
   "source": [
    "df['churn'].unique()"
   ]
  },
  {
   "cell_type": "code",
   "execution_count": null,
   "id": "814b9430-237e-4e13-8c8b-88da59fbda62",
   "metadata": {},
   "outputs": [],
   "source": [
    "0 -> Active/Subscriber\n",
    "1 -> Unsubscriber/Left Subscribtion/Cancel\n",
    "nan -> Missing Value"
   ]
  },
  {
   "cell_type": "code",
   "execution_count": 24,
   "id": "536d9195-3e47-43ca-98b6-e05b09a9b32c",
   "metadata": {},
   "outputs": [
    {
     "data": {
      "text/plain": [
       "churn\n",
       "0.0    1703\n",
       "1.0     262\n",
       "Name: count, dtype: int64"
      ]
     },
     "execution_count": 24,
     "metadata": {},
     "output_type": "execute_result"
    }
   ],
   "source": [
    "#COUNT OF VALUES\n",
    "df['churn'].value_counts()"
   ]
  },
  {
   "cell_type": "code",
   "execution_count": 26,
   "id": "06ebe36d-6fe6-47d4-89be-8bd9a9482e5f",
   "metadata": {},
   "outputs": [
    {
     "data": {
      "text/plain": [
       "churn\n",
       "0.0    1703\n",
       "1.0     262\n",
       "NaN      35\n",
       "Name: count, dtype: int64"
      ]
     },
     "execution_count": 26,
     "metadata": {},
     "output_type": "execute_result"
    }
   ],
   "source": [
    "df['churn'].value_counts(dropna=False)"
   ]
  },
  {
   "cell_type": "code",
   "execution_count": 28,
   "id": "13696b83-7807-4537-a034-9dccff656afd",
   "metadata": {},
   "outputs": [
    {
     "data": {
      "text/plain": [
       "churn\n",
       "0.0    0.8515\n",
       "1.0    0.1310\n",
       "NaN    0.0175\n",
       "Name: proportion, dtype: float64"
      ]
     },
     "execution_count": 28,
     "metadata": {},
     "output_type": "execute_result"
    }
   ],
   "source": [
    "# NORMALISATION\n",
    "df['churn'].value_counts(dropna=False, normalize=True)"
   ]
  },
  {
   "cell_type": "code",
   "execution_count": 30,
   "id": "9c8f6af8-1187-4229-b3d2-f23979ce7b85",
   "metadata": {},
   "outputs": [
    {
     "data": {
      "text/plain": [
       "churn\n",
       "0.0    85.15\n",
       "1.0    13.10\n",
       "NaN     1.75\n",
       "Name: proportion, dtype: float64"
      ]
     },
     "execution_count": 30,
     "metadata": {},
     "output_type": "execute_result"
    }
   ],
   "source": [
    "df['churn'].value_counts(dropna=False, normalize=True)*100"
   ]
  },
  {
   "cell_type": "markdown",
   "id": "6df66a15-5476-4f59-8a4d-283e4ca954b2",
   "metadata": {},
   "source": [
    "### Information About Data"
   ]
  },
  {
   "cell_type": "code",
   "execution_count": 35,
   "id": "ae50f61e-82ea-4a25-82ff-18708a708e4a",
   "metadata": {},
   "outputs": [
    {
     "name": "stdout",
     "output_type": "stream",
     "text": [
      "<class 'pandas.core.frame.DataFrame'>\n",
      "RangeIndex: 2000 entries, 0 to 1999\n",
      "Data columns (total 16 columns):\n",
      " #   Column                  Non-Null Count  Dtype  \n",
      "---  ------                  --------------  -----  \n",
      " 0   year                    2000 non-null   int64  \n",
      " 1   customer_id             2000 non-null   int64  \n",
      " 2   phone_no                2000 non-null   object \n",
      " 3   gender                  1976 non-null   object \n",
      " 4   age                     2000 non-null   int64  \n",
      " 5   no_of_days_subscribed   2000 non-null   int64  \n",
      " 6   multi_screen            2000 non-null   object \n",
      " 7   mail_subscribed         2000 non-null   object \n",
      " 8   weekly_mins_watched     2000 non-null   float64\n",
      " 9   minimum_daily_mins      2000 non-null   float64\n",
      " 10  maximum_daily_mins      2000 non-null   float64\n",
      " 11  weekly_max_night_mins   2000 non-null   int64  \n",
      " 12  videos_watched          2000 non-null   int64  \n",
      " 13  maximum_days_inactive   1972 non-null   float64\n",
      " 14  customer_support_calls  2000 non-null   int64  \n",
      " 15  churn                   1965 non-null   float64\n",
      "dtypes: float64(5), int64(7), object(4)\n",
      "memory usage: 250.1+ KB\n"
     ]
    }
   ],
   "source": [
    "df.info()"
   ]
  },
  {
   "cell_type": "markdown",
   "id": "a287e7c8-72dc-470c-8910-0c0410675f48",
   "metadata": {},
   "source": [
    "### Missing value analysis"
   ]
  },
  {
   "cell_type": "code",
   "execution_count": 39,
   "id": "c5fefb0c-83e2-4e80-82f6-035c8ca5e3b9",
   "metadata": {},
   "outputs": [
    {
     "data": {
      "text/html": [
       "<div>\n",
       "<style scoped>\n",
       "    .dataframe tbody tr th:only-of-type {\n",
       "        vertical-align: middle;\n",
       "    }\n",
       "\n",
       "    .dataframe tbody tr th {\n",
       "        vertical-align: top;\n",
       "    }\n",
       "\n",
       "    .dataframe thead th {\n",
       "        text-align: right;\n",
       "    }\n",
       "</style>\n",
       "<table border=\"1\" class=\"dataframe\">\n",
       "  <thead>\n",
       "    <tr style=\"text-align: right;\">\n",
       "      <th></th>\n",
       "      <th>year</th>\n",
       "      <th>customer_id</th>\n",
       "      <th>phone_no</th>\n",
       "      <th>gender</th>\n",
       "      <th>age</th>\n",
       "      <th>no_of_days_subscribed</th>\n",
       "      <th>multi_screen</th>\n",
       "      <th>mail_subscribed</th>\n",
       "      <th>weekly_mins_watched</th>\n",
       "      <th>minimum_daily_mins</th>\n",
       "      <th>maximum_daily_mins</th>\n",
       "      <th>weekly_max_night_mins</th>\n",
       "      <th>videos_watched</th>\n",
       "      <th>maximum_days_inactive</th>\n",
       "      <th>customer_support_calls</th>\n",
       "      <th>churn</th>\n",
       "    </tr>\n",
       "  </thead>\n",
       "  <tbody>\n",
       "    <tr>\n",
       "      <th>0</th>\n",
       "      <td>False</td>\n",
       "      <td>False</td>\n",
       "      <td>False</td>\n",
       "      <td>False</td>\n",
       "      <td>False</td>\n",
       "      <td>False</td>\n",
       "      <td>False</td>\n",
       "      <td>False</td>\n",
       "      <td>False</td>\n",
       "      <td>False</td>\n",
       "      <td>False</td>\n",
       "      <td>False</td>\n",
       "      <td>False</td>\n",
       "      <td>False</td>\n",
       "      <td>False</td>\n",
       "      <td>False</td>\n",
       "    </tr>\n",
       "    <tr>\n",
       "      <th>1</th>\n",
       "      <td>False</td>\n",
       "      <td>False</td>\n",
       "      <td>False</td>\n",
       "      <td>False</td>\n",
       "      <td>False</td>\n",
       "      <td>False</td>\n",
       "      <td>False</td>\n",
       "      <td>False</td>\n",
       "      <td>False</td>\n",
       "      <td>False</td>\n",
       "      <td>False</td>\n",
       "      <td>False</td>\n",
       "      <td>False</td>\n",
       "      <td>False</td>\n",
       "      <td>False</td>\n",
       "      <td>False</td>\n",
       "    </tr>\n",
       "    <tr>\n",
       "      <th>2</th>\n",
       "      <td>False</td>\n",
       "      <td>False</td>\n",
       "      <td>False</td>\n",
       "      <td>False</td>\n",
       "      <td>False</td>\n",
       "      <td>False</td>\n",
       "      <td>False</td>\n",
       "      <td>False</td>\n",
       "      <td>False</td>\n",
       "      <td>False</td>\n",
       "      <td>False</td>\n",
       "      <td>False</td>\n",
       "      <td>False</td>\n",
       "      <td>False</td>\n",
       "      <td>False</td>\n",
       "      <td>False</td>\n",
       "    </tr>\n",
       "    <tr>\n",
       "      <th>3</th>\n",
       "      <td>False</td>\n",
       "      <td>False</td>\n",
       "      <td>False</td>\n",
       "      <td>False</td>\n",
       "      <td>False</td>\n",
       "      <td>False</td>\n",
       "      <td>False</td>\n",
       "      <td>False</td>\n",
       "      <td>False</td>\n",
       "      <td>False</td>\n",
       "      <td>False</td>\n",
       "      <td>False</td>\n",
       "      <td>False</td>\n",
       "      <td>False</td>\n",
       "      <td>False</td>\n",
       "      <td>False</td>\n",
       "    </tr>\n",
       "    <tr>\n",
       "      <th>4</th>\n",
       "      <td>False</td>\n",
       "      <td>False</td>\n",
       "      <td>False</td>\n",
       "      <td>False</td>\n",
       "      <td>False</td>\n",
       "      <td>False</td>\n",
       "      <td>False</td>\n",
       "      <td>False</td>\n",
       "      <td>False</td>\n",
       "      <td>False</td>\n",
       "      <td>False</td>\n",
       "      <td>False</td>\n",
       "      <td>False</td>\n",
       "      <td>False</td>\n",
       "      <td>False</td>\n",
       "      <td>False</td>\n",
       "    </tr>\n",
       "    <tr>\n",
       "      <th>...</th>\n",
       "      <td>...</td>\n",
       "      <td>...</td>\n",
       "      <td>...</td>\n",
       "      <td>...</td>\n",
       "      <td>...</td>\n",
       "      <td>...</td>\n",
       "      <td>...</td>\n",
       "      <td>...</td>\n",
       "      <td>...</td>\n",
       "      <td>...</td>\n",
       "      <td>...</td>\n",
       "      <td>...</td>\n",
       "      <td>...</td>\n",
       "      <td>...</td>\n",
       "      <td>...</td>\n",
       "      <td>...</td>\n",
       "    </tr>\n",
       "    <tr>\n",
       "      <th>1995</th>\n",
       "      <td>False</td>\n",
       "      <td>False</td>\n",
       "      <td>False</td>\n",
       "      <td>False</td>\n",
       "      <td>False</td>\n",
       "      <td>False</td>\n",
       "      <td>False</td>\n",
       "      <td>False</td>\n",
       "      <td>False</td>\n",
       "      <td>False</td>\n",
       "      <td>False</td>\n",
       "      <td>False</td>\n",
       "      <td>False</td>\n",
       "      <td>False</td>\n",
       "      <td>False</td>\n",
       "      <td>True</td>\n",
       "    </tr>\n",
       "    <tr>\n",
       "      <th>1996</th>\n",
       "      <td>False</td>\n",
       "      <td>False</td>\n",
       "      <td>False</td>\n",
       "      <td>False</td>\n",
       "      <td>False</td>\n",
       "      <td>False</td>\n",
       "      <td>False</td>\n",
       "      <td>False</td>\n",
       "      <td>False</td>\n",
       "      <td>False</td>\n",
       "      <td>False</td>\n",
       "      <td>False</td>\n",
       "      <td>False</td>\n",
       "      <td>False</td>\n",
       "      <td>False</td>\n",
       "      <td>False</td>\n",
       "    </tr>\n",
       "    <tr>\n",
       "      <th>1997</th>\n",
       "      <td>False</td>\n",
       "      <td>False</td>\n",
       "      <td>False</td>\n",
       "      <td>True</td>\n",
       "      <td>False</td>\n",
       "      <td>False</td>\n",
       "      <td>False</td>\n",
       "      <td>False</td>\n",
       "      <td>False</td>\n",
       "      <td>False</td>\n",
       "      <td>False</td>\n",
       "      <td>False</td>\n",
       "      <td>False</td>\n",
       "      <td>False</td>\n",
       "      <td>False</td>\n",
       "      <td>False</td>\n",
       "    </tr>\n",
       "    <tr>\n",
       "      <th>1998</th>\n",
       "      <td>False</td>\n",
       "      <td>False</td>\n",
       "      <td>False</td>\n",
       "      <td>False</td>\n",
       "      <td>False</td>\n",
       "      <td>False</td>\n",
       "      <td>False</td>\n",
       "      <td>False</td>\n",
       "      <td>False</td>\n",
       "      <td>False</td>\n",
       "      <td>False</td>\n",
       "      <td>False</td>\n",
       "      <td>False</td>\n",
       "      <td>True</td>\n",
       "      <td>False</td>\n",
       "      <td>False</td>\n",
       "    </tr>\n",
       "    <tr>\n",
       "      <th>1999</th>\n",
       "      <td>False</td>\n",
       "      <td>False</td>\n",
       "      <td>False</td>\n",
       "      <td>False</td>\n",
       "      <td>False</td>\n",
       "      <td>False</td>\n",
       "      <td>False</td>\n",
       "      <td>False</td>\n",
       "      <td>False</td>\n",
       "      <td>False</td>\n",
       "      <td>False</td>\n",
       "      <td>False</td>\n",
       "      <td>False</td>\n",
       "      <td>False</td>\n",
       "      <td>False</td>\n",
       "      <td>False</td>\n",
       "    </tr>\n",
       "  </tbody>\n",
       "</table>\n",
       "<p>2000 rows × 16 columns</p>\n",
       "</div>"
      ],
      "text/plain": [
       "       year  customer_id  phone_no  gender    age  no_of_days_subscribed  \\\n",
       "0     False        False     False   False  False                  False   \n",
       "1     False        False     False   False  False                  False   \n",
       "2     False        False     False   False  False                  False   \n",
       "3     False        False     False   False  False                  False   \n",
       "4     False        False     False   False  False                  False   \n",
       "...     ...          ...       ...     ...    ...                    ...   \n",
       "1995  False        False     False   False  False                  False   \n",
       "1996  False        False     False   False  False                  False   \n",
       "1997  False        False     False    True  False                  False   \n",
       "1998  False        False     False   False  False                  False   \n",
       "1999  False        False     False   False  False                  False   \n",
       "\n",
       "      multi_screen  mail_subscribed  weekly_mins_watched  minimum_daily_mins  \\\n",
       "0            False            False                False               False   \n",
       "1            False            False                False               False   \n",
       "2            False            False                False               False   \n",
       "3            False            False                False               False   \n",
       "4            False            False                False               False   \n",
       "...            ...              ...                  ...                 ...   \n",
       "1995         False            False                False               False   \n",
       "1996         False            False                False               False   \n",
       "1997         False            False                False               False   \n",
       "1998         False            False                False               False   \n",
       "1999         False            False                False               False   \n",
       "\n",
       "      maximum_daily_mins  weekly_max_night_mins  videos_watched  \\\n",
       "0                  False                  False           False   \n",
       "1                  False                  False           False   \n",
       "2                  False                  False           False   \n",
       "3                  False                  False           False   \n",
       "4                  False                  False           False   \n",
       "...                  ...                    ...             ...   \n",
       "1995               False                  False           False   \n",
       "1996               False                  False           False   \n",
       "1997               False                  False           False   \n",
       "1998               False                  False           False   \n",
       "1999               False                  False           False   \n",
       "\n",
       "      maximum_days_inactive  customer_support_calls  churn  \n",
       "0                     False                   False  False  \n",
       "1                     False                   False  False  \n",
       "2                     False                   False  False  \n",
       "3                     False                   False  False  \n",
       "4                     False                   False  False  \n",
       "...                     ...                     ...    ...  \n",
       "1995                  False                   False   True  \n",
       "1996                  False                   False  False  \n",
       "1997                  False                   False  False  \n",
       "1998                   True                   False  False  \n",
       "1999                  False                   False  False  \n",
       "\n",
       "[2000 rows x 16 columns]"
      ]
     },
     "execution_count": 39,
     "metadata": {},
     "output_type": "execute_result"
    }
   ],
   "source": [
    "df.isnull()"
   ]
  },
  {
   "cell_type": "code",
   "execution_count": 41,
   "id": "1412baa4-05f5-476a-9a1d-018cfb7a76be",
   "metadata": {},
   "outputs": [
    {
     "data": {
      "text/plain": [
       "year                       0\n",
       "customer_id                0\n",
       "phone_no                   0\n",
       "gender                    24\n",
       "age                        0\n",
       "no_of_days_subscribed      0\n",
       "multi_screen               0\n",
       "mail_subscribed            0\n",
       "weekly_mins_watched        0\n",
       "minimum_daily_mins         0\n",
       "maximum_daily_mins         0\n",
       "weekly_max_night_mins      0\n",
       "videos_watched             0\n",
       "maximum_days_inactive     28\n",
       "customer_support_calls     0\n",
       "churn                     35\n",
       "dtype: int64"
      ]
     },
     "execution_count": 41,
     "metadata": {},
     "output_type": "execute_result"
    }
   ],
   "source": [
    "df.isnull().sum()"
   ]
  },
  {
   "cell_type": "markdown",
   "id": "1ec079f9-ec1d-404e-8791-6c803bb45fac",
   "metadata": {},
   "source": [
    "### There are 3 columns for which data is missing\n",
    "\n",
    "- gender\n",
    "- maximum_days_inactive\n",
    "- churn"
   ]
  },
  {
   "cell_type": "markdown",
   "id": "e30d323f-09aa-4c8b-acf0-42e3e6d35cf9",
   "metadata": {},
   "source": [
    "### DESCRIBE"
   ]
  },
  {
   "cell_type": "code",
   "execution_count": 48,
   "id": "31fe831b-85ea-442c-a92d-7873989159fa",
   "metadata": {},
   "outputs": [
    {
     "data": {
      "text/html": [
       "<div>\n",
       "<style scoped>\n",
       "    .dataframe tbody tr th:only-of-type {\n",
       "        vertical-align: middle;\n",
       "    }\n",
       "\n",
       "    .dataframe tbody tr th {\n",
       "        vertical-align: top;\n",
       "    }\n",
       "\n",
       "    .dataframe thead th {\n",
       "        text-align: right;\n",
       "    }\n",
       "</style>\n",
       "<table border=\"1\" class=\"dataframe\">\n",
       "  <thead>\n",
       "    <tr style=\"text-align: right;\">\n",
       "      <th></th>\n",
       "      <th>year</th>\n",
       "      <th>customer_id</th>\n",
       "      <th>age</th>\n",
       "      <th>no_of_days_subscribed</th>\n",
       "      <th>weekly_mins_watched</th>\n",
       "      <th>minimum_daily_mins</th>\n",
       "      <th>maximum_daily_mins</th>\n",
       "      <th>weekly_max_night_mins</th>\n",
       "      <th>videos_watched</th>\n",
       "      <th>maximum_days_inactive</th>\n",
       "      <th>customer_support_calls</th>\n",
       "      <th>churn</th>\n",
       "    </tr>\n",
       "  </thead>\n",
       "  <tbody>\n",
       "    <tr>\n",
       "      <th>count</th>\n",
       "      <td>2000.0</td>\n",
       "      <td>2000.000000</td>\n",
       "      <td>2000.00000</td>\n",
       "      <td>2000.000000</td>\n",
       "      <td>2000.000000</td>\n",
       "      <td>2000.000000</td>\n",
       "      <td>2000.000000</td>\n",
       "      <td>2000.000000</td>\n",
       "      <td>2000.000000</td>\n",
       "      <td>1972.000000</td>\n",
       "      <td>2000.000000</td>\n",
       "      <td>1965.000000</td>\n",
       "    </tr>\n",
       "    <tr>\n",
       "      <th>mean</th>\n",
       "      <td>2015.0</td>\n",
       "      <td>554887.157500</td>\n",
       "      <td>38.69050</td>\n",
       "      <td>99.750000</td>\n",
       "      <td>270.178425</td>\n",
       "      <td>10.198700</td>\n",
       "      <td>30.620780</td>\n",
       "      <td>100.415500</td>\n",
       "      <td>4.482500</td>\n",
       "      <td>3.250507</td>\n",
       "      <td>1.547000</td>\n",
       "      <td>0.133333</td>\n",
       "    </tr>\n",
       "    <tr>\n",
       "      <th>std</th>\n",
       "      <td>0.0</td>\n",
       "      <td>261033.690318</td>\n",
       "      <td>10.20641</td>\n",
       "      <td>39.755386</td>\n",
       "      <td>80.551627</td>\n",
       "      <td>2.785519</td>\n",
       "      <td>9.129165</td>\n",
       "      <td>19.529454</td>\n",
       "      <td>2.487728</td>\n",
       "      <td>0.809084</td>\n",
       "      <td>1.315164</td>\n",
       "      <td>0.340021</td>\n",
       "    </tr>\n",
       "    <tr>\n",
       "      <th>min</th>\n",
       "      <td>2015.0</td>\n",
       "      <td>100198.000000</td>\n",
       "      <td>18.00000</td>\n",
       "      <td>1.000000</td>\n",
       "      <td>0.000000</td>\n",
       "      <td>0.000000</td>\n",
       "      <td>0.000000</td>\n",
       "      <td>42.000000</td>\n",
       "      <td>0.000000</td>\n",
       "      <td>0.000000</td>\n",
       "      <td>0.000000</td>\n",
       "      <td>0.000000</td>\n",
       "    </tr>\n",
       "    <tr>\n",
       "      <th>25%</th>\n",
       "      <td>2015.0</td>\n",
       "      <td>328634.750000</td>\n",
       "      <td>32.00000</td>\n",
       "      <td>73.000000</td>\n",
       "      <td>218.212500</td>\n",
       "      <td>8.400000</td>\n",
       "      <td>24.735000</td>\n",
       "      <td>87.000000</td>\n",
       "      <td>3.000000</td>\n",
       "      <td>3.000000</td>\n",
       "      <td>1.000000</td>\n",
       "      <td>0.000000</td>\n",
       "    </tr>\n",
       "    <tr>\n",
       "      <th>50%</th>\n",
       "      <td>2015.0</td>\n",
       "      <td>567957.500000</td>\n",
       "      <td>37.00000</td>\n",
       "      <td>99.000000</td>\n",
       "      <td>269.925000</td>\n",
       "      <td>10.200000</td>\n",
       "      <td>30.590000</td>\n",
       "      <td>101.000000</td>\n",
       "      <td>4.000000</td>\n",
       "      <td>3.000000</td>\n",
       "      <td>1.000000</td>\n",
       "      <td>0.000000</td>\n",
       "    </tr>\n",
       "    <tr>\n",
       "      <th>75%</th>\n",
       "      <td>2015.0</td>\n",
       "      <td>773280.250000</td>\n",
       "      <td>44.00000</td>\n",
       "      <td>127.000000</td>\n",
       "      <td>324.675000</td>\n",
       "      <td>12.000000</td>\n",
       "      <td>36.797500</td>\n",
       "      <td>114.000000</td>\n",
       "      <td>6.000000</td>\n",
       "      <td>4.000000</td>\n",
       "      <td>2.000000</td>\n",
       "      <td>0.000000</td>\n",
       "    </tr>\n",
       "    <tr>\n",
       "      <th>max</th>\n",
       "      <td>2015.0</td>\n",
       "      <td>999961.000000</td>\n",
       "      <td>82.00000</td>\n",
       "      <td>243.000000</td>\n",
       "      <td>526.200000</td>\n",
       "      <td>20.000000</td>\n",
       "      <td>59.640000</td>\n",
       "      <td>175.000000</td>\n",
       "      <td>19.000000</td>\n",
       "      <td>6.000000</td>\n",
       "      <td>9.000000</td>\n",
       "      <td>1.000000</td>\n",
       "    </tr>\n",
       "  </tbody>\n",
       "</table>\n",
       "</div>"
      ],
      "text/plain": [
       "         year    customer_id         age  no_of_days_subscribed  \\\n",
       "count  2000.0    2000.000000  2000.00000            2000.000000   \n",
       "mean   2015.0  554887.157500    38.69050              99.750000   \n",
       "std       0.0  261033.690318    10.20641              39.755386   \n",
       "min    2015.0  100198.000000    18.00000               1.000000   \n",
       "25%    2015.0  328634.750000    32.00000              73.000000   \n",
       "50%    2015.0  567957.500000    37.00000              99.000000   \n",
       "75%    2015.0  773280.250000    44.00000             127.000000   \n",
       "max    2015.0  999961.000000    82.00000             243.000000   \n",
       "\n",
       "       weekly_mins_watched  minimum_daily_mins  maximum_daily_mins  \\\n",
       "count          2000.000000         2000.000000         2000.000000   \n",
       "mean            270.178425           10.198700           30.620780   \n",
       "std              80.551627            2.785519            9.129165   \n",
       "min               0.000000            0.000000            0.000000   \n",
       "25%             218.212500            8.400000           24.735000   \n",
       "50%             269.925000           10.200000           30.590000   \n",
       "75%             324.675000           12.000000           36.797500   \n",
       "max             526.200000           20.000000           59.640000   \n",
       "\n",
       "       weekly_max_night_mins  videos_watched  maximum_days_inactive  \\\n",
       "count            2000.000000     2000.000000            1972.000000   \n",
       "mean              100.415500        4.482500               3.250507   \n",
       "std                19.529454        2.487728               0.809084   \n",
       "min                42.000000        0.000000               0.000000   \n",
       "25%                87.000000        3.000000               3.000000   \n",
       "50%               101.000000        4.000000               3.000000   \n",
       "75%               114.000000        6.000000               4.000000   \n",
       "max               175.000000       19.000000               6.000000   \n",
       "\n",
       "       customer_support_calls        churn  \n",
       "count             2000.000000  1965.000000  \n",
       "mean                 1.547000     0.133333  \n",
       "std                  1.315164     0.340021  \n",
       "min                  0.000000     0.000000  \n",
       "25%                  1.000000     0.000000  \n",
       "50%                  1.000000     0.000000  \n",
       "75%                  2.000000     0.000000  \n",
       "max                  9.000000     1.000000  "
      ]
     },
     "execution_count": 48,
     "metadata": {},
     "output_type": "execute_result"
    }
   ],
   "source": [
    "df.describe()"
   ]
  },
  {
   "cell_type": "markdown",
   "id": "58309ae7-4625-40c4-8895-1efb505d4b65",
   "metadata": {},
   "source": [
    "###\n",
    "- All the values in year column are 2015\n",
    "- If all the rows have the same value for column, standard deviation and variance is 0\n",
    "- We can delete the column as there will no impact on the analysis"
   ]
  },
  {
   "cell_type": "code",
   "execution_count": 53,
   "id": "01643885-920c-4cd4-b57a-b1641f409d8c",
   "metadata": {},
   "outputs": [
    {
     "ename": "KeyError",
     "evalue": "\"['year'] not found in axis\"",
     "output_type": "error",
     "traceback": [
      "\u001b[1;31m---------------------------------------------------------------------------\u001b[0m",
      "\u001b[1;31mKeyError\u001b[0m                                  Traceback (most recent call last)",
      "Cell \u001b[1;32mIn[53], line 1\u001b[0m\n\u001b[1;32m----> 1\u001b[0m df\u001b[38;5;241m.\u001b[39mdrop([\u001b[38;5;124m'\u001b[39m\u001b[38;5;124myear\u001b[39m\u001b[38;5;124m'\u001b[39m], axis\u001b[38;5;241m=\u001b[39m\u001b[38;5;241m1\u001b[39m , inplace\u001b[38;5;241m=\u001b[39m\u001b[38;5;28;01mTrue\u001b[39;00m)\n",
      "File \u001b[1;32m~\\anaconda3\\Lib\\site-packages\\pandas\\core\\frame.py:5581\u001b[0m, in \u001b[0;36mDataFrame.drop\u001b[1;34m(self, labels, axis, index, columns, level, inplace, errors)\u001b[0m\n\u001b[0;32m   5433\u001b[0m \u001b[38;5;28;01mdef\u001b[39;00m \u001b[38;5;21mdrop\u001b[39m(\n\u001b[0;32m   5434\u001b[0m     \u001b[38;5;28mself\u001b[39m,\n\u001b[0;32m   5435\u001b[0m     labels: IndexLabel \u001b[38;5;241m|\u001b[39m \u001b[38;5;28;01mNone\u001b[39;00m \u001b[38;5;241m=\u001b[39m \u001b[38;5;28;01mNone\u001b[39;00m,\n\u001b[1;32m   (...)\u001b[0m\n\u001b[0;32m   5442\u001b[0m     errors: IgnoreRaise \u001b[38;5;241m=\u001b[39m \u001b[38;5;124m\"\u001b[39m\u001b[38;5;124mraise\u001b[39m\u001b[38;5;124m\"\u001b[39m,\n\u001b[0;32m   5443\u001b[0m ) \u001b[38;5;241m-\u001b[39m\u001b[38;5;241m>\u001b[39m DataFrame \u001b[38;5;241m|\u001b[39m \u001b[38;5;28;01mNone\u001b[39;00m:\n\u001b[0;32m   5444\u001b[0m \u001b[38;5;250m    \u001b[39m\u001b[38;5;124;03m\"\"\"\u001b[39;00m\n\u001b[0;32m   5445\u001b[0m \u001b[38;5;124;03m    Drop specified labels from rows or columns.\u001b[39;00m\n\u001b[0;32m   5446\u001b[0m \n\u001b[1;32m   (...)\u001b[0m\n\u001b[0;32m   5579\u001b[0m \u001b[38;5;124;03m            weight  1.0     0.8\u001b[39;00m\n\u001b[0;32m   5580\u001b[0m \u001b[38;5;124;03m    \"\"\"\u001b[39;00m\n\u001b[1;32m-> 5581\u001b[0m     \u001b[38;5;28;01mreturn\u001b[39;00m \u001b[38;5;28msuper\u001b[39m()\u001b[38;5;241m.\u001b[39mdrop(\n\u001b[0;32m   5582\u001b[0m         labels\u001b[38;5;241m=\u001b[39mlabels,\n\u001b[0;32m   5583\u001b[0m         axis\u001b[38;5;241m=\u001b[39maxis,\n\u001b[0;32m   5584\u001b[0m         index\u001b[38;5;241m=\u001b[39mindex,\n\u001b[0;32m   5585\u001b[0m         columns\u001b[38;5;241m=\u001b[39mcolumns,\n\u001b[0;32m   5586\u001b[0m         level\u001b[38;5;241m=\u001b[39mlevel,\n\u001b[0;32m   5587\u001b[0m         inplace\u001b[38;5;241m=\u001b[39minplace,\n\u001b[0;32m   5588\u001b[0m         errors\u001b[38;5;241m=\u001b[39merrors,\n\u001b[0;32m   5589\u001b[0m     )\n",
      "File \u001b[1;32m~\\anaconda3\\Lib\\site-packages\\pandas\\core\\generic.py:4788\u001b[0m, in \u001b[0;36mNDFrame.drop\u001b[1;34m(self, labels, axis, index, columns, level, inplace, errors)\u001b[0m\n\u001b[0;32m   4786\u001b[0m \u001b[38;5;28;01mfor\u001b[39;00m axis, labels \u001b[38;5;129;01min\u001b[39;00m axes\u001b[38;5;241m.\u001b[39mitems():\n\u001b[0;32m   4787\u001b[0m     \u001b[38;5;28;01mif\u001b[39;00m labels \u001b[38;5;129;01mis\u001b[39;00m \u001b[38;5;129;01mnot\u001b[39;00m \u001b[38;5;28;01mNone\u001b[39;00m:\n\u001b[1;32m-> 4788\u001b[0m         obj \u001b[38;5;241m=\u001b[39m obj\u001b[38;5;241m.\u001b[39m_drop_axis(labels, axis, level\u001b[38;5;241m=\u001b[39mlevel, errors\u001b[38;5;241m=\u001b[39merrors)\n\u001b[0;32m   4790\u001b[0m \u001b[38;5;28;01mif\u001b[39;00m inplace:\n\u001b[0;32m   4791\u001b[0m     \u001b[38;5;28mself\u001b[39m\u001b[38;5;241m.\u001b[39m_update_inplace(obj)\n",
      "File \u001b[1;32m~\\anaconda3\\Lib\\site-packages\\pandas\\core\\generic.py:4830\u001b[0m, in \u001b[0;36mNDFrame._drop_axis\u001b[1;34m(self, labels, axis, level, errors, only_slice)\u001b[0m\n\u001b[0;32m   4828\u001b[0m         new_axis \u001b[38;5;241m=\u001b[39m axis\u001b[38;5;241m.\u001b[39mdrop(labels, level\u001b[38;5;241m=\u001b[39mlevel, errors\u001b[38;5;241m=\u001b[39merrors)\n\u001b[0;32m   4829\u001b[0m     \u001b[38;5;28;01melse\u001b[39;00m:\n\u001b[1;32m-> 4830\u001b[0m         new_axis \u001b[38;5;241m=\u001b[39m axis\u001b[38;5;241m.\u001b[39mdrop(labels, errors\u001b[38;5;241m=\u001b[39merrors)\n\u001b[0;32m   4831\u001b[0m     indexer \u001b[38;5;241m=\u001b[39m axis\u001b[38;5;241m.\u001b[39mget_indexer(new_axis)\n\u001b[0;32m   4833\u001b[0m \u001b[38;5;66;03m# Case for non-unique axis\u001b[39;00m\n\u001b[0;32m   4834\u001b[0m \u001b[38;5;28;01melse\u001b[39;00m:\n",
      "File \u001b[1;32m~\\anaconda3\\Lib\\site-packages\\pandas\\core\\indexes\\base.py:7070\u001b[0m, in \u001b[0;36mIndex.drop\u001b[1;34m(self, labels, errors)\u001b[0m\n\u001b[0;32m   7068\u001b[0m \u001b[38;5;28;01mif\u001b[39;00m mask\u001b[38;5;241m.\u001b[39many():\n\u001b[0;32m   7069\u001b[0m     \u001b[38;5;28;01mif\u001b[39;00m errors \u001b[38;5;241m!=\u001b[39m \u001b[38;5;124m\"\u001b[39m\u001b[38;5;124mignore\u001b[39m\u001b[38;5;124m\"\u001b[39m:\n\u001b[1;32m-> 7070\u001b[0m         \u001b[38;5;28;01mraise\u001b[39;00m \u001b[38;5;167;01mKeyError\u001b[39;00m(\u001b[38;5;124mf\u001b[39m\u001b[38;5;124m\"\u001b[39m\u001b[38;5;132;01m{\u001b[39;00mlabels[mask]\u001b[38;5;241m.\u001b[39mtolist()\u001b[38;5;132;01m}\u001b[39;00m\u001b[38;5;124m not found in axis\u001b[39m\u001b[38;5;124m\"\u001b[39m)\n\u001b[0;32m   7071\u001b[0m     indexer \u001b[38;5;241m=\u001b[39m indexer[\u001b[38;5;241m~\u001b[39mmask]\n\u001b[0;32m   7072\u001b[0m \u001b[38;5;28;01mreturn\u001b[39;00m \u001b[38;5;28mself\u001b[39m\u001b[38;5;241m.\u001b[39mdelete(indexer)\n",
      "\u001b[1;31mKeyError\u001b[0m: \"['year'] not found in axis\""
     ]
    }
   ],
   "source": [
    "df.drop(['year'], axis=1 , inplace=True)"
   ]
  },
  {
   "cell_type": "code",
   "execution_count": 55,
   "id": "044975b4-88a1-493c-9680-ad50636e8334",
   "metadata": {},
   "outputs": [
    {
     "data": {
      "text/html": [
       "<div>\n",
       "<style scoped>\n",
       "    .dataframe tbody tr th:only-of-type {\n",
       "        vertical-align: middle;\n",
       "    }\n",
       "\n",
       "    .dataframe tbody tr th {\n",
       "        vertical-align: top;\n",
       "    }\n",
       "\n",
       "    .dataframe thead th {\n",
       "        text-align: right;\n",
       "    }\n",
       "</style>\n",
       "<table border=\"1\" class=\"dataframe\">\n",
       "  <thead>\n",
       "    <tr style=\"text-align: right;\">\n",
       "      <th></th>\n",
       "      <th>customer_id</th>\n",
       "      <th>phone_no</th>\n",
       "      <th>gender</th>\n",
       "      <th>age</th>\n",
       "      <th>no_of_days_subscribed</th>\n",
       "      <th>multi_screen</th>\n",
       "      <th>mail_subscribed</th>\n",
       "      <th>weekly_mins_watched</th>\n",
       "      <th>minimum_daily_mins</th>\n",
       "      <th>maximum_daily_mins</th>\n",
       "      <th>weekly_max_night_mins</th>\n",
       "      <th>videos_watched</th>\n",
       "      <th>maximum_days_inactive</th>\n",
       "      <th>customer_support_calls</th>\n",
       "      <th>churn</th>\n",
       "    </tr>\n",
       "  </thead>\n",
       "  <tbody>\n",
       "    <tr>\n",
       "      <th>0</th>\n",
       "      <td>100198</td>\n",
       "      <td>409-8743</td>\n",
       "      <td>Female</td>\n",
       "      <td>36</td>\n",
       "      <td>62</td>\n",
       "      <td>no</td>\n",
       "      <td>no</td>\n",
       "      <td>148.35</td>\n",
       "      <td>12.2</td>\n",
       "      <td>16.81</td>\n",
       "      <td>82</td>\n",
       "      <td>1</td>\n",
       "      <td>4.0</td>\n",
       "      <td>1</td>\n",
       "      <td>0.0</td>\n",
       "    </tr>\n",
       "    <tr>\n",
       "      <th>1</th>\n",
       "      <td>100643</td>\n",
       "      <td>340-5930</td>\n",
       "      <td>Female</td>\n",
       "      <td>39</td>\n",
       "      <td>149</td>\n",
       "      <td>no</td>\n",
       "      <td>no</td>\n",
       "      <td>294.45</td>\n",
       "      <td>7.7</td>\n",
       "      <td>33.37</td>\n",
       "      <td>87</td>\n",
       "      <td>3</td>\n",
       "      <td>3.0</td>\n",
       "      <td>2</td>\n",
       "      <td>0.0</td>\n",
       "    </tr>\n",
       "    <tr>\n",
       "      <th>2</th>\n",
       "      <td>100756</td>\n",
       "      <td>372-3750</td>\n",
       "      <td>Female</td>\n",
       "      <td>65</td>\n",
       "      <td>126</td>\n",
       "      <td>no</td>\n",
       "      <td>no</td>\n",
       "      <td>87.30</td>\n",
       "      <td>11.9</td>\n",
       "      <td>9.89</td>\n",
       "      <td>91</td>\n",
       "      <td>1</td>\n",
       "      <td>4.0</td>\n",
       "      <td>5</td>\n",
       "      <td>1.0</td>\n",
       "    </tr>\n",
       "    <tr>\n",
       "      <th>3</th>\n",
       "      <td>101595</td>\n",
       "      <td>331-4902</td>\n",
       "      <td>Female</td>\n",
       "      <td>24</td>\n",
       "      <td>131</td>\n",
       "      <td>no</td>\n",
       "      <td>yes</td>\n",
       "      <td>321.30</td>\n",
       "      <td>9.5</td>\n",
       "      <td>36.41</td>\n",
       "      <td>102</td>\n",
       "      <td>4</td>\n",
       "      <td>3.0</td>\n",
       "      <td>3</td>\n",
       "      <td>0.0</td>\n",
       "    </tr>\n",
       "    <tr>\n",
       "      <th>4</th>\n",
       "      <td>101653</td>\n",
       "      <td>351-8398</td>\n",
       "      <td>Female</td>\n",
       "      <td>40</td>\n",
       "      <td>191</td>\n",
       "      <td>no</td>\n",
       "      <td>no</td>\n",
       "      <td>243.00</td>\n",
       "      <td>10.9</td>\n",
       "      <td>27.54</td>\n",
       "      <td>83</td>\n",
       "      <td>7</td>\n",
       "      <td>3.0</td>\n",
       "      <td>1</td>\n",
       "      <td>0.0</td>\n",
       "    </tr>\n",
       "  </tbody>\n",
       "</table>\n",
       "</div>"
      ],
      "text/plain": [
       "   customer_id  phone_no  gender  age  no_of_days_subscribed multi_screen  \\\n",
       "0       100198  409-8743  Female   36                     62           no   \n",
       "1       100643  340-5930  Female   39                    149           no   \n",
       "2       100756  372-3750  Female   65                    126           no   \n",
       "3       101595  331-4902  Female   24                    131           no   \n",
       "4       101653  351-8398  Female   40                    191           no   \n",
       "\n",
       "  mail_subscribed  weekly_mins_watched  minimum_daily_mins  \\\n",
       "0              no               148.35                12.2   \n",
       "1              no               294.45                 7.7   \n",
       "2              no                87.30                11.9   \n",
       "3             yes               321.30                 9.5   \n",
       "4              no               243.00                10.9   \n",
       "\n",
       "   maximum_daily_mins  weekly_max_night_mins  videos_watched  \\\n",
       "0               16.81                     82               1   \n",
       "1               33.37                     87               3   \n",
       "2                9.89                     91               1   \n",
       "3               36.41                    102               4   \n",
       "4               27.54                     83               7   \n",
       "\n",
       "   maximum_days_inactive  customer_support_calls  churn  \n",
       "0                    4.0                       1    0.0  \n",
       "1                    3.0                       2    0.0  \n",
       "2                    4.0                       5    1.0  \n",
       "3                    3.0                       3    0.0  \n",
       "4                    3.0                       1    0.0  "
      ]
     },
     "execution_count": 55,
     "metadata": {},
     "output_type": "execute_result"
    }
   ],
   "source": [
    "df.head()"
   ]
  },
  {
   "cell_type": "code",
   "execution_count": null,
   "id": "dd549edf-7a27-48d7-a921-8313151caebf",
   "metadata": {},
   "outputs": [],
   "source": [
    "''' Change the values\n",
    "0.0 -> Subscribed\n",
    "1.0 -> Unsubscriber"
   ]
  },
  {
   "cell_type": "code",
   "execution_count": 57,
   "id": "cb1153f6-d84d-4052-991a-d59b7040ef64",
   "metadata": {},
   "outputs": [
    {
     "data": {
      "text/plain": [
       "0         Subscriber\n",
       "1         Subscriber\n",
       "2       Unsubscriber\n",
       "3         Subscriber\n",
       "4         Subscriber\n",
       "            ...     \n",
       "1995             NaN\n",
       "1996      Subscriber\n",
       "1997      Subscriber\n",
       "1998      Subscriber\n",
       "1999    Unsubscriber\n",
       "Name: churn, Length: 2000, dtype: object"
      ]
     },
     "execution_count": 57,
     "metadata": {},
     "output_type": "execute_result"
    }
   ],
   "source": [
    "df['churn'].map({0.0:'Subscriber', 1.0:'Unsubscriber'})"
   ]
  },
  {
   "cell_type": "code",
   "execution_count": 59,
   "id": "e4b2066b-d0db-4d58-84fc-ef6180b2a29f",
   "metadata": {},
   "outputs": [
    {
     "data": {
      "text/html": [
       "<div>\n",
       "<style scoped>\n",
       "    .dataframe tbody tr th:only-of-type {\n",
       "        vertical-align: middle;\n",
       "    }\n",
       "\n",
       "    .dataframe tbody tr th {\n",
       "        vertical-align: top;\n",
       "    }\n",
       "\n",
       "    .dataframe thead th {\n",
       "        text-align: right;\n",
       "    }\n",
       "</style>\n",
       "<table border=\"1\" class=\"dataframe\">\n",
       "  <thead>\n",
       "    <tr style=\"text-align: right;\">\n",
       "      <th></th>\n",
       "      <th>customer_id</th>\n",
       "      <th>phone_no</th>\n",
       "      <th>gender</th>\n",
       "      <th>age</th>\n",
       "      <th>no_of_days_subscribed</th>\n",
       "      <th>multi_screen</th>\n",
       "      <th>mail_subscribed</th>\n",
       "      <th>weekly_mins_watched</th>\n",
       "      <th>minimum_daily_mins</th>\n",
       "      <th>maximum_daily_mins</th>\n",
       "      <th>weekly_max_night_mins</th>\n",
       "      <th>videos_watched</th>\n",
       "      <th>maximum_days_inactive</th>\n",
       "      <th>customer_support_calls</th>\n",
       "      <th>churn</th>\n",
       "    </tr>\n",
       "  </thead>\n",
       "  <tbody>\n",
       "    <tr>\n",
       "      <th>0</th>\n",
       "      <td>100198</td>\n",
       "      <td>409-8743</td>\n",
       "      <td>Female</td>\n",
       "      <td>36</td>\n",
       "      <td>62</td>\n",
       "      <td>no</td>\n",
       "      <td>no</td>\n",
       "      <td>148.35</td>\n",
       "      <td>12.2</td>\n",
       "      <td>16.81</td>\n",
       "      <td>82</td>\n",
       "      <td>1</td>\n",
       "      <td>4.0</td>\n",
       "      <td>1</td>\n",
       "      <td>0.0</td>\n",
       "    </tr>\n",
       "    <tr>\n",
       "      <th>1</th>\n",
       "      <td>100643</td>\n",
       "      <td>340-5930</td>\n",
       "      <td>Female</td>\n",
       "      <td>39</td>\n",
       "      <td>149</td>\n",
       "      <td>no</td>\n",
       "      <td>no</td>\n",
       "      <td>294.45</td>\n",
       "      <td>7.7</td>\n",
       "      <td>33.37</td>\n",
       "      <td>87</td>\n",
       "      <td>3</td>\n",
       "      <td>3.0</td>\n",
       "      <td>2</td>\n",
       "      <td>0.0</td>\n",
       "    </tr>\n",
       "    <tr>\n",
       "      <th>2</th>\n",
       "      <td>100756</td>\n",
       "      <td>372-3750</td>\n",
       "      <td>Female</td>\n",
       "      <td>65</td>\n",
       "      <td>126</td>\n",
       "      <td>no</td>\n",
       "      <td>no</td>\n",
       "      <td>87.30</td>\n",
       "      <td>11.9</td>\n",
       "      <td>9.89</td>\n",
       "      <td>91</td>\n",
       "      <td>1</td>\n",
       "      <td>4.0</td>\n",
       "      <td>5</td>\n",
       "      <td>1.0</td>\n",
       "    </tr>\n",
       "    <tr>\n",
       "      <th>3</th>\n",
       "      <td>101595</td>\n",
       "      <td>331-4902</td>\n",
       "      <td>Female</td>\n",
       "      <td>24</td>\n",
       "      <td>131</td>\n",
       "      <td>no</td>\n",
       "      <td>yes</td>\n",
       "      <td>321.30</td>\n",
       "      <td>9.5</td>\n",
       "      <td>36.41</td>\n",
       "      <td>102</td>\n",
       "      <td>4</td>\n",
       "      <td>3.0</td>\n",
       "      <td>3</td>\n",
       "      <td>0.0</td>\n",
       "    </tr>\n",
       "    <tr>\n",
       "      <th>4</th>\n",
       "      <td>101653</td>\n",
       "      <td>351-8398</td>\n",
       "      <td>Female</td>\n",
       "      <td>40</td>\n",
       "      <td>191</td>\n",
       "      <td>no</td>\n",
       "      <td>no</td>\n",
       "      <td>243.00</td>\n",
       "      <td>10.9</td>\n",
       "      <td>27.54</td>\n",
       "      <td>83</td>\n",
       "      <td>7</td>\n",
       "      <td>3.0</td>\n",
       "      <td>1</td>\n",
       "      <td>0.0</td>\n",
       "    </tr>\n",
       "  </tbody>\n",
       "</table>\n",
       "</div>"
      ],
      "text/plain": [
       "   customer_id  phone_no  gender  age  no_of_days_subscribed multi_screen  \\\n",
       "0       100198  409-8743  Female   36                     62           no   \n",
       "1       100643  340-5930  Female   39                    149           no   \n",
       "2       100756  372-3750  Female   65                    126           no   \n",
       "3       101595  331-4902  Female   24                    131           no   \n",
       "4       101653  351-8398  Female   40                    191           no   \n",
       "\n",
       "  mail_subscribed  weekly_mins_watched  minimum_daily_mins  \\\n",
       "0              no               148.35                12.2   \n",
       "1              no               294.45                 7.7   \n",
       "2              no                87.30                11.9   \n",
       "3             yes               321.30                 9.5   \n",
       "4              no               243.00                10.9   \n",
       "\n",
       "   maximum_daily_mins  weekly_max_night_mins  videos_watched  \\\n",
       "0               16.81                     82               1   \n",
       "1               33.37                     87               3   \n",
       "2                9.89                     91               1   \n",
       "3               36.41                    102               4   \n",
       "4               27.54                     83               7   \n",
       "\n",
       "   maximum_days_inactive  customer_support_calls  churn  \n",
       "0                    4.0                       1    0.0  \n",
       "1                    3.0                       2    0.0  \n",
       "2                    4.0                       5    1.0  \n",
       "3                    3.0                       3    0.0  \n",
       "4                    3.0                       1    0.0  "
      ]
     },
     "execution_count": 59,
     "metadata": {},
     "output_type": "execute_result"
    }
   ],
   "source": [
    "df.head()\n"
   ]
  },
  {
   "cell_type": "code",
   "execution_count": 67,
   "id": "5e6323f2-121a-49ce-9083-960e82910b9b",
   "metadata": {},
   "outputs": [],
   "source": [
    "df['churn']=df['churn'].map({0.0:'Subscriber', 1.0:'Unsubscriber'})"
   ]
  },
  {
   "cell_type": "code",
   "execution_count": 63,
   "id": "e01943b5-b355-4e08-89cd-12e027ff60f5",
   "metadata": {},
   "outputs": [
    {
     "data": {
      "text/html": [
       "<div>\n",
       "<style scoped>\n",
       "    .dataframe tbody tr th:only-of-type {\n",
       "        vertical-align: middle;\n",
       "    }\n",
       "\n",
       "    .dataframe tbody tr th {\n",
       "        vertical-align: top;\n",
       "    }\n",
       "\n",
       "    .dataframe thead th {\n",
       "        text-align: right;\n",
       "    }\n",
       "</style>\n",
       "<table border=\"1\" class=\"dataframe\">\n",
       "  <thead>\n",
       "    <tr style=\"text-align: right;\">\n",
       "      <th></th>\n",
       "      <th>customer_id</th>\n",
       "      <th>phone_no</th>\n",
       "      <th>gender</th>\n",
       "      <th>age</th>\n",
       "      <th>no_of_days_subscribed</th>\n",
       "      <th>multi_screen</th>\n",
       "      <th>mail_subscribed</th>\n",
       "      <th>weekly_mins_watched</th>\n",
       "      <th>minimum_daily_mins</th>\n",
       "      <th>maximum_daily_mins</th>\n",
       "      <th>weekly_max_night_mins</th>\n",
       "      <th>videos_watched</th>\n",
       "      <th>maximum_days_inactive</th>\n",
       "      <th>customer_support_calls</th>\n",
       "      <th>churn</th>\n",
       "    </tr>\n",
       "  </thead>\n",
       "  <tbody>\n",
       "    <tr>\n",
       "      <th>0</th>\n",
       "      <td>100198</td>\n",
       "      <td>409-8743</td>\n",
       "      <td>Female</td>\n",
       "      <td>36</td>\n",
       "      <td>62</td>\n",
       "      <td>no</td>\n",
       "      <td>no</td>\n",
       "      <td>148.35</td>\n",
       "      <td>12.2</td>\n",
       "      <td>16.81</td>\n",
       "      <td>82</td>\n",
       "      <td>1</td>\n",
       "      <td>4.0</td>\n",
       "      <td>1</td>\n",
       "      <td>Subscriber</td>\n",
       "    </tr>\n",
       "    <tr>\n",
       "      <th>1</th>\n",
       "      <td>100643</td>\n",
       "      <td>340-5930</td>\n",
       "      <td>Female</td>\n",
       "      <td>39</td>\n",
       "      <td>149</td>\n",
       "      <td>no</td>\n",
       "      <td>no</td>\n",
       "      <td>294.45</td>\n",
       "      <td>7.7</td>\n",
       "      <td>33.37</td>\n",
       "      <td>87</td>\n",
       "      <td>3</td>\n",
       "      <td>3.0</td>\n",
       "      <td>2</td>\n",
       "      <td>Subscriber</td>\n",
       "    </tr>\n",
       "    <tr>\n",
       "      <th>2</th>\n",
       "      <td>100756</td>\n",
       "      <td>372-3750</td>\n",
       "      <td>Female</td>\n",
       "      <td>65</td>\n",
       "      <td>126</td>\n",
       "      <td>no</td>\n",
       "      <td>no</td>\n",
       "      <td>87.30</td>\n",
       "      <td>11.9</td>\n",
       "      <td>9.89</td>\n",
       "      <td>91</td>\n",
       "      <td>1</td>\n",
       "      <td>4.0</td>\n",
       "      <td>5</td>\n",
       "      <td>Unsubscriber</td>\n",
       "    </tr>\n",
       "    <tr>\n",
       "      <th>3</th>\n",
       "      <td>101595</td>\n",
       "      <td>331-4902</td>\n",
       "      <td>Female</td>\n",
       "      <td>24</td>\n",
       "      <td>131</td>\n",
       "      <td>no</td>\n",
       "      <td>yes</td>\n",
       "      <td>321.30</td>\n",
       "      <td>9.5</td>\n",
       "      <td>36.41</td>\n",
       "      <td>102</td>\n",
       "      <td>4</td>\n",
       "      <td>3.0</td>\n",
       "      <td>3</td>\n",
       "      <td>Subscriber</td>\n",
       "    </tr>\n",
       "    <tr>\n",
       "      <th>4</th>\n",
       "      <td>101653</td>\n",
       "      <td>351-8398</td>\n",
       "      <td>Female</td>\n",
       "      <td>40</td>\n",
       "      <td>191</td>\n",
       "      <td>no</td>\n",
       "      <td>no</td>\n",
       "      <td>243.00</td>\n",
       "      <td>10.9</td>\n",
       "      <td>27.54</td>\n",
       "      <td>83</td>\n",
       "      <td>7</td>\n",
       "      <td>3.0</td>\n",
       "      <td>1</td>\n",
       "      <td>Subscriber</td>\n",
       "    </tr>\n",
       "  </tbody>\n",
       "</table>\n",
       "</div>"
      ],
      "text/plain": [
       "   customer_id  phone_no  gender  age  no_of_days_subscribed multi_screen  \\\n",
       "0       100198  409-8743  Female   36                     62           no   \n",
       "1       100643  340-5930  Female   39                    149           no   \n",
       "2       100756  372-3750  Female   65                    126           no   \n",
       "3       101595  331-4902  Female   24                    131           no   \n",
       "4       101653  351-8398  Female   40                    191           no   \n",
       "\n",
       "  mail_subscribed  weekly_mins_watched  minimum_daily_mins  \\\n",
       "0              no               148.35                12.2   \n",
       "1              no               294.45                 7.7   \n",
       "2              no                87.30                11.9   \n",
       "3             yes               321.30                 9.5   \n",
       "4              no               243.00                10.9   \n",
       "\n",
       "   maximum_daily_mins  weekly_max_night_mins  videos_watched  \\\n",
       "0               16.81                     82               1   \n",
       "1               33.37                     87               3   \n",
       "2                9.89                     91               1   \n",
       "3               36.41                    102               4   \n",
       "4               27.54                     83               7   \n",
       "\n",
       "   maximum_days_inactive  customer_support_calls         churn  \n",
       "0                    4.0                       1    Subscriber  \n",
       "1                    3.0                       2    Subscriber  \n",
       "2                    4.0                       5  Unsubscriber  \n",
       "3                    3.0                       3    Subscriber  \n",
       "4                    3.0                       1    Subscriber  "
      ]
     },
     "execution_count": 63,
     "metadata": {},
     "output_type": "execute_result"
    }
   ],
   "source": [
    "df.head()"
   ]
  },
  {
   "cell_type": "code",
   "execution_count": 7,
   "id": "64d8a681-d769-484d-aacc-79d5676b8d52",
   "metadata": {},
   "outputs": [
    {
     "data": {
      "text/html": [
       "<div>\n",
       "<style scoped>\n",
       "    .dataframe tbody tr th:only-of-type {\n",
       "        vertical-align: middle;\n",
       "    }\n",
       "\n",
       "    .dataframe tbody tr th {\n",
       "        vertical-align: top;\n",
       "    }\n",
       "\n",
       "    .dataframe thead th {\n",
       "        text-align: right;\n",
       "    }\n",
       "</style>\n",
       "<table border=\"1\" class=\"dataframe\">\n",
       "  <thead>\n",
       "    <tr style=\"text-align: right;\">\n",
       "      <th></th>\n",
       "      <th>phone_no</th>\n",
       "      <th>gender</th>\n",
       "      <th>multi_screen</th>\n",
       "      <th>mail_subscribed</th>\n",
       "    </tr>\n",
       "  </thead>\n",
       "  <tbody>\n",
       "    <tr>\n",
       "      <th>count</th>\n",
       "      <td>2000</td>\n",
       "      <td>1976</td>\n",
       "      <td>2000</td>\n",
       "      <td>2000</td>\n",
       "    </tr>\n",
       "    <tr>\n",
       "      <th>unique</th>\n",
       "      <td>2000</td>\n",
       "      <td>2</td>\n",
       "      <td>2</td>\n",
       "      <td>2</td>\n",
       "    </tr>\n",
       "    <tr>\n",
       "      <th>top</th>\n",
       "      <td>409-8743</td>\n",
       "      <td>Male</td>\n",
       "      <td>no</td>\n",
       "      <td>no</td>\n",
       "    </tr>\n",
       "    <tr>\n",
       "      <th>freq</th>\n",
       "      <td>1</td>\n",
       "      <td>1053</td>\n",
       "      <td>1802</td>\n",
       "      <td>1430</td>\n",
       "    </tr>\n",
       "  </tbody>\n",
       "</table>\n",
       "</div>"
      ],
      "text/plain": [
       "        phone_no gender multi_screen mail_subscribed\n",
       "count       2000   1976         2000            2000\n",
       "unique      2000      2            2               2\n",
       "top     409-8743   Male           no              no\n",
       "freq           1   1053         1802            1430"
      ]
     },
     "execution_count": 7,
     "metadata": {},
     "output_type": "execute_result"
    }
   ],
   "source": [
    "df.describe(include=object) # it gives string values"
   ]
  },
  {
   "cell_type": "code",
   "execution_count": 9,
   "id": "71d77f3f-ec60-4637-a694-800ebe300bb3",
   "metadata": {},
   "outputs": [
    {
     "data": {
      "text/plain": [
       "0       409-8743\n",
       "1       340-5930\n",
       "2       372-3750\n",
       "3       331-4902\n",
       "4       351-8398\n",
       "          ...   \n",
       "1995    385-7387\n",
       "1996    383-9255\n",
       "1997    353-2080\n",
       "1998    359-7788\n",
       "1999    414-1496\n",
       "Name: phone_no, Length: 2000, dtype: object"
      ]
     },
     "execution_count": 9,
     "metadata": {},
     "output_type": "execute_result"
    }
   ],
   "source": [
    "df['phone_no']"
   ]
  },
  {
   "cell_type": "code",
   "execution_count": 11,
   "id": "fbccbb1a-7207-4c5a-bad4-30aa1c7f4a6d",
   "metadata": {},
   "outputs": [
    {
     "data": {
      "text/plain": [
       "gender\n",
       "Male      1053\n",
       "Female     923\n",
       "NaN         24\n",
       "Name: count, dtype: int64"
      ]
     },
     "execution_count": 11,
     "metadata": {},
     "output_type": "execute_result"
    }
   ],
   "source": [
    "# Give gender wise count of customers\n",
    "df['gender'].value_counts(dropna=False)"
   ]
  },
  {
   "cell_type": "code",
   "execution_count": 13,
   "id": "a2df0b2f-f148-454e-8f81-3ff7e422019d",
   "metadata": {},
   "outputs": [
    {
     "data": {
      "text/plain": [
       "0    Male\n",
       "Name: gender, dtype: object"
      ]
     },
     "execution_count": 13,
     "metadata": {},
     "output_type": "execute_result"
    }
   ],
   "source": [
    "df['gender'].mode() # max time appeared"
   ]
  },
  {
   "cell_type": "code",
   "execution_count": 15,
   "id": "03bfd31b-d5c1-43ec-9b4b-1a815844087d",
   "metadata": {},
   "outputs": [
    {
     "data": {
      "text/plain": [
       "1053"
      ]
     },
     "execution_count": 15,
     "metadata": {},
     "output_type": "execute_result"
    }
   ],
   "source": [
    "df['gender'].value_counts(dropna=False).max()"
   ]
  },
  {
   "cell_type": "code",
   "execution_count": 17,
   "id": "46f7a326-17c5-4aa5-af11-2286361d00fa",
   "metadata": {},
   "outputs": [
    {
     "data": {
      "text/plain": [
       "'Male'"
      ]
     },
     "execution_count": 17,
     "metadata": {},
     "output_type": "execute_result"
    }
   ],
   "source": [
    "df['gender'].value_counts(dropna=False).idxmax()"
   ]
  },
  {
   "cell_type": "code",
   "execution_count": 19,
   "id": "a00d7723-4482-4541-b81a-c38aebae9632",
   "metadata": {},
   "outputs": [
    {
     "data": {
      "text/plain": [
       "multi_screen\n",
       "no     1802\n",
       "yes     198\n",
       "Name: count, dtype: int64"
      ]
     },
     "execution_count": 19,
     "metadata": {},
     "output_type": "execute_result"
    }
   ],
   "source": [
    "df['multi_screen'].value_counts(dropna=False)"
   ]
  },
  {
   "cell_type": "code",
   "execution_count": 25,
   "id": "e114a671-2e50-4f54-907f-447d7ed98420",
   "metadata": {},
   "outputs": [
    {
     "data": {
      "text/plain": [
       "mail_subscribed\n",
       "no     1430\n",
       "yes     570\n",
       "Name: count, dtype: int64"
      ]
     },
     "execution_count": 25,
     "metadata": {},
     "output_type": "execute_result"
    }
   ],
   "source": [
    "df['mail_subscribed'].value_counts(dropna=False)"
   ]
  },
  {
   "cell_type": "code",
   "execution_count": 27,
   "id": "26cabd3c-3598-422b-928f-3d511ba7fe9e",
   "metadata": {},
   "outputs": [
    {
     "data": {
      "text/html": [
       "<div>\n",
       "<style scoped>\n",
       "    .dataframe tbody tr th:only-of-type {\n",
       "        vertical-align: middle;\n",
       "    }\n",
       "\n",
       "    .dataframe tbody tr th {\n",
       "        vertical-align: top;\n",
       "    }\n",
       "\n",
       "    .dataframe thead th {\n",
       "        text-align: right;\n",
       "    }\n",
       "</style>\n",
       "<table border=\"1\" class=\"dataframe\">\n",
       "  <thead>\n",
       "    <tr style=\"text-align: right;\">\n",
       "      <th></th>\n",
       "      <th>year</th>\n",
       "      <th>customer_id</th>\n",
       "      <th>phone_no</th>\n",
       "      <th>gender</th>\n",
       "      <th>age</th>\n",
       "      <th>no_of_days_subscribed</th>\n",
       "      <th>multi_screen</th>\n",
       "      <th>mail_subscribed</th>\n",
       "      <th>weekly_mins_watched</th>\n",
       "      <th>minimum_daily_mins</th>\n",
       "      <th>maximum_daily_mins</th>\n",
       "      <th>weekly_max_night_mins</th>\n",
       "      <th>videos_watched</th>\n",
       "      <th>maximum_days_inactive</th>\n",
       "      <th>customer_support_calls</th>\n",
       "      <th>churn</th>\n",
       "    </tr>\n",
       "  </thead>\n",
       "  <tbody>\n",
       "    <tr>\n",
       "      <th>0</th>\n",
       "      <td>2015</td>\n",
       "      <td>100198</td>\n",
       "      <td>409-8743</td>\n",
       "      <td>Female</td>\n",
       "      <td>36</td>\n",
       "      <td>62</td>\n",
       "      <td>no</td>\n",
       "      <td>no</td>\n",
       "      <td>148.35</td>\n",
       "      <td>12.2</td>\n",
       "      <td>16.81</td>\n",
       "      <td>82</td>\n",
       "      <td>1</td>\n",
       "      <td>4.0</td>\n",
       "      <td>1</td>\n",
       "      <td>0.0</td>\n",
       "    </tr>\n",
       "    <tr>\n",
       "      <th>1</th>\n",
       "      <td>2015</td>\n",
       "      <td>100643</td>\n",
       "      <td>340-5930</td>\n",
       "      <td>Female</td>\n",
       "      <td>39</td>\n",
       "      <td>149</td>\n",
       "      <td>no</td>\n",
       "      <td>no</td>\n",
       "      <td>294.45</td>\n",
       "      <td>7.7</td>\n",
       "      <td>33.37</td>\n",
       "      <td>87</td>\n",
       "      <td>3</td>\n",
       "      <td>3.0</td>\n",
       "      <td>2</td>\n",
       "      <td>0.0</td>\n",
       "    </tr>\n",
       "    <tr>\n",
       "      <th>2</th>\n",
       "      <td>2015</td>\n",
       "      <td>100756</td>\n",
       "      <td>372-3750</td>\n",
       "      <td>Female</td>\n",
       "      <td>65</td>\n",
       "      <td>126</td>\n",
       "      <td>no</td>\n",
       "      <td>no</td>\n",
       "      <td>87.30</td>\n",
       "      <td>11.9</td>\n",
       "      <td>9.89</td>\n",
       "      <td>91</td>\n",
       "      <td>1</td>\n",
       "      <td>4.0</td>\n",
       "      <td>5</td>\n",
       "      <td>1.0</td>\n",
       "    </tr>\n",
       "    <tr>\n",
       "      <th>3</th>\n",
       "      <td>2015</td>\n",
       "      <td>101595</td>\n",
       "      <td>331-4902</td>\n",
       "      <td>Female</td>\n",
       "      <td>24</td>\n",
       "      <td>131</td>\n",
       "      <td>no</td>\n",
       "      <td>yes</td>\n",
       "      <td>321.30</td>\n",
       "      <td>9.5</td>\n",
       "      <td>36.41</td>\n",
       "      <td>102</td>\n",
       "      <td>4</td>\n",
       "      <td>3.0</td>\n",
       "      <td>3</td>\n",
       "      <td>0.0</td>\n",
       "    </tr>\n",
       "    <tr>\n",
       "      <th>4</th>\n",
       "      <td>2015</td>\n",
       "      <td>101653</td>\n",
       "      <td>351-8398</td>\n",
       "      <td>Female</td>\n",
       "      <td>40</td>\n",
       "      <td>191</td>\n",
       "      <td>no</td>\n",
       "      <td>no</td>\n",
       "      <td>243.00</td>\n",
       "      <td>10.9</td>\n",
       "      <td>27.54</td>\n",
       "      <td>83</td>\n",
       "      <td>7</td>\n",
       "      <td>3.0</td>\n",
       "      <td>1</td>\n",
       "      <td>0.0</td>\n",
       "    </tr>\n",
       "  </tbody>\n",
       "</table>\n",
       "</div>"
      ],
      "text/plain": [
       "   year  customer_id  phone_no  gender  age  no_of_days_subscribed  \\\n",
       "0  2015       100198  409-8743  Female   36                     62   \n",
       "1  2015       100643  340-5930  Female   39                    149   \n",
       "2  2015       100756  372-3750  Female   65                    126   \n",
       "3  2015       101595  331-4902  Female   24                    131   \n",
       "4  2015       101653  351-8398  Female   40                    191   \n",
       "\n",
       "  multi_screen mail_subscribed  weekly_mins_watched  minimum_daily_mins  \\\n",
       "0           no              no               148.35                12.2   \n",
       "1           no              no               294.45                 7.7   \n",
       "2           no              no                87.30                11.9   \n",
       "3           no             yes               321.30                 9.5   \n",
       "4           no              no               243.00                10.9   \n",
       "\n",
       "   maximum_daily_mins  weekly_max_night_mins  videos_watched  \\\n",
       "0               16.81                     82               1   \n",
       "1               33.37                     87               3   \n",
       "2                9.89                     91               1   \n",
       "3               36.41                    102               4   \n",
       "4               27.54                     83               7   \n",
       "\n",
       "   maximum_days_inactive  customer_support_calls  churn  \n",
       "0                    4.0                       1    0.0  \n",
       "1                    3.0                       2    0.0  \n",
       "2                    4.0                       5    1.0  \n",
       "3                    3.0                       3    0.0  \n",
       "4                    3.0                       1    0.0  "
      ]
     },
     "execution_count": 27,
     "metadata": {},
     "output_type": "execute_result"
    }
   ],
   "source": [
    "df.head()"
   ]
  },
  {
   "cell_type": "code",
   "execution_count": 29,
   "id": "74cd17be-996e-4b68-aa5a-ea3babac0333",
   "metadata": {},
   "outputs": [
    {
     "data": {
      "text/html": [
       "<div>\n",
       "<style scoped>\n",
       "    .dataframe tbody tr th:only-of-type {\n",
       "        vertical-align: middle;\n",
       "    }\n",
       "\n",
       "    .dataframe tbody tr th {\n",
       "        vertical-align: top;\n",
       "    }\n",
       "\n",
       "    .dataframe thead th {\n",
       "        text-align: right;\n",
       "    }\n",
       "</style>\n",
       "<table border=\"1\" class=\"dataframe\">\n",
       "  <thead>\n",
       "    <tr style=\"text-align: right;\">\n",
       "      <th></th>\n",
       "      <th>year</th>\n",
       "      <th>customer_id</th>\n",
       "      <th>phone_no</th>\n",
       "      <th>gender</th>\n",
       "      <th>age</th>\n",
       "      <th>no_of_days_subscribed</th>\n",
       "      <th>multi_screen</th>\n",
       "      <th>mail_subscribed</th>\n",
       "      <th>weekly_mins_watched</th>\n",
       "      <th>minimum_daily_mins</th>\n",
       "      <th>maximum_daily_mins</th>\n",
       "      <th>weekly_max_night_mins</th>\n",
       "      <th>videos_watched</th>\n",
       "      <th>maximum_days_inactive</th>\n",
       "      <th>customer_support_calls</th>\n",
       "      <th>churn</th>\n",
       "    </tr>\n",
       "  </thead>\n",
       "  <tbody>\n",
       "    <tr>\n",
       "      <th>3</th>\n",
       "      <td>2015</td>\n",
       "      <td>101595</td>\n",
       "      <td>331-4902</td>\n",
       "      <td>Female</td>\n",
       "      <td>24</td>\n",
       "      <td>131</td>\n",
       "      <td>no</td>\n",
       "      <td>yes</td>\n",
       "      <td>321.3</td>\n",
       "      <td>9.5</td>\n",
       "      <td>36.41</td>\n",
       "      <td>102</td>\n",
       "      <td>4</td>\n",
       "      <td>3.0</td>\n",
       "      <td>3</td>\n",
       "      <td>0.0</td>\n",
       "    </tr>\n",
       "  </tbody>\n",
       "</table>\n",
       "</div>"
      ],
      "text/plain": [
       "   year  customer_id  phone_no  gender  age  no_of_days_subscribed  \\\n",
       "3  2015       101595  331-4902  Female   24                    131   \n",
       "\n",
       "  multi_screen mail_subscribed  weekly_mins_watched  minimum_daily_mins  \\\n",
       "3           no             yes                321.3                 9.5   \n",
       "\n",
       "   maximum_daily_mins  weekly_max_night_mins  videos_watched  \\\n",
       "3               36.41                    102               4   \n",
       "\n",
       "   maximum_days_inactive  customer_support_calls  churn  \n",
       "3                    3.0                       3    0.0  "
      ]
     },
     "execution_count": 29,
     "metadata": {},
     "output_type": "execute_result"
    }
   ],
   "source": [
    "df[df['customer_id'] == 101595]"
   ]
  },
  {
   "cell_type": "code",
   "execution_count": 35,
   "id": "cf80a134-72bd-4ae5-919b-10c40afe05ed",
   "metadata": {},
   "outputs": [
    {
     "data": {
      "text/plain": [
       "year                          2015\n",
       "customer_id                 101595\n",
       "phone_no                  331-4902\n",
       "gender                      Female\n",
       "age                             24\n",
       "no_of_days_subscribed          131\n",
       "multi_screen                    no\n",
       "mail_subscribed                yes\n",
       "weekly_mins_watched          321.3\n",
       "minimum_daily_mins             9.5\n",
       "maximum_daily_mins           36.41\n",
       "weekly_max_night_mins          102\n",
       "videos_watched                   4\n",
       "maximum_days_inactive          3.0\n",
       "customer_support_calls           3\n",
       "churn                          0.0\n",
       "Name: 3, dtype: object"
      ]
     },
     "execution_count": 35,
     "metadata": {},
     "output_type": "execute_result"
    }
   ],
   "source": [
    "df.loc[3]"
   ]
  },
  {
   "cell_type": "markdown",
   "id": "71ed9238-b4eb-4039-80c1-ae8655c8477f",
   "metadata": {},
   "source": [
    "### UNIQUE VALUE ANALYSIS"
   ]
  },
  {
   "cell_type": "code",
   "execution_count": 8,
   "id": "1a4e6712-2287-4e2c-ad44-2406b2514d66",
   "metadata": {},
   "outputs": [
    {
     "data": {
      "text/plain": [
       "year                         1\n",
       "customer_id               1999\n",
       "phone_no                  2000\n",
       "gender                       2\n",
       "age                         63\n",
       "no_of_days_subscribed      204\n",
       "multi_screen                 2\n",
       "mail_subscribed              2\n",
       "weekly_mins_watched       1260\n",
       "minimum_daily_mins         149\n",
       "maximum_daily_mins        1260\n",
       "weekly_max_night_mins      111\n",
       "videos_watched              19\n",
       "maximum_days_inactive        7\n",
       "customer_support_calls      10\n",
       "churn                        2\n",
       "dtype: int64"
      ]
     },
     "execution_count": 8,
     "metadata": {},
     "output_type": "execute_result"
    }
   ],
   "source": [
    "df.nunique()"
   ]
  },
  {
   "cell_type": "code",
   "execution_count": 10,
   "id": "f77ec933-dcae-4614-ba56-22e2775e88c7",
   "metadata": {},
   "outputs": [
    {
     "data": {
      "text/plain": [
       "0       4.0\n",
       "1       3.0\n",
       "2       4.0\n",
       "3       3.0\n",
       "4       3.0\n",
       "       ... \n",
       "1995    4.0\n",
       "1996    3.0\n",
       "1997    5.0\n",
       "1998    NaN\n",
       "1999    3.0\n",
       "Name: maximum_days_inactive, Length: 2000, dtype: float64"
      ]
     },
     "execution_count": 10,
     "metadata": {},
     "output_type": "execute_result"
    }
   ],
   "source": [
    "df['maximum_days_inactive']"
   ]
  },
  {
   "cell_type": "code",
   "execution_count": 12,
   "id": "9815fc30-e911-4e94-a3f6-7402b0f3d6df",
   "metadata": {},
   "outputs": [
    {
     "data": {
      "text/plain": [
       "maximum_days_inactive\n",
       "3.0    945\n",
       "4.0    645\n",
       "2.0    273\n",
       "5.0     85\n",
       "1.0     12\n",
       "0.0     10\n",
       "6.0      2\n",
       "Name: count, dtype: int64"
      ]
     },
     "execution_count": 12,
     "metadata": {},
     "output_type": "execute_result"
    }
   ],
   "source": [
    "df['maximum_days_inactive'].value_counts()"
   ]
  },
  {
   "cell_type": "markdown",
   "id": "2c072130-23bd-453c-8697-759b10f1646d",
   "metadata": {},
   "source": [
    "### % of each category of categorical cols"
   ]
  },
  {
   "cell_type": "markdown",
   "id": "b3f723ab-67e6-4119-a6d4-896246c3c60e",
   "metadata": {},
   "source": [
    "Categorical columns are :\n",
    "\n",
    "- gender\n",
    "- multi_screen\n",
    "- mail_subscribed\n",
    "- churn"
   ]
  },
  {
   "cell_type": "code",
   "execution_count": 19,
   "id": "aa15d13e-d593-40be-9eb4-b74c91ac7f64",
   "metadata": {},
   "outputs": [
    {
     "data": {
      "text/plain": [
       "gender\n",
       "Male      1053\n",
       "Female     923\n",
       "Name: count, dtype: int64"
      ]
     },
     "execution_count": 19,
     "metadata": {},
     "output_type": "execute_result"
    }
   ],
   "source": [
    "df['gender'].value_counts()"
   ]
  },
  {
   "cell_type": "code",
   "execution_count": 21,
   "id": "4a2643ef-e931-4efd-bf5e-6043f31ed001",
   "metadata": {},
   "outputs": [
    {
     "data": {
      "text/plain": [
       "gender\n",
       "Male      52.65\n",
       "Female    46.15\n",
       "NaN        1.20\n",
       "Name: proportion, dtype: float64"
      ]
     },
     "execution_count": 21,
     "metadata": {},
     "output_type": "execute_result"
    }
   ],
   "source": [
    "df['gender'].value_counts(dropna= False, normalize=True) * 100"
   ]
  },
  {
   "cell_type": "code",
   "execution_count": 23,
   "id": "5c945b52-be91-4259-8e82-b1cc138e1cd9",
   "metadata": {},
   "outputs": [
    {
     "data": {
      "text/plain": [
       "multi_screen\n",
       "no     90.1\n",
       "yes     9.9\n",
       "Name: proportion, dtype: float64"
      ]
     },
     "execution_count": 23,
     "metadata": {},
     "output_type": "execute_result"
    }
   ],
   "source": [
    "df['multi_screen'].value_counts(dropna= False, normalize=True) * 100"
   ]
  },
  {
   "cell_type": "code",
   "execution_count": 27,
   "id": "40d1af9e-db39-460d-9580-c698bfd5c677",
   "metadata": {},
   "outputs": [
    {
     "data": {
      "text/plain": [
       "mail_subscribed\n",
       "no     71.5\n",
       "yes    28.5\n",
       "Name: proportion, dtype: float64"
      ]
     },
     "execution_count": 27,
     "metadata": {},
     "output_type": "execute_result"
    }
   ],
   "source": [
    "df['mail_subscribed'].value_counts(dropna= False, normalize=True) * 100"
   ]
  },
  {
   "cell_type": "code",
   "execution_count": 29,
   "id": "e1b97ec4-0f2c-48fa-b567-c1fe0a3d9ae3",
   "metadata": {},
   "outputs": [
    {
     "data": {
      "text/plain": [
       "churn\n",
       "0.0    85.15\n",
       "1.0    13.10\n",
       "NaN     1.75\n",
       "Name: proportion, dtype: float64"
      ]
     },
     "execution_count": 29,
     "metadata": {},
     "output_type": "execute_result"
    }
   ],
   "source": [
    "df['churn'].value_counts(dropna= False, normalize=True) * 100"
   ]
  },
  {
   "cell_type": "markdown",
   "id": "31e40241-a96c-4e94-8183-c5c5ee880bca",
   "metadata": {},
   "source": [
    "### Visuals"
   ]
  },
  {
   "cell_type": "code",
   "execution_count": 38,
   "id": "9328c3ad-7376-401d-afea-ad9908834d79",
   "metadata": {},
   "outputs": [
    {
     "data": {
      "image/png": "[encoded data removed]",
      "text/plain": [
       "<Figure size 640x480 with 1 Axes>"
      ]
     },
     "metadata": {},
     "output_type": "display_data"
    }
   ],
   "source": [
    "sns.countplot(data=df , x='gender')\n",
    "plt.show()"
   ]
  },
  {
   "cell_type": "code",
   "execution_count": 40,
   "id": "0ec4eec9-5d4a-4ddf-924c-6398d3b5bc6a",
   "metadata": {},
   "outputs": [
    {
     "data": {
      "image/png": "[encoded data removed]",
      "text/plain": [
       "<Figure size 640x480 with 1 Axes>"
      ]
     },
     "metadata": {},
     "output_type": "display_data"
    }
   ],
   "source": [
    "cp = sns.countplot(data=df , x='gender')\n",
    "for i in cp.containers:\n",
    "    cp.bar_label(i)\n",
    "plt.show()"
   ]
  },
  {
   "cell_type": "markdown",
   "id": "99a7be55-361b-458b-8e44-7f77ee74bc57",
   "metadata": {},
   "source": [
    "### PIE Charts"
   ]
  },
  {
   "cell_type": "code",
   "execution_count": 45,
   "id": "d0a70247-add1-403a-8e05-4ff5dd725fa5",
   "metadata": {},
   "outputs": [
    {
     "data": {
      "image/png": "[encoded data removed]",
      "text/plain": [
       "<Figure size 640x480 with 1 Axes>"
      ]
     },
     "metadata": {},
     "output_type": "display_data"
    }
   ],
   "source": [
    "plt.pie(df['gender'].value_counts())\n",
    "plt.show()"
   ]
  },
  {
   "cell_type": "code",
   "execution_count": 47,
   "id": "e8fe7812-5715-4a8e-b4e2-bbd9441db1df",
   "metadata": {},
   "outputs": [
    {
     "data": {
      "text/plain": [
       "gender\n",
       "Male      1053\n",
       "Female     923\n",
       "Name: count, dtype: int64"
      ]
     },
     "execution_count": 47,
     "metadata": {},
     "output_type": "execute_result"
    }
   ],
   "source": [
    "df['gender'].value_counts()"
   ]
  },
  {
   "cell_type": "code",
   "execution_count": 49,
   "id": "8ab9372b-1be2-4d7c-a5e5-c8d15f010873",
   "metadata": {},
   "outputs": [
    {
     "data": {
      "text/plain": [
       "Index(['Male', 'Female'], dtype='object', name='gender')"
      ]
     },
     "execution_count": 49,
     "metadata": {},
     "output_type": "execute_result"
    }
   ],
   "source": [
    "df['gender'].value_counts().index"
   ]
  },
  {
   "cell_type": "code",
   "execution_count": 51,
   "id": "1b56cfd9-f1c4-49ec-8a0b-d429eaf773e1",
   "metadata": {},
   "outputs": [
    {
     "data": {
      "image/png": "[encoded data removed]",
      "text/plain": [
       "<Figure size 640x480 with 1 Axes>"
      ]
     },
     "metadata": {},
     "output_type": "display_data"
    }
   ],
   "source": [
    "plt.pie(df['gender'].value_counts(), labels = df['gender'].value_counts().index)\n",
    "plt.show()"
   ]
  },
  {
   "cell_type": "code",
   "execution_count": 53,
   "id": "cde1f6e4-8d2d-4837-b362-6ae0f48392e2",
   "metadata": {},
   "outputs": [
    {
     "data": {
      "image/png": "[encoded data removed]",
      "text/plain": [
       "<Figure size 640x480 with 1 Axes>"
      ]
     },
     "metadata": {},
     "output_type": "display_data"
    }
   ],
   "source": [
    "plt.pie(df['gender'].value_counts(), labels = df['gender'].value_counts().index, autopct='%.2f%%')\n",
    "plt.show()"
   ]
  },
  {
   "cell_type": "code",
   "execution_count": 55,
   "id": "08899003-56a6-4e64-a5bb-4845f9390c45",
   "metadata": {},
   "outputs": [
    {
     "data": {
      "image/png": "[encoded data removed]",
      "text/plain": [
       "<Figure size 640x480 with 1 Axes>"
      ]
     },
     "metadata": {},
     "output_type": "display_data"
    }
   ],
   "source": [
    "plt.pie(df['gender'].value_counts(dropna=False), labels = df['gender'].value_counts(dropna=False).index, autopct='%.2f%%')\n",
    "plt.show()"
   ]
  },
  {
   "cell_type": "code",
   "execution_count": 59,
   "id": "2222345d-5664-4978-9024-075b7e997aa2",
   "metadata": {},
   "outputs": [
    {
     "data": {
      "text/plain": [
       "[]"
      ]
     },
     "execution_count": 59,
     "metadata": {},
     "output_type": "execute_result"
    },
    {
     "data": {
      "image/png": "[encoded data removed]",
      "text/plain": [
       "<Figure size 640x480 with 1 Axes>"
      ]
     },
     "metadata": {},
     "output_type": "display_data"
    }
   ],
   "source": [
    "plt.bar(df['gender'].value_counts().index, df['gender'].value_counts())\n",
    "plt.plot()"
   ]
  },
  {
   "cell_type": "code",
   "execution_count": 61,
   "id": "5aa37208-9830-40ef-bbb4-9ec9d10c208c",
   "metadata": {},
   "outputs": [
    {
     "data": {
      "image/png": "[encoded data removed]",
      "text/plain": [
       "<Figure size 640x480 with 1 Axes>"
      ]
     },
     "metadata": {},
     "output_type": "display_data"
    }
   ],
   "source": [
    "plt.pie(df['multi_screen'].value_counts(dropna=False), labels= df['multi_screen'].value_counts(dropna=False).index, autopct='%.f%%')\n",
    "plt.title('Multiscreen Subscribers')\n",
    "plt.show()"
   ]
  },
  {
   "cell_type": "code",
   "execution_count": 63,
   "id": "272e8186-ff28-4689-894c-961632e067d8",
   "metadata": {},
   "outputs": [
    {
     "data": {
      "image/png": "[encoded data removed]",
      "text/plain": [
       "<Figure size 640x480 with 1 Axes>"
      ]
     },
     "metadata": {},
     "output_type": "display_data"
    }
   ],
   "source": [
    "plt.pie(df['mail_subscribed'].value_counts(dropna=False), labels= df['mail_subscribed'].value_counts(dropna=False).index, autopct='%.f%%')\n",
    "plt.show()"
   ]
  },
  {
   "cell_type": "code",
   "execution_count": 69,
   "id": "97630d41-9318-4369-93f0-743023cb629d",
   "metadata": {},
   "outputs": [
    {
     "data": {
      "image/png": "[encoded data removed]",
      "text/plain": [
       "<Figure size 640x480 with 1 Axes>"
      ]
     },
     "metadata": {},
     "output_type": "display_data"
    }
   ],
   "source": [
    "plt.pie(df['churn'].value_counts(dropna=False), labels= df['churn'].value_counts(dropna=False).index, autopct='%.f%%')\n",
    "plt.show()"
   ]
  },
  {
   "cell_type": "code",
   "execution_count": 71,
   "id": "4b612167-3132-4532-80d0-cc4143e1181d",
   "metadata": {},
   "outputs": [
    {
     "data": {
      "image/png": "[encoded data removed]",
      "text/plain": [
       "<Figure size 640x480 with 1 Axes>"
      ]
     },
     "metadata": {},
     "output_type": "display_data"
    }
   ],
   "source": [
    "plt.pie(df['maximum_days_inactive'].value_counts(dropna=False), \n",
    "        labels= df['maximum_days_inactive'].value_counts(dropna=False).index, \n",
    "        autopct='%.f%%',\n",
    "       explode=[0,0.2,0.5,0.8,0.2,0.6,0.3,0.8]\n",
    "       )\n",
    "plt.show()"
   ]
  },
  {
   "cell_type": "markdown",
   "id": "408639e6-35b0-43e6-b5b5-20805b89bc3e",
   "metadata": {},
   "source": [
    "### How to handle missing data"
   ]
  },
  {
   "cell_type": "markdown",
   "id": "ae0fa63e-9cfc-4e69-b807-d40f465d6b19",
   "metadata": {},
   "source": [
    "- Filling the values\n",
    "- Delete the comumn(s)\n",
    "- Delete the row(s)\n",
    "\n",
    "1. Filling the values:\n",
    "- For numerical comumns, we can fill the values with median or mean\n",
    "- For categorical columns, we can fill the value with mode (most frequent values), least frequent value or a new category\n",
    "2. Deleting the columns:\n",
    "- If the column has more than 30-40% data missing then we can delete column\n",
    "- This is not a thumb rule, we can be flexible here depending on our usecase\n",
    "  \n",
    "3.Deleting the rows:\n",
    "- Should be avoided to save data"
   ]
  },
  {
   "cell_type": "code",
   "execution_count": 77,
   "id": "65f6e547-ff9c-4d64-a997-9197e93198c9",
   "metadata": {},
   "outputs": [
    {
     "data": {
      "text/plain": [
       "0       Female\n",
       "1       Female\n",
       "2       Female\n",
       "3       Female\n",
       "4       Female\n",
       "         ...  \n",
       "1995    Female\n",
       "1996      Male\n",
       "1997       NaN\n",
       "1998      Male\n",
       "1999      Male\n",
       "Name: gender, Length: 2000, dtype: object"
      ]
     },
     "execution_count": 77,
     "metadata": {},
     "output_type": "execute_result"
    }
   ],
   "source": [
    "df['gender']"
   ]
  },
  {
   "cell_type": "code",
   "execution_count": 83,
   "id": "25d6b2d3-e009-4b5c-951a-a0c1ef2391e7",
   "metadata": {},
   "outputs": [
    {
     "data": {
      "text/plain": [
       "gender\n",
       "Male      1053\n",
       "Female     923\n",
       "NaN         24\n",
       "Name: count, dtype: int64"
      ]
     },
     "execution_count": 83,
     "metadata": {},
     "output_type": "execute_result"
    }
   ],
   "source": [
    "df['gender'].value_counts(dropna=False)"
   ]
  },
  {
   "cell_type": "code",
   "execution_count": 81,
   "id": "7deb46b3-c2b0-4425-a9b4-ac6f52b92146",
   "metadata": {},
   "outputs": [
    {
     "data": {
      "text/plain": [
       "0    Male\n",
       "Name: gender, dtype: object"
      ]
     },
     "execution_count": 81,
     "metadata": {},
     "output_type": "execute_result"
    }
   ],
   "source": [
    "df['gender'].mode()"
   ]
  },
  {
   "cell_type": "code",
   "execution_count": 85,
   "id": "49ba70e4-c98f-46a6-93fe-8ae2e5637100",
   "metadata": {},
   "outputs": [
    {
     "data": {
      "text/plain": [
       "'Male'"
      ]
     },
     "execution_count": 85,
     "metadata": {},
     "output_type": "execute_result"
    }
   ],
   "source": [
    "df['gender'].mode().iloc[0]"
   ]
  },
  {
   "cell_type": "code",
   "execution_count": 89,
   "id": "88d67fc9-d15b-4e3a-88c1-543cda3e20bc",
   "metadata": {},
   "outputs": [
    {
     "data": {
      "text/plain": [
       "churn\n",
       "Subscriber      1703\n",
       "Unsubscriber     262\n",
       "NaN               35\n",
       "Name: count, dtype: int64"
      ]
     },
     "execution_count": 89,
     "metadata": {},
     "output_type": "execute_result"
    }
   ],
   "source": [
    "df['churn'].value_counts(dropna=False)"
   ]
  },
  {
   "cell_type": "code",
   "execution_count": 91,
   "id": "d7106d0b-190c-4985-a87a-36eab66d61bb",
   "metadata": {},
   "outputs": [
    {
     "data": {
      "text/plain": [
       "0       False\n",
       "1       False\n",
       "2       False\n",
       "3       False\n",
       "4       False\n",
       "        ...  \n",
       "1995     True\n",
       "1996    False\n",
       "1997    False\n",
       "1998    False\n",
       "1999    False\n",
       "Name: churn, Length: 2000, dtype: bool"
      ]
     },
     "execution_count": 91,
     "metadata": {},
     "output_type": "execute_result"
    }
   ],
   "source": [
    "df['churn'].isna()"
   ]
  },
  {
   "cell_type": "code",
   "execution_count": 93,
   "id": "396c1f59-56cc-49db-ab38-eac2f4beda3a",
   "metadata": {},
   "outputs": [
    {
     "data": {
      "text/html": [
       "<div>\n",
       "<style scoped>\n",
       "    .dataframe tbody tr th:only-of-type {\n",
       "        vertical-align: middle;\n",
       "    }\n",
       "\n",
       "    .dataframe tbody tr th {\n",
       "        vertical-align: top;\n",
       "    }\n",
       "\n",
       "    .dataframe thead th {\n",
       "        text-align: right;\n",
       "    }\n",
       "</style>\n",
       "<table border=\"1\" class=\"dataframe\">\n",
       "  <thead>\n",
       "    <tr style=\"text-align: right;\">\n",
       "      <th></th>\n",
       "      <th>year</th>\n",
       "      <th>customer_id</th>\n",
       "      <th>phone_no</th>\n",
       "      <th>gender</th>\n",
       "      <th>age</th>\n",
       "      <th>no_of_days_subscribed</th>\n",
       "      <th>multi_screen</th>\n",
       "      <th>mail_subscribed</th>\n",
       "      <th>weekly_mins_watched</th>\n",
       "      <th>minimum_daily_mins</th>\n",
       "      <th>maximum_daily_mins</th>\n",
       "      <th>weekly_max_night_mins</th>\n",
       "      <th>videos_watched</th>\n",
       "      <th>maximum_days_inactive</th>\n",
       "      <th>customer_support_calls</th>\n",
       "      <th>churn</th>\n",
       "    </tr>\n",
       "  </thead>\n",
       "  <tbody>\n",
       "    <tr>\n",
       "      <th>81</th>\n",
       "      <td>2015</td>\n",
       "      <td>129137</td>\n",
       "      <td>335-7257</td>\n",
       "      <td>Female</td>\n",
       "      <td>36</td>\n",
       "      <td>92</td>\n",
       "      <td>no</td>\n",
       "      <td>yes</td>\n",
       "      <td>276.00</td>\n",
       "      <td>12.7</td>\n",
       "      <td>31.28</td>\n",
       "      <td>96</td>\n",
       "      <td>3</td>\n",
       "      <td>NaN</td>\n",
       "      <td>2</td>\n",
       "      <td>NaN</td>\n",
       "    </tr>\n",
       "    <tr>\n",
       "      <th>82</th>\n",
       "      <td>2015</td>\n",
       "      <td>129487</td>\n",
       "      <td>377-9178</td>\n",
       "      <td>Female</td>\n",
       "      <td>39</td>\n",
       "      <td>103</td>\n",
       "      <td>no</td>\n",
       "      <td>no</td>\n",
       "      <td>240.30</td>\n",
       "      <td>9.7</td>\n",
       "      <td>27.23</td>\n",
       "      <td>97</td>\n",
       "      <td>2</td>\n",
       "      <td>NaN</td>\n",
       "      <td>0</td>\n",
       "      <td>NaN</td>\n",
       "    </tr>\n",
       "    <tr>\n",
       "      <th>120</th>\n",
       "      <td>2015</td>\n",
       "      <td>148624</td>\n",
       "      <td>410-5713</td>\n",
       "      <td>Male</td>\n",
       "      <td>32</td>\n",
       "      <td>66</td>\n",
       "      <td>no</td>\n",
       "      <td>yes</td>\n",
       "      <td>262.05</td>\n",
       "      <td>8.9</td>\n",
       "      <td>29.70</td>\n",
       "      <td>98</td>\n",
       "      <td>2</td>\n",
       "      <td>3.0</td>\n",
       "      <td>1</td>\n",
       "      <td>NaN</td>\n",
       "    </tr>\n",
       "    <tr>\n",
       "      <th>121</th>\n",
       "      <td>2015</td>\n",
       "      <td>148676</td>\n",
       "      <td>370-7546</td>\n",
       "      <td>Male</td>\n",
       "      <td>37</td>\n",
       "      <td>87</td>\n",
       "      <td>no</td>\n",
       "      <td>no</td>\n",
       "      <td>235.20</td>\n",
       "      <td>7.6</td>\n",
       "      <td>26.66</td>\n",
       "      <td>77</td>\n",
       "      <td>6</td>\n",
       "      <td>3.0</td>\n",
       "      <td>1</td>\n",
       "      <td>NaN</td>\n",
       "    </tr>\n",
       "    <tr>\n",
       "      <th>156</th>\n",
       "      <td>2015</td>\n",
       "      <td>165361</td>\n",
       "      <td>380-8727</td>\n",
       "      <td>Female</td>\n",
       "      <td>37</td>\n",
       "      <td>99</td>\n",
       "      <td>no</td>\n",
       "      <td>no</td>\n",
       "      <td>173.25</td>\n",
       "      <td>11.5</td>\n",
       "      <td>19.64</td>\n",
       "      <td>98</td>\n",
       "      <td>7</td>\n",
       "      <td>4.0</td>\n",
       "      <td>7</td>\n",
       "      <td>NaN</td>\n",
       "    </tr>\n",
       "    <tr>\n",
       "      <th>157</th>\n",
       "      <td>2015</td>\n",
       "      <td>165883</td>\n",
       "      <td>358-9095</td>\n",
       "      <td>Female</td>\n",
       "      <td>28</td>\n",
       "      <td>128</td>\n",
       "      <td>no</td>\n",
       "      <td>no</td>\n",
       "      <td>356.85</td>\n",
       "      <td>13.9</td>\n",
       "      <td>40.44</td>\n",
       "      <td>68</td>\n",
       "      <td>4</td>\n",
       "      <td>4.0</td>\n",
       "      <td>1</td>\n",
       "      <td>NaN</td>\n",
       "    </tr>\n",
       "    <tr>\n",
       "      <th>194</th>\n",
       "      <td>2015</td>\n",
       "      <td>184762</td>\n",
       "      <td>357-1909</td>\n",
       "      <td>Male</td>\n",
       "      <td>31</td>\n",
       "      <td>151</td>\n",
       "      <td>yes</td>\n",
       "      <td>no</td>\n",
       "      <td>327.00</td>\n",
       "      <td>12.4</td>\n",
       "      <td>37.06</td>\n",
       "      <td>95</td>\n",
       "      <td>1</td>\n",
       "      <td>4.0</td>\n",
       "      <td>0</td>\n",
       "      <td>NaN</td>\n",
       "    </tr>\n",
       "    <tr>\n",
       "      <th>195</th>\n",
       "      <td>2015</td>\n",
       "      <td>184815</td>\n",
       "      <td>397-7500</td>\n",
       "      <td>Male</td>\n",
       "      <td>40</td>\n",
       "      <td>105</td>\n",
       "      <td>no</td>\n",
       "      <td>yes</td>\n",
       "      <td>211.80</td>\n",
       "      <td>11.4</td>\n",
       "      <td>24.00</td>\n",
       "      <td>101</td>\n",
       "      <td>2</td>\n",
       "      <td>4.0</td>\n",
       "      <td>1</td>\n",
       "      <td>NaN</td>\n",
       "    </tr>\n",
       "    <tr>\n",
       "      <th>228</th>\n",
       "      <td>2015</td>\n",
       "      <td>200466</td>\n",
       "      <td>374-1551</td>\n",
       "      <td>Male</td>\n",
       "      <td>38</td>\n",
       "      <td>80</td>\n",
       "      <td>no</td>\n",
       "      <td>no</td>\n",
       "      <td>177.15</td>\n",
       "      <td>8.2</td>\n",
       "      <td>20.08</td>\n",
       "      <td>86</td>\n",
       "      <td>6</td>\n",
       "      <td>3.0</td>\n",
       "      <td>1</td>\n",
       "      <td>NaN</td>\n",
       "    </tr>\n",
       "    <tr>\n",
       "      <th>290</th>\n",
       "      <td>2015</td>\n",
       "      <td>230769</td>\n",
       "      <td>366-7247</td>\n",
       "      <td>Male</td>\n",
       "      <td>60</td>\n",
       "      <td>93</td>\n",
       "      <td>yes</td>\n",
       "      <td>no</td>\n",
       "      <td>325.35</td>\n",
       "      <td>17.5</td>\n",
       "      <td>36.87</td>\n",
       "      <td>110</td>\n",
       "      <td>5</td>\n",
       "      <td>5.0</td>\n",
       "      <td>1</td>\n",
       "      <td>NaN</td>\n",
       "    </tr>\n",
       "    <tr>\n",
       "      <th>291</th>\n",
       "      <td>2015</td>\n",
       "      <td>231790</td>\n",
       "      <td>344-7470</td>\n",
       "      <td>Female</td>\n",
       "      <td>35</td>\n",
       "      <td>92</td>\n",
       "      <td>no</td>\n",
       "      <td>no</td>\n",
       "      <td>318.60</td>\n",
       "      <td>9.0</td>\n",
       "      <td>36.11</td>\n",
       "      <td>105</td>\n",
       "      <td>4</td>\n",
       "      <td>3.0</td>\n",
       "      <td>1</td>\n",
       "      <td>NaN</td>\n",
       "    </tr>\n",
       "    <tr>\n",
       "      <th>364</th>\n",
       "      <td>2015</td>\n",
       "      <td>261719</td>\n",
       "      <td>353-6870</td>\n",
       "      <td>Male</td>\n",
       "      <td>34</td>\n",
       "      <td>90</td>\n",
       "      <td>no</td>\n",
       "      <td>no</td>\n",
       "      <td>218.25</td>\n",
       "      <td>10.9</td>\n",
       "      <td>24.74</td>\n",
       "      <td>123</td>\n",
       "      <td>2</td>\n",
       "      <td>3.0</td>\n",
       "      <td>3</td>\n",
       "      <td>NaN</td>\n",
       "    </tr>\n",
       "    <tr>\n",
       "      <th>365</th>\n",
       "      <td>2015</td>\n",
       "      <td>261966</td>\n",
       "      <td>348-2916</td>\n",
       "      <td>Female</td>\n",
       "      <td>33</td>\n",
       "      <td>92</td>\n",
       "      <td>no</td>\n",
       "      <td>no</td>\n",
       "      <td>398.40</td>\n",
       "      <td>8.6</td>\n",
       "      <td>45.15</td>\n",
       "      <td>113</td>\n",
       "      <td>2</td>\n",
       "      <td>3.0</td>\n",
       "      <td>1</td>\n",
       "      <td>NaN</td>\n",
       "    </tr>\n",
       "    <tr>\n",
       "      <th>410</th>\n",
       "      <td>2015</td>\n",
       "      <td>280804</td>\n",
       "      <td>337-7167</td>\n",
       "      <td>Male</td>\n",
       "      <td>32</td>\n",
       "      <td>143</td>\n",
       "      <td>no</td>\n",
       "      <td>no</td>\n",
       "      <td>334.95</td>\n",
       "      <td>4.5</td>\n",
       "      <td>37.96</td>\n",
       "      <td>84</td>\n",
       "      <td>4</td>\n",
       "      <td>2.0</td>\n",
       "      <td>0</td>\n",
       "      <td>NaN</td>\n",
       "    </tr>\n",
       "    <tr>\n",
       "      <th>451</th>\n",
       "      <td>2015</td>\n",
       "      <td>302751</td>\n",
       "      <td>359-1231</td>\n",
       "      <td>Male</td>\n",
       "      <td>58</td>\n",
       "      <td>138</td>\n",
       "      <td>no</td>\n",
       "      <td>no</td>\n",
       "      <td>362.70</td>\n",
       "      <td>11.8</td>\n",
       "      <td>41.11</td>\n",
       "      <td>104</td>\n",
       "      <td>7</td>\n",
       "      <td>4.0</td>\n",
       "      <td>3</td>\n",
       "      <td>NaN</td>\n",
       "    </tr>\n",
       "    <tr>\n",
       "      <th>452</th>\n",
       "      <td>2015</td>\n",
       "      <td>302827</td>\n",
       "      <td>367-3971</td>\n",
       "      <td>Male</td>\n",
       "      <td>27</td>\n",
       "      <td>115</td>\n",
       "      <td>no</td>\n",
       "      <td>no</td>\n",
       "      <td>198.00</td>\n",
       "      <td>0.0</td>\n",
       "      <td>22.44</td>\n",
       "      <td>114</td>\n",
       "      <td>0</td>\n",
       "      <td>0.0</td>\n",
       "      <td>3</td>\n",
       "      <td>NaN</td>\n",
       "    </tr>\n",
       "    <tr>\n",
       "      <th>495</th>\n",
       "      <td>2015</td>\n",
       "      <td>326310</td>\n",
       "      <td>354-3436</td>\n",
       "      <td>Male</td>\n",
       "      <td>48</td>\n",
       "      <td>117</td>\n",
       "      <td>no</td>\n",
       "      <td>no</td>\n",
       "      <td>154.20</td>\n",
       "      <td>10.1</td>\n",
       "      <td>17.48</td>\n",
       "      <td>105</td>\n",
       "      <td>7</td>\n",
       "      <td>3.0</td>\n",
       "      <td>1</td>\n",
       "      <td>NaN</td>\n",
       "    </tr>\n",
       "    <tr>\n",
       "      <th>535</th>\n",
       "      <td>2015</td>\n",
       "      <td>342077</td>\n",
       "      <td>392-2268</td>\n",
       "      <td>Male</td>\n",
       "      <td>26</td>\n",
       "      <td>108</td>\n",
       "      <td>no</td>\n",
       "      <td>no</td>\n",
       "      <td>298.95</td>\n",
       "      <td>15.2</td>\n",
       "      <td>33.88</td>\n",
       "      <td>57</td>\n",
       "      <td>2</td>\n",
       "      <td>5.0</td>\n",
       "      <td>0</td>\n",
       "      <td>NaN</td>\n",
       "    </tr>\n",
       "    <tr>\n",
       "      <th>536</th>\n",
       "      <td>2015</td>\n",
       "      <td>342187</td>\n",
       "      <td>357-3577</td>\n",
       "      <td>Male</td>\n",
       "      <td>36</td>\n",
       "      <td>69</td>\n",
       "      <td>no</td>\n",
       "      <td>no</td>\n",
       "      <td>277.95</td>\n",
       "      <td>5.5</td>\n",
       "      <td>31.50</td>\n",
       "      <td>107</td>\n",
       "      <td>5</td>\n",
       "      <td>2.0</td>\n",
       "      <td>0</td>\n",
       "      <td>NaN</td>\n",
       "    </tr>\n",
       "    <tr>\n",
       "      <th>537</th>\n",
       "      <td>2015</td>\n",
       "      <td>342431</td>\n",
       "      <td>373-2782</td>\n",
       "      <td>Male</td>\n",
       "      <td>24</td>\n",
       "      <td>73</td>\n",
       "      <td>no</td>\n",
       "      <td>no</td>\n",
       "      <td>336.60</td>\n",
       "      <td>13.0</td>\n",
       "      <td>38.15</td>\n",
       "      <td>74</td>\n",
       "      <td>2</td>\n",
       "      <td>4.0</td>\n",
       "      <td>1</td>\n",
       "      <td>NaN</td>\n",
       "    </tr>\n",
       "    <tr>\n",
       "      <th>538</th>\n",
       "      <td>2015</td>\n",
       "      <td>344089</td>\n",
       "      <td>369-5449</td>\n",
       "      <td>Female</td>\n",
       "      <td>46</td>\n",
       "      <td>24</td>\n",
       "      <td>no</td>\n",
       "      <td>no</td>\n",
       "      <td>364.50</td>\n",
       "      <td>15.3</td>\n",
       "      <td>41.31</td>\n",
       "      <td>109</td>\n",
       "      <td>6</td>\n",
       "      <td>5.0</td>\n",
       "      <td>0</td>\n",
       "      <td>NaN</td>\n",
       "    </tr>\n",
       "    <tr>\n",
       "      <th>676</th>\n",
       "      <td>2015</td>\n",
       "      <td>414753</td>\n",
       "      <td>388-6479</td>\n",
       "      <td>Female</td>\n",
       "      <td>63</td>\n",
       "      <td>109</td>\n",
       "      <td>no</td>\n",
       "      <td>yes</td>\n",
       "      <td>326.25</td>\n",
       "      <td>9.0</td>\n",
       "      <td>36.98</td>\n",
       "      <td>99</td>\n",
       "      <td>3</td>\n",
       "      <td>3.0</td>\n",
       "      <td>4</td>\n",
       "      <td>NaN</td>\n",
       "    </tr>\n",
       "    <tr>\n",
       "      <th>677</th>\n",
       "      <td>2015</td>\n",
       "      <td>415888</td>\n",
       "      <td>357-4078</td>\n",
       "      <td>Male</td>\n",
       "      <td>29</td>\n",
       "      <td>110</td>\n",
       "      <td>no</td>\n",
       "      <td>yes</td>\n",
       "      <td>303.90</td>\n",
       "      <td>9.0</td>\n",
       "      <td>34.44</td>\n",
       "      <td>98</td>\n",
       "      <td>9</td>\n",
       "      <td>3.0</td>\n",
       "      <td>2</td>\n",
       "      <td>NaN</td>\n",
       "    </tr>\n",
       "    <tr>\n",
       "      <th>678</th>\n",
       "      <td>2015</td>\n",
       "      <td>415976</td>\n",
       "      <td>419-8987</td>\n",
       "      <td>Female</td>\n",
       "      <td>25</td>\n",
       "      <td>44</td>\n",
       "      <td>no</td>\n",
       "      <td>no</td>\n",
       "      <td>432.15</td>\n",
       "      <td>10.2</td>\n",
       "      <td>48.98</td>\n",
       "      <td>90</td>\n",
       "      <td>4</td>\n",
       "      <td>3.0</td>\n",
       "      <td>3</td>\n",
       "      <td>NaN</td>\n",
       "    </tr>\n",
       "    <tr>\n",
       "      <th>767</th>\n",
       "      <td>2015</td>\n",
       "      <td>459172</td>\n",
       "      <td>349-2808</td>\n",
       "      <td>Male</td>\n",
       "      <td>37</td>\n",
       "      <td>86</td>\n",
       "      <td>no</td>\n",
       "      <td>yes</td>\n",
       "      <td>178.50</td>\n",
       "      <td>9.5</td>\n",
       "      <td>20.23</td>\n",
       "      <td>58</td>\n",
       "      <td>3</td>\n",
       "      <td>3.0</td>\n",
       "      <td>0</td>\n",
       "      <td>NaN</td>\n",
       "    </tr>\n",
       "    <tr>\n",
       "      <th>768</th>\n",
       "      <td>2015</td>\n",
       "      <td>459208</td>\n",
       "      <td>358-5953</td>\n",
       "      <td>Male</td>\n",
       "      <td>28</td>\n",
       "      <td>112</td>\n",
       "      <td>no</td>\n",
       "      <td>no</td>\n",
       "      <td>173.70</td>\n",
       "      <td>13.1</td>\n",
       "      <td>19.69</td>\n",
       "      <td>78</td>\n",
       "      <td>5</td>\n",
       "      <td>4.0</td>\n",
       "      <td>1</td>\n",
       "      <td>NaN</td>\n",
       "    </tr>\n",
       "    <tr>\n",
       "      <th>813</th>\n",
       "      <td>2015</td>\n",
       "      <td>480373</td>\n",
       "      <td>330-4978</td>\n",
       "      <td>Male</td>\n",
       "      <td>23</td>\n",
       "      <td>80</td>\n",
       "      <td>no</td>\n",
       "      <td>no</td>\n",
       "      <td>403.05</td>\n",
       "      <td>5.8</td>\n",
       "      <td>45.68</td>\n",
       "      <td>140</td>\n",
       "      <td>1</td>\n",
       "      <td>2.0</td>\n",
       "      <td>2</td>\n",
       "      <td>NaN</td>\n",
       "    </tr>\n",
       "    <tr>\n",
       "      <th>875</th>\n",
       "      <td>2015</td>\n",
       "      <td>513212</td>\n",
       "      <td>398-6703</td>\n",
       "      <td>Female</td>\n",
       "      <td>46</td>\n",
       "      <td>110</td>\n",
       "      <td>no</td>\n",
       "      <td>no</td>\n",
       "      <td>363.75</td>\n",
       "      <td>7.8</td>\n",
       "      <td>41.23</td>\n",
       "      <td>86</td>\n",
       "      <td>3</td>\n",
       "      <td>3.0</td>\n",
       "      <td>4</td>\n",
       "      <td>NaN</td>\n",
       "    </tr>\n",
       "    <tr>\n",
       "      <th>876</th>\n",
       "      <td>2015</td>\n",
       "      <td>513943</td>\n",
       "      <td>389-5649</td>\n",
       "      <td>Female</td>\n",
       "      <td>28</td>\n",
       "      <td>31</td>\n",
       "      <td>no</td>\n",
       "      <td>no</td>\n",
       "      <td>265.95</td>\n",
       "      <td>5.1</td>\n",
       "      <td>30.14</td>\n",
       "      <td>92</td>\n",
       "      <td>2</td>\n",
       "      <td>2.0</td>\n",
       "      <td>0</td>\n",
       "      <td>NaN</td>\n",
       "    </tr>\n",
       "    <tr>\n",
       "      <th>910</th>\n",
       "      <td>2015</td>\n",
       "      <td>527975</td>\n",
       "      <td>366-5829</td>\n",
       "      <td>Male</td>\n",
       "      <td>44</td>\n",
       "      <td>125</td>\n",
       "      <td>no</td>\n",
       "      <td>no</td>\n",
       "      <td>214.80</td>\n",
       "      <td>8.8</td>\n",
       "      <td>24.34</td>\n",
       "      <td>135</td>\n",
       "      <td>7</td>\n",
       "      <td>3.0</td>\n",
       "      <td>4</td>\n",
       "      <td>NaN</td>\n",
       "    </tr>\n",
       "    <tr>\n",
       "      <th>911</th>\n",
       "      <td>2015</td>\n",
       "      <td>527998</td>\n",
       "      <td>337-9878</td>\n",
       "      <td>Female</td>\n",
       "      <td>47</td>\n",
       "      <td>103</td>\n",
       "      <td>no</td>\n",
       "      <td>yes</td>\n",
       "      <td>278.10</td>\n",
       "      <td>14.5</td>\n",
       "      <td>31.52</td>\n",
       "      <td>110</td>\n",
       "      <td>4</td>\n",
       "      <td>4.0</td>\n",
       "      <td>2</td>\n",
       "      <td>NaN</td>\n",
       "    </tr>\n",
       "    <tr>\n",
       "      <th>915</th>\n",
       "      <td>2015</td>\n",
       "      <td>529554</td>\n",
       "      <td>346-5068</td>\n",
       "      <td>Male</td>\n",
       "      <td>43</td>\n",
       "      <td>172</td>\n",
       "      <td>no</td>\n",
       "      <td>no</td>\n",
       "      <td>430.65</td>\n",
       "      <td>14.4</td>\n",
       "      <td>48.81</td>\n",
       "      <td>98</td>\n",
       "      <td>2</td>\n",
       "      <td>4.0</td>\n",
       "      <td>3</td>\n",
       "      <td>NaN</td>\n",
       "    </tr>\n",
       "    <tr>\n",
       "      <th>1993</th>\n",
       "      <td>2015</td>\n",
       "      <td>996129</td>\n",
       "      <td>401-3170</td>\n",
       "      <td>Male</td>\n",
       "      <td>36</td>\n",
       "      <td>127</td>\n",
       "      <td>no</td>\n",
       "      <td>no</td>\n",
       "      <td>303.15</td>\n",
       "      <td>11.5</td>\n",
       "      <td>34.36</td>\n",
       "      <td>113</td>\n",
       "      <td>3</td>\n",
       "      <td>4.0</td>\n",
       "      <td>2</td>\n",
       "      <td>NaN</td>\n",
       "    </tr>\n",
       "    <tr>\n",
       "      <th>1994</th>\n",
       "      <td>2015</td>\n",
       "      <td>996524</td>\n",
       "      <td>351-9604</td>\n",
       "      <td>Female</td>\n",
       "      <td>60</td>\n",
       "      <td>141</td>\n",
       "      <td>no</td>\n",
       "      <td>yes</td>\n",
       "      <td>310.35</td>\n",
       "      <td>9.3</td>\n",
       "      <td>35.17</td>\n",
       "      <td>124</td>\n",
       "      <td>11</td>\n",
       "      <td>3.0</td>\n",
       "      <td>2</td>\n",
       "      <td>NaN</td>\n",
       "    </tr>\n",
       "    <tr>\n",
       "      <th>1995</th>\n",
       "      <td>2015</td>\n",
       "      <td>997132</td>\n",
       "      <td>385-7387</td>\n",
       "      <td>Female</td>\n",
       "      <td>54</td>\n",
       "      <td>75</td>\n",
       "      <td>no</td>\n",
       "      <td>yes</td>\n",
       "      <td>182.25</td>\n",
       "      <td>11.3</td>\n",
       "      <td>20.66</td>\n",
       "      <td>97</td>\n",
       "      <td>5</td>\n",
       "      <td>4.0</td>\n",
       "      <td>2</td>\n",
       "      <td>NaN</td>\n",
       "    </tr>\n",
       "  </tbody>\n",
       "</table>\n",
       "</div>"
      ],
      "text/plain": [
       "      year  customer_id  phone_no  gender  age  no_of_days_subscribed  \\\n",
       "81    2015       129137  335-7257  Female   36                     92   \n",
       "82    2015       129487  377-9178  Female   39                    103   \n",
       "120   2015       148624  410-5713    Male   32                     66   \n",
       "121   2015       148676  370-7546    Male   37                     87   \n",
       "156   2015       165361  380-8727  Female   37                     99   \n",
       "157   2015       165883  358-9095  Female   28                    128   \n",
       "194   2015       184762  357-1909    Male   31                    151   \n",
       "195   2015       184815  397-7500    Male   40                    105   \n",
       "228   2015       200466  374-1551    Male   38                     80   \n",
       "290   2015       230769  366-7247    Male   60                     93   \n",
       "291   2015       231790  344-7470  Female   35                     92   \n",
       "364   2015       261719  353-6870    Male   34                     90   \n",
       "365   2015       261966  348-2916  Female   33                     92   \n",
       "410   2015       280804  337-7167    Male   32                    143   \n",
       "451   2015       302751  359-1231    Male   58                    138   \n",
       "452   2015       302827  367-3971    Male   27                    115   \n",
       "495   2015       326310  354-3436    Male   48                    117   \n",
       "535   2015       342077  392-2268    Male   26                    108   \n",
       "536   2015       342187  357-3577    Male   36                     69   \n",
       "537   2015       342431  373-2782    Male   24                     73   \n",
       "538   2015       344089  369-5449  Female   46                     24   \n",
       "676   2015       414753  388-6479  Female   63                    109   \n",
       "677   2015       415888  357-4078    Male   29                    110   \n",
       "678   2015       415976  419-8987  Female   25                     44   \n",
       "767   2015       459172  349-2808    Male   37                     86   \n",
       "768   2015       459208  358-5953    Male   28                    112   \n",
       "813   2015       480373  330-4978    Male   23                     80   \n",
       "875   2015       513212  398-6703  Female   46                    110   \n",
       "876   2015       513943  389-5649  Female   28                     31   \n",
       "910   2015       527975  366-5829    Male   44                    125   \n",
       "911   2015       527998  337-9878  Female   47                    103   \n",
       "915   2015       529554  346-5068    Male   43                    172   \n",
       "1993  2015       996129  401-3170    Male   36                    127   \n",
       "1994  2015       996524  351-9604  Female   60                    141   \n",
       "1995  2015       997132  385-7387  Female   54                     75   \n",
       "\n",
       "     multi_screen mail_subscribed  weekly_mins_watched  minimum_daily_mins  \\\n",
       "81             no             yes               276.00                12.7   \n",
       "82             no              no               240.30                 9.7   \n",
       "120            no             yes               262.05                 8.9   \n",
       "121            no              no               235.20                 7.6   \n",
       "156            no              no               173.25                11.5   \n",
       "157            no              no               356.85                13.9   \n",
       "194           yes              no               327.00                12.4   \n",
       "195            no             yes               211.80                11.4   \n",
       "228            no              no               177.15                 8.2   \n",
       "290           yes              no               325.35                17.5   \n",
       "291            no              no               318.60                 9.0   \n",
       "364            no              no               218.25                10.9   \n",
       "365            no              no               398.40                 8.6   \n",
       "410            no              no               334.95                 4.5   \n",
       "451            no              no               362.70                11.8   \n",
       "452            no              no               198.00                 0.0   \n",
       "495            no              no               154.20                10.1   \n",
       "535            no              no               298.95                15.2   \n",
       "536            no              no               277.95                 5.5   \n",
       "537            no              no               336.60                13.0   \n",
       "538            no              no               364.50                15.3   \n",
       "676            no             yes               326.25                 9.0   \n",
       "677            no             yes               303.90                 9.0   \n",
       "678            no              no               432.15                10.2   \n",
       "767            no             yes               178.50                 9.5   \n",
       "768            no              no               173.70                13.1   \n",
       "813            no              no               403.05                 5.8   \n",
       "875            no              no               363.75                 7.8   \n",
       "876            no              no               265.95                 5.1   \n",
       "910            no              no               214.80                 8.8   \n",
       "911            no             yes               278.10                14.5   \n",
       "915            no              no               430.65                14.4   \n",
       "1993           no              no               303.15                11.5   \n",
       "1994           no             yes               310.35                 9.3   \n",
       "1995           no             yes               182.25                11.3   \n",
       "\n",
       "      maximum_daily_mins  weekly_max_night_mins  videos_watched  \\\n",
       "81                 31.28                     96               3   \n",
       "82                 27.23                     97               2   \n",
       "120                29.70                     98               2   \n",
       "121                26.66                     77               6   \n",
       "156                19.64                     98               7   \n",
       "157                40.44                     68               4   \n",
       "194                37.06                     95               1   \n",
       "195                24.00                    101               2   \n",
       "228                20.08                     86               6   \n",
       "290                36.87                    110               5   \n",
       "291                36.11                    105               4   \n",
       "364                24.74                    123               2   \n",
       "365                45.15                    113               2   \n",
       "410                37.96                     84               4   \n",
       "451                41.11                    104               7   \n",
       "452                22.44                    114               0   \n",
       "495                17.48                    105               7   \n",
       "535                33.88                     57               2   \n",
       "536                31.50                    107               5   \n",
       "537                38.15                     74               2   \n",
       "538                41.31                    109               6   \n",
       "676                36.98                     99               3   \n",
       "677                34.44                     98               9   \n",
       "678                48.98                     90               4   \n",
       "767                20.23                     58               3   \n",
       "768                19.69                     78               5   \n",
       "813                45.68                    140               1   \n",
       "875                41.23                     86               3   \n",
       "876                30.14                     92               2   \n",
       "910                24.34                    135               7   \n",
       "911                31.52                    110               4   \n",
       "915                48.81                     98               2   \n",
       "1993               34.36                    113               3   \n",
       "1994               35.17                    124              11   \n",
       "1995               20.66                     97               5   \n",
       "\n",
       "      maximum_days_inactive  customer_support_calls churn  \n",
       "81                      NaN                       2   NaN  \n",
       "82                      NaN                       0   NaN  \n",
       "120                     3.0                       1   NaN  \n",
       "121                     3.0                       1   NaN  \n",
       "156                     4.0                       7   NaN  \n",
       "157                     4.0                       1   NaN  \n",
       "194                     4.0                       0   NaN  \n",
       "195                     4.0                       1   NaN  \n",
       "228                     3.0                       1   NaN  \n",
       "290                     5.0                       1   NaN  \n",
       "291                     3.0                       1   NaN  \n",
       "364                     3.0                       3   NaN  \n",
       "365                     3.0                       1   NaN  \n",
       "410                     2.0                       0   NaN  \n",
       "451                     4.0                       3   NaN  \n",
       "452                     0.0                       3   NaN  \n",
       "495                     3.0                       1   NaN  \n",
       "535                     5.0                       0   NaN  \n",
       "536                     2.0                       0   NaN  \n",
       "537                     4.0                       1   NaN  \n",
       "538                     5.0                       0   NaN  \n",
       "676                     3.0                       4   NaN  \n",
       "677                     3.0                       2   NaN  \n",
       "678                     3.0                       3   NaN  \n",
       "767                     3.0                       0   NaN  \n",
       "768                     4.0                       1   NaN  \n",
       "813                     2.0                       2   NaN  \n",
       "875                     3.0                       4   NaN  \n",
       "876                     2.0                       0   NaN  \n",
       "910                     3.0                       4   NaN  \n",
       "911                     4.0                       2   NaN  \n",
       "915                     4.0                       3   NaN  \n",
       "1993                    4.0                       2   NaN  \n",
       "1994                    3.0                       2   NaN  \n",
       "1995                    4.0                       2   NaN  "
      ]
     },
     "execution_count": 93,
     "metadata": {},
     "output_type": "execute_result"
    }
   ],
   "source": [
    "df[df['churn'].isna()]"
   ]
  },
  {
   "cell_type": "code",
   "execution_count": 97,
   "id": "415ef0cb-5486-4454-baef-c23a582ac287",
   "metadata": {},
   "outputs": [
    {
     "data": {
      "text/html": [
       "<div>\n",
       "<style scoped>\n",
       "    .dataframe tbody tr th:only-of-type {\n",
       "        vertical-align: middle;\n",
       "    }\n",
       "\n",
       "    .dataframe tbody tr th {\n",
       "        vertical-align: top;\n",
       "    }\n",
       "\n",
       "    .dataframe thead th {\n",
       "        text-align: right;\n",
       "    }\n",
       "</style>\n",
       "<table border=\"1\" class=\"dataframe\">\n",
       "  <thead>\n",
       "    <tr style=\"text-align: right;\">\n",
       "      <th></th>\n",
       "      <th>maximum_days_inactive</th>\n",
       "      <th>churn</th>\n",
       "    </tr>\n",
       "  </thead>\n",
       "  <tbody>\n",
       "    <tr>\n",
       "      <th>81</th>\n",
       "      <td>NaN</td>\n",
       "      <td>NaN</td>\n",
       "    </tr>\n",
       "    <tr>\n",
       "      <th>82</th>\n",
       "      <td>NaN</td>\n",
       "      <td>NaN</td>\n",
       "    </tr>\n",
       "    <tr>\n",
       "      <th>120</th>\n",
       "      <td>3.0</td>\n",
       "      <td>NaN</td>\n",
       "    </tr>\n",
       "    <tr>\n",
       "      <th>121</th>\n",
       "      <td>3.0</td>\n",
       "      <td>NaN</td>\n",
       "    </tr>\n",
       "    <tr>\n",
       "      <th>156</th>\n",
       "      <td>4.0</td>\n",
       "      <td>NaN</td>\n",
       "    </tr>\n",
       "    <tr>\n",
       "      <th>157</th>\n",
       "      <td>4.0</td>\n",
       "      <td>NaN</td>\n",
       "    </tr>\n",
       "    <tr>\n",
       "      <th>194</th>\n",
       "      <td>4.0</td>\n",
       "      <td>NaN</td>\n",
       "    </tr>\n",
       "    <tr>\n",
       "      <th>195</th>\n",
       "      <td>4.0</td>\n",
       "      <td>NaN</td>\n",
       "    </tr>\n",
       "    <tr>\n",
       "      <th>228</th>\n",
       "      <td>3.0</td>\n",
       "      <td>NaN</td>\n",
       "    </tr>\n",
       "    <tr>\n",
       "      <th>290</th>\n",
       "      <td>5.0</td>\n",
       "      <td>NaN</td>\n",
       "    </tr>\n",
       "    <tr>\n",
       "      <th>291</th>\n",
       "      <td>3.0</td>\n",
       "      <td>NaN</td>\n",
       "    </tr>\n",
       "    <tr>\n",
       "      <th>364</th>\n",
       "      <td>3.0</td>\n",
       "      <td>NaN</td>\n",
       "    </tr>\n",
       "    <tr>\n",
       "      <th>365</th>\n",
       "      <td>3.0</td>\n",
       "      <td>NaN</td>\n",
       "    </tr>\n",
       "    <tr>\n",
       "      <th>410</th>\n",
       "      <td>2.0</td>\n",
       "      <td>NaN</td>\n",
       "    </tr>\n",
       "    <tr>\n",
       "      <th>451</th>\n",
       "      <td>4.0</td>\n",
       "      <td>NaN</td>\n",
       "    </tr>\n",
       "    <tr>\n",
       "      <th>452</th>\n",
       "      <td>0.0</td>\n",
       "      <td>NaN</td>\n",
       "    </tr>\n",
       "    <tr>\n",
       "      <th>495</th>\n",
       "      <td>3.0</td>\n",
       "      <td>NaN</td>\n",
       "    </tr>\n",
       "    <tr>\n",
       "      <th>535</th>\n",
       "      <td>5.0</td>\n",
       "      <td>NaN</td>\n",
       "    </tr>\n",
       "    <tr>\n",
       "      <th>536</th>\n",
       "      <td>2.0</td>\n",
       "      <td>NaN</td>\n",
       "    </tr>\n",
       "    <tr>\n",
       "      <th>537</th>\n",
       "      <td>4.0</td>\n",
       "      <td>NaN</td>\n",
       "    </tr>\n",
       "    <tr>\n",
       "      <th>538</th>\n",
       "      <td>5.0</td>\n",
       "      <td>NaN</td>\n",
       "    </tr>\n",
       "    <tr>\n",
       "      <th>676</th>\n",
       "      <td>3.0</td>\n",
       "      <td>NaN</td>\n",
       "    </tr>\n",
       "    <tr>\n",
       "      <th>677</th>\n",
       "      <td>3.0</td>\n",
       "      <td>NaN</td>\n",
       "    </tr>\n",
       "    <tr>\n",
       "      <th>678</th>\n",
       "      <td>3.0</td>\n",
       "      <td>NaN</td>\n",
       "    </tr>\n",
       "    <tr>\n",
       "      <th>767</th>\n",
       "      <td>3.0</td>\n",
       "      <td>NaN</td>\n",
       "    </tr>\n",
       "    <tr>\n",
       "      <th>768</th>\n",
       "      <td>4.0</td>\n",
       "      <td>NaN</td>\n",
       "    </tr>\n",
       "    <tr>\n",
       "      <th>813</th>\n",
       "      <td>2.0</td>\n",
       "      <td>NaN</td>\n",
       "    </tr>\n",
       "    <tr>\n",
       "      <th>875</th>\n",
       "      <td>3.0</td>\n",
       "      <td>NaN</td>\n",
       "    </tr>\n",
       "    <tr>\n",
       "      <th>876</th>\n",
       "      <td>2.0</td>\n",
       "      <td>NaN</td>\n",
       "    </tr>\n",
       "    <tr>\n",
       "      <th>910</th>\n",
       "      <td>3.0</td>\n",
       "      <td>NaN</td>\n",
       "    </tr>\n",
       "    <tr>\n",
       "      <th>911</th>\n",
       "      <td>4.0</td>\n",
       "      <td>NaN</td>\n",
       "    </tr>\n",
       "    <tr>\n",
       "      <th>915</th>\n",
       "      <td>4.0</td>\n",
       "      <td>NaN</td>\n",
       "    </tr>\n",
       "    <tr>\n",
       "      <th>1993</th>\n",
       "      <td>4.0</td>\n",
       "      <td>NaN</td>\n",
       "    </tr>\n",
       "    <tr>\n",
       "      <th>1994</th>\n",
       "      <td>3.0</td>\n",
       "      <td>NaN</td>\n",
       "    </tr>\n",
       "    <tr>\n",
       "      <th>1995</th>\n",
       "      <td>4.0</td>\n",
       "      <td>NaN</td>\n",
       "    </tr>\n",
       "  </tbody>\n",
       "</table>\n",
       "</div>"
      ],
      "text/plain": [
       "      maximum_days_inactive churn\n",
       "81                      NaN   NaN\n",
       "82                      NaN   NaN\n",
       "120                     3.0   NaN\n",
       "121                     3.0   NaN\n",
       "156                     4.0   NaN\n",
       "157                     4.0   NaN\n",
       "194                     4.0   NaN\n",
       "195                     4.0   NaN\n",
       "228                     3.0   NaN\n",
       "290                     5.0   NaN\n",
       "291                     3.0   NaN\n",
       "364                     3.0   NaN\n",
       "365                     3.0   NaN\n",
       "410                     2.0   NaN\n",
       "451                     4.0   NaN\n",
       "452                     0.0   NaN\n",
       "495                     3.0   NaN\n",
       "535                     5.0   NaN\n",
       "536                     2.0   NaN\n",
       "537                     4.0   NaN\n",
       "538                     5.0   NaN\n",
       "676                     3.0   NaN\n",
       "677                     3.0   NaN\n",
       "678                     3.0   NaN\n",
       "767                     3.0   NaN\n",
       "768                     4.0   NaN\n",
       "813                     2.0   NaN\n",
       "875                     3.0   NaN\n",
       "876                     2.0   NaN\n",
       "910                     3.0   NaN\n",
       "911                     4.0   NaN\n",
       "915                     4.0   NaN\n",
       "1993                    4.0   NaN\n",
       "1994                    3.0   NaN\n",
       "1995                    4.0   NaN"
      ]
     },
     "execution_count": 97,
     "metadata": {},
     "output_type": "execute_result"
    }
   ],
   "source": [
    "df[df['churn'].isna()][['maximum_days_inactive','churn',]]"
   ]
  },
  {
   "cell_type": "code",
   "execution_count": 99,
   "id": "a670d7c8-0e2d-4c48-8027-07d8c9677a81",
   "metadata": {},
   "outputs": [
    {
     "data": {
      "text/plain": [
       "3.2505070993914806"
      ]
     },
     "execution_count": 99,
     "metadata": {},
     "output_type": "execute_result"
    }
   ],
   "source": [
    "df['maximum_days_inactive'].mean()"
   ]
  },
  {
   "cell_type": "code",
   "execution_count": 105,
   "id": "5716f475-c42b-4256-8633-a58d0161326b",
   "metadata": {},
   "outputs": [
    {
     "data": {
      "text/plain": [
       "3.0"
      ]
     },
     "execution_count": 105,
     "metadata": {},
     "output_type": "execute_result"
    }
   ],
   "source": [
    "df['maximum_days_inactive'].median()"
   ]
  },
  {
   "cell_type": "code",
   "execution_count": 107,
   "id": "1862699b-0994-47b4-901f-6f5c5276feaa",
   "metadata": {},
   "outputs": [
    {
     "data": {
      "text/plain": [
       "churn\n",
       "Subscriber      1703\n",
       "Unsubscriber     262\n",
       "NaN               35\n",
       "Name: count, dtype: int64"
      ]
     },
     "execution_count": 107,
     "metadata": {},
     "output_type": "execute_result"
    }
   ],
   "source": [
    "df['churn'].value_counts(dropna=False)"
   ]
  },
  {
   "cell_type": "code",
   "execution_count": 113,
   "id": "46957b73-8561-439f-a6e9-838561db1b3b",
   "metadata": {},
   "outputs": [
    {
     "data": {
      "text/plain": [
       "'Unsubscriber'"
      ]
     },
     "execution_count": 113,
     "metadata": {},
     "output_type": "execute_result"
    }
   ],
   "source": [
    "df['churn'].value_counts().idxmin()"
   ]
  },
  {
   "cell_type": "code",
   "execution_count": 115,
   "id": "173712a1-039f-4874-831b-fd44cf12ae82",
   "metadata": {},
   "outputs": [
    {
     "data": {
      "text/plain": [
       "'Subscriber'"
      ]
     },
     "execution_count": 115,
     "metadata": {},
     "output_type": "execute_result"
    }
   ],
   "source": [
    "df['churn'].value_counts().idxmax()"
   ]
  },
  {
   "cell_type": "code",
   "execution_count": 109,
   "id": "2d22240e-5f9f-49e3-9368-2ca58a62787e",
   "metadata": {},
   "outputs": [
    {
     "data": {
      "text/plain": [
       "maximum_days_inactive\n",
       "3.0    945\n",
       "4.0    645\n",
       "2.0    273\n",
       "5.0     85\n",
       "NaN     28\n",
       "1.0     12\n",
       "0.0     10\n",
       "6.0      2\n",
       "Name: count, dtype: int64"
      ]
     },
     "execution_count": 109,
     "metadata": {},
     "output_type": "execute_result"
    }
   ],
   "source": [
    "df['maximum_days_inactive'].value_counts(dropna=False)"
   ]
  },
  {
   "cell_type": "code",
   "execution_count": 111,
   "id": "c484b033-d114-401e-b13e-644f01da0391",
   "metadata": {},
   "outputs": [
    {
     "data": {
      "text/plain": [
       "year                       0\n",
       "customer_id                0\n",
       "phone_no                   0\n",
       "gender                    24\n",
       "age                        0\n",
       "no_of_days_subscribed      0\n",
       "multi_screen               0\n",
       "mail_subscribed            0\n",
       "weekly_mins_watched        0\n",
       "minimum_daily_mins         0\n",
       "maximum_daily_mins         0\n",
       "weekly_max_night_mins      0\n",
       "videos_watched             0\n",
       "maximum_days_inactive     28\n",
       "customer_support_calls     0\n",
       "churn                     35\n",
       "dtype: int64"
      ]
     },
     "execution_count": 111,
     "metadata": {},
     "output_type": "execute_result"
    }
   ],
   "source": [
    "df.isna().sum()"
   ]
  },
  {
   "cell_type": "code",
   "execution_count": 117,
   "id": "b2a5fa88-55bc-4489-9560-a4bef1fdfcfb",
   "metadata": {},
   "outputs": [],
   "source": [
    "df = df.fillna({\n",
    "    'gender':df['gender'].mode().iloc[0],\n",
    "    'maximum_days_inactive': df['maximum_days_inactive'].median(),\n",
    "    'churn':df['churn'].value_counts().idxmin()\n",
    "})"
   ]
  },
  {
   "cell_type": "code",
   "execution_count": 119,
   "id": "dba00c1b-2320-44ae-b316-a951349275a4",
   "metadata": {},
   "outputs": [
    {
     "data": {
      "text/plain": [
       "year                      0\n",
       "customer_id               0\n",
       "phone_no                  0\n",
       "gender                    0\n",
       "age                       0\n",
       "no_of_days_subscribed     0\n",
       "multi_screen              0\n",
       "mail_subscribed           0\n",
       "weekly_mins_watched       0\n",
       "minimum_daily_mins        0\n",
       "maximum_daily_mins        0\n",
       "weekly_max_night_mins     0\n",
       "videos_watched            0\n",
       "maximum_days_inactive     0\n",
       "customer_support_calls    0\n",
       "churn                     0\n",
       "dtype: int64"
      ]
     },
     "execution_count": 119,
     "metadata": {},
     "output_type": "execute_result"
    }
   ],
   "source": [
    "df.isna().sum()"
   ]
  },
  {
   "cell_type": "code",
   "execution_count": null,
   "id": "3604af53-3719-4dad-bb85-42111943b613",
   "metadata": {},
   "outputs": [],
   "source": []
  }
 ],
 "metadata": {
  "kernelspec": {
   "display_name": "Python [conda env:base] *",
   "language": "python",
   "name": "conda-base-py"
  },
  "language_info": {
   "codemirror_mode": {
    "name": "ipython",
    "version": 3
   },
   "file_extension": ".py",
   "mimetype": "text/x-python",
   "name": "python",
   "nbconvert_exporter": "python",
   "pygments_lexer": "ipython3",
   "version": "3.12.7"
  }
 },
 "nbformat": 4,
 "nbformat_minor": 5
}
