{
 "cells": [
  {
   "cell_type": "code",
   "execution_count": 1,
   "id": "8a78a7e0-111d-409e-9e48-62564bb9f47c",
   "metadata": {},
   "outputs": [],
   "source": [
    "# HTML hyper text markup Language standard Language for creating webpages\n",
    "# Tags - they define the structure of the webpage\n",
    "\n",
    "# <html> </html> root element\n",
    "# <head> </head> metadata\n",
    "# <title> page title\n",
    "# <body> visible content\n",
    "# <h1>, <h2>....<h6> heading\n",
    "# <p> paragraph <p> this is my paragraph.nabanajan </p>\n",
    "# <a> link <a href=\"url\"> some text </a>\n",
    "# <img> embed an image\n",
    "# <ul>, <ol>, <li> lists\n",
    "# <table> to embed a table\n",
    "# <form> to insert a user input form\n",
    "# <div> container block it is used to group elements together into sections,\n",
    "# <span> inline HTML element it is used to style small prats of text <p> This iphone costs <span class= 'price'> $999 </span></p>"
   ]
  },
  {
   "cell_type": "code",
   "execution_count": 2,
   "id": "1bdc1f16-234b-4a41-b9f2-8c75cf0e8bd3",
   "metadata": {},
   "outputs": [],
   "source": [
    "# CSS - cascading style sheets controls the appearance and Layout of the HTML elements\n",
    "# color, background, font-size, margin, padding, border, position, text-align"
   ]
  },
  {
   "cell_type": "code",
   "execution_count": 3,
   "id": "b06918ca-dc4c-4906-aaae-c697508597e4",
   "metadata": {},
   "outputs": [],
   "source": [
    "import requests\n",
    "from bs4 import BeautifulSoup\n",
    "import pandas as pd"
   ]
  },
  {
   "cell_type": "code",
   "execution_count": 4,
   "id": "1ce14e4d-3ca9-482e-a855-8ddf511b77db",
   "metadata": {},
   "outputs": [],
   "source": [
    "def get_page_soup_object(url):\n",
    "    response = requests.get(url) # HTTP request to the page\n",
    "    if response.status_code != 200:\n",
    "        print('failed to fetch the page')\n",
    "        return None\n",
    "    return BeautifulSoup(response.content, 'html.parser')        "
   ]
  },
  {
   "cell_type": "code",
   "execution_count": 5,
   "id": "a06bc67d-d65c-455b-bd04-58693888188d",
   "metadata": {},
   "outputs": [],
   "source": [
    "def parse_book_data(soup):\n",
    "    books = soup.find_all('article', class_ = 'product_pod')\n",
    "    book_list = []\n",
    "    for book in books:\n",
    "        title = book.h3.a['title']\n",
    "        price = book.find('p', class_ = 'price_color').text.strip()\n",
    "        availability = book.find('p', class_ ='instock availability').text.strip()\n",
    "        class_rating = book.find('p', class_ = 'star-rating')\n",
    "        book_list.append({\n",
    "            'Title': title,\n",
    "            'Price': price,\n",
    "            'Availability': availability,\n",
    "            'Rating': class_rating\n",
    "        })\n",
    "    return book_list       "
   ]
  },
  {
   "cell_type": "code",
   "execution_count": 6,
   "id": "891afcc9-50d3-4d4d-aee3-ba8c2d55b3c7",
   "metadata": {},
   "outputs": [],
   "source": [
    "all_books=[]\n",
    "\n",
    "base_url = 'http://books.toscrape.com/catalogue/page-{}.html'\n",
    "for page in range(1,51):\n",
    "    url = base_url.format(page)\n",
    "    # print(\"Scraping Page\")\n",
    "    soup = get_page_soup_object(url)\n",
    "    if soup:\n",
    "        books= parse_book_data(soup)\n",
    "        all_books.extend(books)\n",
    "\n",
    "data= pd.DataFrame(all_books)"
   ]
  },
  {
   "cell_type": "code",
   "execution_count": 7,
   "id": "25d7118a-45fa-4d59-bffc-aae4082d6dce",
   "metadata": {},
   "outputs": [
    {
     "data": {
      "text/html": [
       "<div>\n",
       "<style scoped>\n",
       "    .dataframe tbody tr th:only-of-type {\n",
       "        vertical-align: middle;\n",
       "    }\n",
       "\n",
       "    .dataframe tbody tr th {\n",
       "        vertical-align: top;\n",
       "    }\n",
       "\n",
       "    .dataframe thead th {\n",
       "        text-align: right;\n",
       "    }\n",
       "</style>\n",
       "<table border=\"1\" class=\"dataframe\">\n",
       "  <thead>\n",
       "    <tr style=\"text-align: right;\">\n",
       "      <th></th>\n",
       "      <th>Title</th>\n",
       "      <th>Price</th>\n",
       "      <th>Availability</th>\n",
       "      <th>Rating</th>\n",
       "    </tr>\n",
       "  </thead>\n",
       "  <tbody>\n",
       "    <tr>\n",
       "      <th>0</th>\n",
       "      <td>A Light in the Attic</td>\n",
       "      <td>£51.77</td>\n",
       "      <td>In stock</td>\n",
       "      <td>[\\n, [], \\n, [], \\n, [], \\n, [], \\n, [], \\n]</td>\n",
       "    </tr>\n",
       "    <tr>\n",
       "      <th>1</th>\n",
       "      <td>Tipping the Velvet</td>\n",
       "      <td>£53.74</td>\n",
       "      <td>In stock</td>\n",
       "      <td>[\\n, [], \\n, [], \\n, [], \\n, [], \\n, [], \\n]</td>\n",
       "    </tr>\n",
       "    <tr>\n",
       "      <th>2</th>\n",
       "      <td>Soumission</td>\n",
       "      <td>£50.10</td>\n",
       "      <td>In stock</td>\n",
       "      <td>[\\n, [], \\n, [], \\n, [], \\n, [], \\n, [], \\n]</td>\n",
       "    </tr>\n",
       "    <tr>\n",
       "      <th>3</th>\n",
       "      <td>Sharp Objects</td>\n",
       "      <td>£47.82</td>\n",
       "      <td>In stock</td>\n",
       "      <td>[\\n, [], \\n, [], \\n, [], \\n, [], \\n, [], \\n]</td>\n",
       "    </tr>\n",
       "    <tr>\n",
       "      <th>4</th>\n",
       "      <td>Sapiens: A Brief History of Humankind</td>\n",
       "      <td>£54.23</td>\n",
       "      <td>In stock</td>\n",
       "      <td>[\\n, [], \\n, [], \\n, [], \\n, [], \\n, [], \\n]</td>\n",
       "    </tr>\n",
       "    <tr>\n",
       "      <th>...</th>\n",
       "      <td>...</td>\n",
       "      <td>...</td>\n",
       "      <td>...</td>\n",
       "      <td>...</td>\n",
       "    </tr>\n",
       "    <tr>\n",
       "      <th>995</th>\n",
       "      <td>Alice in Wonderland (Alice's Adventures in Won...</td>\n",
       "      <td>£55.53</td>\n",
       "      <td>In stock</td>\n",
       "      <td>[\\n, [], \\n, [], \\n, [], \\n, [], \\n, [], \\n]</td>\n",
       "    </tr>\n",
       "    <tr>\n",
       "      <th>996</th>\n",
       "      <td>Ajin: Demi-Human, Volume 1 (Ajin: Demi-Human #1)</td>\n",
       "      <td>£57.06</td>\n",
       "      <td>In stock</td>\n",
       "      <td>[\\n, [], \\n, [], \\n, [], \\n, [], \\n, [], \\n]</td>\n",
       "    </tr>\n",
       "    <tr>\n",
       "      <th>997</th>\n",
       "      <td>A Spy's Devotion (The Regency Spies of London #1)</td>\n",
       "      <td>£16.97</td>\n",
       "      <td>In stock</td>\n",
       "      <td>[\\n, [], \\n, [], \\n, [], \\n, [], \\n, [], \\n]</td>\n",
       "    </tr>\n",
       "    <tr>\n",
       "      <th>998</th>\n",
       "      <td>1st to Die (Women's Murder Club #1)</td>\n",
       "      <td>£53.98</td>\n",
       "      <td>In stock</td>\n",
       "      <td>[\\n, [], \\n, [], \\n, [], \\n, [], \\n, [], \\n]</td>\n",
       "    </tr>\n",
       "    <tr>\n",
       "      <th>999</th>\n",
       "      <td>1,000 Places to See Before You Die</td>\n",
       "      <td>£26.08</td>\n",
       "      <td>In stock</td>\n",
       "      <td>[\\n, [], \\n, [], \\n, [], \\n, [], \\n, [], \\n]</td>\n",
       "    </tr>\n",
       "  </tbody>\n",
       "</table>\n",
       "<p>1000 rows × 4 columns</p>\n",
       "</div>"
      ],
      "text/plain": [
       "                                                 Title   Price Availability  \\\n",
       "0                                 A Light in the Attic  £51.77     In stock   \n",
       "1                                   Tipping the Velvet  £53.74     In stock   \n",
       "2                                           Soumission  £50.10     In stock   \n",
       "3                                        Sharp Objects  £47.82     In stock   \n",
       "4                Sapiens: A Brief History of Humankind  £54.23     In stock   \n",
       "..                                                 ...     ...          ...   \n",
       "995  Alice in Wonderland (Alice's Adventures in Won...  £55.53     In stock   \n",
       "996   Ajin: Demi-Human, Volume 1 (Ajin: Demi-Human #1)  £57.06     In stock   \n",
       "997  A Spy's Devotion (The Regency Spies of London #1)  £16.97     In stock   \n",
       "998                1st to Die (Women's Murder Club #1)  £53.98     In stock   \n",
       "999                 1,000 Places to See Before You Die  £26.08     In stock   \n",
       "\n",
       "                                           Rating  \n",
       "0    [\\n, [], \\n, [], \\n, [], \\n, [], \\n, [], \\n]  \n",
       "1    [\\n, [], \\n, [], \\n, [], \\n, [], \\n, [], \\n]  \n",
       "2    [\\n, [], \\n, [], \\n, [], \\n, [], \\n, [], \\n]  \n",
       "3    [\\n, [], \\n, [], \\n, [], \\n, [], \\n, [], \\n]  \n",
       "4    [\\n, [], \\n, [], \\n, [], \\n, [], \\n, [], \\n]  \n",
       "..                                            ...  \n",
       "995  [\\n, [], \\n, [], \\n, [], \\n, [], \\n, [], \\n]  \n",
       "996  [\\n, [], \\n, [], \\n, [], \\n, [], \\n, [], \\n]  \n",
       "997  [\\n, [], \\n, [], \\n, [], \\n, [], \\n, [], \\n]  \n",
       "998  [\\n, [], \\n, [], \\n, [], \\n, [], \\n, [], \\n]  \n",
       "999  [\\n, [], \\n, [], \\n, [], \\n, [], \\n, [], \\n]  \n",
       "\n",
       "[1000 rows x 4 columns]"
      ]
     },
     "execution_count": 7,
     "metadata": {},
     "output_type": "execute_result"
    }
   ],
   "source": [
    "data"
   ]
  },
  {
   "cell_type": "code",
   "execution_count": 20,
   "id": "232eadd7-1eab-445e-851f-c891a3a75930",
   "metadata": {},
   "outputs": [
    {
     "name": "stdout",
     "output_type": "stream",
     "text": [
      "<class 'pandas.core.frame.DataFrame'>\n",
      "RangeIndex: 1000 entries, 0 to 999\n",
      "Data columns (total 4 columns):\n",
      " #   Column        Non-Null Count  Dtype \n",
      "---  ------        --------------  ----- \n",
      " 0   Title         1000 non-null   object\n",
      " 1   Price         1000 non-null   object\n",
      " 2   Availability  1000 non-null   object\n",
      " 3   Rating        1000 non-null   object\n",
      "dtypes: object(4)\n",
      "memory usage: 31.4+ KB\n"
     ]
    }
   ],
   "source": [
    "data.info()"
   ]
  },
  {
   "cell_type": "code",
   "execution_count": null,
   "id": "b897f591-4813-4e95-8cf6-bcf7eba65204",
   "metadata": {},
   "outputs": [],
   "source": [
    "# FPDF library html to pdf (find out how to do)"
   ]
  },
  {
   "cell_type": "code",
   "execution_count": null,
   "id": "a9f897bb-f601-4921-9575-8a66917da7e4",
   "metadata": {},
   "outputs": [],
   "source": [
    "# IMDB Homework - scrap the essential elements"
   ]
  },
  {
   "cell_type": "code",
   "execution_count": null,
   "id": "65c46177-a8e3-4371-b8a9-df0a277144eb",
   "metadata": {},
   "outputs": [],
   "source": []
  },
  {
   "cell_type": "code",
   "execution_count": null,
   "id": "c13e4fb6-fe8d-412a-9570-a78074325652",
   "metadata": {},
   "outputs": [],
   "source": []
  }
 ],
 "metadata": {
  "kernelspec": {
   "display_name": "Python [conda env:base] *",
   "language": "python",
   "name": "conda-base-py"
  },
  "language_info": {
   "codemirror_mode": {
    "name": "ipython",
    "version": 3
   },
   "file_extension": ".py",
   "mimetype": "text/x-python",
   "name": "python",
   "nbconvert_exporter": "python",
   "pygments_lexer": "ipython3",
   "version": "3.12.7"
  }
 },
 "nbformat": 4,
 "nbformat_minor": 5
}
