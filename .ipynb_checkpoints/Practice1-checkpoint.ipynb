{
 "cells": [
  {
   "cell_type": "code",
   "execution_count": 6,
   "id": "fa69c930-26b0-4240-a7b1-5297b43628b8",
   "metadata": {},
   "outputs": [],
   "source": [
    "def grade_distribution(grades):\n",
    "\n",
    "    for grade in grades:\n",
    "        if 90<= grade <=100:\n",
    "            print('You have got A Grade')\n",
    "        elif 80<= grade <=89:\n",
    "            print('You have got B Grade')\n",
    "        elif 70<= grade <=79:\n",
    "            print('You have got C Grade') \n",
    "        elif 60<= grade <=69:\n",
    "            print('You have got D Grade')\n",
    "        else:\n",
    "            print('You have got E Grade')\n",
    "    return       "
   ]
  },
  {
   "cell_type": "code",
   "execution_count": 8,
   "id": "0e3df1c4-2aac-4548-aafe-396c279ae289",
   "metadata": {},
   "outputs": [
    {
     "name": "stdout",
     "output_type": "stream",
     "text": [
      "You have got C Grade\n",
      "You have got D Grade\n",
      "You have got E Grade\n",
      "You have got B Grade\n",
      "You have got A Grade\n",
      "You have got E Grade\n",
      "You have got E Grade\n",
      "You have got C Grade\n",
      "You have got D Grade\n",
      "You have got A Grade\n"
     ]
    }
   ],
   "source": [
    "grades = [75,65,41,89,95,12,35,74,68,95]\n",
    "grade_distribution(grades)"
   ]
  },
  {
   "cell_type": "code",
   "execution_count": 20,
   "id": "7bda9055-83b1-438a-b69d-88b283fda4bf",
   "metadata": {},
   "outputs": [],
   "source": [
    "import random\n",
    "\n",
    "def number_game():\n",
    "    sec_num = random.randint(1 , 100)\n",
    "    print(sec_num)\n",
    "\n",
    "    print('Welcome, Guess the number between 1 to 100')\n",
    "\n",
    "    att = 0\n",
    "    guess_num = None\n",
    "\n",
    "    while guess_num != sec_num:\n",
    "        guess_num = int(input('Enter a Number, to Guess'))\n",
    "        att = att + 1\n",
    "\n",
    "        if guess_num > sec_num:\n",
    "            print('high')\n",
    "\n",
    "        elif guess_num < sec_num:\n",
    "            print('low')\n",
    "\n",
    "        else:\n",
    "            print('Correct')\n",
    "            print('Attempts', att)"
   ]
  },
  {
   "cell_type": "code",
   "execution_count": 22,
   "id": "8c660edc-8968-4014-a190-375bf2edea4e",
   "metadata": {},
   "outputs": [
    {
     "name": "stdout",
     "output_type": "stream",
     "text": [
      "81\n",
      "Welcome, Guess the number between 1 to 100\n"
     ]
    },
    {
     "name": "stdin",
     "output_type": "stream",
     "text": [
      "Enter a Number, to Guess 55\n"
     ]
    },
    {
     "name": "stdout",
     "output_type": "stream",
     "text": [
      "low\n"
     ]
    },
    {
     "name": "stdin",
     "output_type": "stream",
     "text": [
      "Enter a Number, to Guess 85\n"
     ]
    },
    {
     "name": "stdout",
     "output_type": "stream",
     "text": [
      "high\n"
     ]
    },
    {
     "name": "stdin",
     "output_type": "stream",
     "text": [
      "Enter a Number, to Guess 91\n"
     ]
    },
    {
     "name": "stdout",
     "output_type": "stream",
     "text": [
      "high\n"
     ]
    },
    {
     "name": "stdin",
     "output_type": "stream",
     "text": [
      "Enter a Number, to Guess 81\n"
     ]
    },
    {
     "name": "stdout",
     "output_type": "stream",
     "text": [
      "Correct\n",
      "Attempts 4\n"
     ]
    }
   ],
   "source": [
    "number_game()"
   ]
  },
  {
   "cell_type": "code",
   "execution_count": 30,
   "id": "62f965af-944e-44a8-bb14-e2e3bc3978c0",
   "metadata": {},
   "outputs": [],
   "source": [
    "def cal_sum():\n",
    "    num = int(input('Enter a Number'))\n",
    "    total = 0\n",
    "    summ = 0\n",
    "    for n in range(1 , num + 1):\n",
    "        total = n**2\n",
    "        summ = summ  + total\n",
    "\n",
    "    print(summ)"
   ]
  },
  {
   "cell_type": "code",
   "execution_count": 36,
   "id": "28c11fcc-f9cf-46e8-a932-b2c652592126",
   "metadata": {},
   "outputs": [
    {
     "name": "stdin",
     "output_type": "stream",
     "text": [
      "Enter a Number 100\n"
     ]
    },
    {
     "name": "stdout",
     "output_type": "stream",
     "text": [
      "338350\n"
     ]
    }
   ],
   "source": [
    "cal_sum() "
   ]
  },
  {
   "cell_type": "code",
   "execution_count": 38,
   "id": "708c7fa3-ad11-430d-962c-3ea3a2ec343f",
   "metadata": {},
   "outputs": [
    {
     "name": "stdout",
     "output_type": "stream",
     "text": [
      "nahk\n",
      " nidraf\n"
     ]
    }
   ],
   "source": [
    "a = '''fardin \n",
    "khan'''\n",
    "\n",
    "print(a[::-1])"
   ]
  },
  {
   "cell_type": "code",
   "execution_count": 7,
   "id": "30302a14-2572-4bb0-92bb-f314b343e3bc",
   "metadata": {},
   "outputs": [
    {
     "name": "stdout",
     "output_type": "stream",
     "text": [
      "AHJHSADBHSJKD1221$#*\n"
     ]
    }
   ],
   "source": [
    "s = 'ahjhsadbhsJKD1221$#*'\n",
    "print(s.upper())"
   ]
  },
  {
   "cell_type": "code",
   "execution_count": 11,
   "id": "f8ffa92b-7fb4-4223-bb13-d3e9c42a980b",
   "metadata": {},
   "outputs": [
    {
     "name": "stdout",
     "output_type": "stream",
     "text": [
      "ahjhsadbhsjkd1221$#*\n"
     ]
    }
   ],
   "source": [
    "print(s.lower())"
   ]
  },
  {
   "cell_type": "code",
   "execution_count": 19,
   "id": "95b6e2e0-1e2d-47a8-b3f1-b109fa2a5119",
   "metadata": {},
   "outputs": [
    {
     "name": "stdout",
     "output_type": "stream",
     "text": [
      "HelloHelloHelloHelloHelloHello\n"
     ]
    }
   ],
   "source": [
    "a = 'Hello'\n",
    "print(a*6)"
   ]
  },
  {
   "cell_type": "code",
   "execution_count": 37,
   "id": "56d3e862-2acc-4768-a42a-33f0a6f479a0",
   "metadata": {},
   "outputs": [
    {
     "name": "stdout",
     "output_type": "stream",
     "text": [
      "14\n"
     ]
    }
   ],
   "source": [
    "text = 'Fardin khnann khan FArdin are you studing python correctly'\n",
    "\n",
    "print(text.index('khan'))"
   ]
  },
  {
   "cell_type": "code",
   "execution_count": 1,
   "id": "8db35952-4a6c-4e87-a1f1-97bdd258cf45",
   "metadata": {},
   "outputs": [],
   "source": [
    "import pandas as pd\n",
    "import numpy as np\n",
    "import matplotlib.pyplot as plt\n",
    "import seaborn as sns"
   ]
  },
  {
   "cell_type": "code",
   "execution_count": 2,
   "id": "944a8390-ac20-48c6-bdd2-b790d7694cf2",
   "metadata": {},
   "outputs": [],
   "source": [
    "df = pd.read_csv('WA_Fn-UseC_-HR-Employee-Attrition.csv') # to read the the csv file"
   ]
  },
  {
   "cell_type": "code",
   "execution_count": 5,
   "id": "9c232a82-8c81-402f-ad5c-a0ddbd762414",
   "metadata": {},
   "outputs": [
    {
     "data": {
      "text/html": [
       "<div>\n",
       "<style scoped>\n",
       "    .dataframe tbody tr th:only-of-type {\n",
       "        vertical-align: middle;\n",
       "    }\n",
       "\n",
       "    .dataframe tbody tr th {\n",
       "        vertical-align: top;\n",
       "    }\n",
       "\n",
       "    .dataframe thead th {\n",
       "        text-align: right;\n",
       "    }\n",
       "</style>\n",
       "<table border=\"1\" class=\"dataframe\">\n",
       "  <thead>\n",
       "    <tr style=\"text-align: right;\">\n",
       "      <th></th>\n",
       "      <th>Age</th>\n",
       "      <th>Attrition</th>\n",
       "      <th>BusinessTravel</th>\n",
       "      <th>DailyRate</th>\n",
       "      <th>Department</th>\n",
       "      <th>DistanceFromHome</th>\n",
       "      <th>Education</th>\n",
       "      <th>EducationField</th>\n",
       "      <th>EmployeeCount</th>\n",
       "      <th>EmployeeNumber</th>\n",
       "      <th>...</th>\n",
       "      <th>RelationshipSatisfaction</th>\n",
       "      <th>StandardHours</th>\n",
       "      <th>StockOptionLevel</th>\n",
       "      <th>TotalWorkingYears</th>\n",
       "      <th>TrainingTimesLastYear</th>\n",
       "      <th>WorkLifeBalance</th>\n",
       "      <th>YearsAtCompany</th>\n",
       "      <th>YearsInCurrentRole</th>\n",
       "      <th>YearsSinceLastPromotion</th>\n",
       "      <th>YearsWithCurrManager</th>\n",
       "    </tr>\n",
       "  </thead>\n",
       "  <tbody>\n",
       "    <tr>\n",
       "      <th>0</th>\n",
       "      <td>41</td>\n",
       "      <td>Yes</td>\n",
       "      <td>Travel_Rarely</td>\n",
       "      <td>1102</td>\n",
       "      <td>Sales</td>\n",
       "      <td>1</td>\n",
       "      <td>2</td>\n",
       "      <td>Life Sciences</td>\n",
       "      <td>1</td>\n",
       "      <td>1</td>\n",
       "      <td>...</td>\n",
       "      <td>1</td>\n",
       "      <td>80</td>\n",
       "      <td>0</td>\n",
       "      <td>8</td>\n",
       "      <td>0</td>\n",
       "      <td>1</td>\n",
       "      <td>6</td>\n",
       "      <td>4</td>\n",
       "      <td>0</td>\n",
       "      <td>5</td>\n",
       "    </tr>\n",
       "    <tr>\n",
       "      <th>1</th>\n",
       "      <td>49</td>\n",
       "      <td>No</td>\n",
       "      <td>Travel_Frequently</td>\n",
       "      <td>279</td>\n",
       "      <td>Research &amp; Development</td>\n",
       "      <td>8</td>\n",
       "      <td>1</td>\n",
       "      <td>Life Sciences</td>\n",
       "      <td>1</td>\n",
       "      <td>2</td>\n",
       "      <td>...</td>\n",
       "      <td>4</td>\n",
       "      <td>80</td>\n",
       "      <td>1</td>\n",
       "      <td>10</td>\n",
       "      <td>3</td>\n",
       "      <td>3</td>\n",
       "      <td>10</td>\n",
       "      <td>7</td>\n",
       "      <td>1</td>\n",
       "      <td>7</td>\n",
       "    </tr>\n",
       "    <tr>\n",
       "      <th>2</th>\n",
       "      <td>37</td>\n",
       "      <td>Yes</td>\n",
       "      <td>Travel_Rarely</td>\n",
       "      <td>1373</td>\n",
       "      <td>Research &amp; Development</td>\n",
       "      <td>2</td>\n",
       "      <td>2</td>\n",
       "      <td>Other</td>\n",
       "      <td>1</td>\n",
       "      <td>4</td>\n",
       "      <td>...</td>\n",
       "      <td>2</td>\n",
       "      <td>80</td>\n",
       "      <td>0</td>\n",
       "      <td>7</td>\n",
       "      <td>3</td>\n",
       "      <td>3</td>\n",
       "      <td>0</td>\n",
       "      <td>0</td>\n",
       "      <td>0</td>\n",
       "      <td>0</td>\n",
       "    </tr>\n",
       "    <tr>\n",
       "      <th>3</th>\n",
       "      <td>33</td>\n",
       "      <td>No</td>\n",
       "      <td>Travel_Frequently</td>\n",
       "      <td>1392</td>\n",
       "      <td>Research &amp; Development</td>\n",
       "      <td>3</td>\n",
       "      <td>4</td>\n",
       "      <td>Life Sciences</td>\n",
       "      <td>1</td>\n",
       "      <td>5</td>\n",
       "      <td>...</td>\n",
       "      <td>3</td>\n",
       "      <td>80</td>\n",
       "      <td>0</td>\n",
       "      <td>8</td>\n",
       "      <td>3</td>\n",
       "      <td>3</td>\n",
       "      <td>8</td>\n",
       "      <td>7</td>\n",
       "      <td>3</td>\n",
       "      <td>0</td>\n",
       "    </tr>\n",
       "    <tr>\n",
       "      <th>4</th>\n",
       "      <td>27</td>\n",
       "      <td>No</td>\n",
       "      <td>Travel_Rarely</td>\n",
       "      <td>591</td>\n",
       "      <td>Research &amp; Development</td>\n",
       "      <td>2</td>\n",
       "      <td>1</td>\n",
       "      <td>Medical</td>\n",
       "      <td>1</td>\n",
       "      <td>7</td>\n",
       "      <td>...</td>\n",
       "      <td>4</td>\n",
       "      <td>80</td>\n",
       "      <td>1</td>\n",
       "      <td>6</td>\n",
       "      <td>3</td>\n",
       "      <td>3</td>\n",
       "      <td>2</td>\n",
       "      <td>2</td>\n",
       "      <td>2</td>\n",
       "      <td>2</td>\n",
       "    </tr>\n",
       "  </tbody>\n",
       "</table>\n",
       "<p>5 rows × 35 columns</p>\n",
       "</div>"
      ],
      "text/plain": [
       "   Age Attrition     BusinessTravel  DailyRate              Department  \\\n",
       "0   41       Yes      Travel_Rarely       1102                   Sales   \n",
       "1   49        No  Travel_Frequently        279  Research & Development   \n",
       "2   37       Yes      Travel_Rarely       1373  Research & Development   \n",
       "3   33        No  Travel_Frequently       1392  Research & Development   \n",
       "4   27        No      Travel_Rarely        591  Research & Development   \n",
       "\n",
       "   DistanceFromHome  Education EducationField  EmployeeCount  EmployeeNumber  \\\n",
       "0                 1          2  Life Sciences              1               1   \n",
       "1                 8          1  Life Sciences              1               2   \n",
       "2                 2          2          Other              1               4   \n",
       "3                 3          4  Life Sciences              1               5   \n",
       "4                 2          1        Medical              1               7   \n",
       "\n",
       "   ...  RelationshipSatisfaction StandardHours  StockOptionLevel  \\\n",
       "0  ...                         1            80                 0   \n",
       "1  ...                         4            80                 1   \n",
       "2  ...                         2            80                 0   \n",
       "3  ...                         3            80                 0   \n",
       "4  ...                         4            80                 1   \n",
       "\n",
       "   TotalWorkingYears  TrainingTimesLastYear WorkLifeBalance  YearsAtCompany  \\\n",
       "0                  8                      0               1               6   \n",
       "1                 10                      3               3              10   \n",
       "2                  7                      3               3               0   \n",
       "3                  8                      3               3               8   \n",
       "4                  6                      3               3               2   \n",
       "\n",
       "  YearsInCurrentRole  YearsSinceLastPromotion  YearsWithCurrManager  \n",
       "0                  4                        0                     5  \n",
       "1                  7                        1                     7  \n",
       "2                  0                        0                     0  \n",
       "3                  7                        3                     0  \n",
       "4                  2                        2                     2  \n",
       "\n",
       "[5 rows x 35 columns]"
      ]
     },
     "execution_count": 5,
     "metadata": {},
     "output_type": "execute_result"
    }
   ],
   "source": [
    "df.head() # to read the first five rows of data"
   ]
  },
  {
   "cell_type": "code",
   "execution_count": 7,
   "id": "ae424782-62bc-423a-bc12-807d5ce4ca46",
   "metadata": {},
   "outputs": [
    {
     "data": {
      "text/plain": [
       "(1470, 35)"
      ]
     },
     "execution_count": 7,
     "metadata": {},
     "output_type": "execute_result"
    }
   ],
   "source": [
    "df.shape # how many rows and cloumns are present in data set"
   ]
  },
  {
   "cell_type": "code",
   "execution_count": 11,
   "id": "fc7817ba-0e73-413d-9820-542ab1881413",
   "metadata": {},
   "outputs": [
    {
     "name": "stdout",
     "output_type": "stream",
     "text": [
      "<class 'pandas.core.frame.DataFrame'>\n",
      "RangeIndex: 1470 entries, 0 to 1469\n",
      "Data columns (total 35 columns):\n",
      " #   Column                    Non-Null Count  Dtype \n",
      "---  ------                    --------------  ----- \n",
      " 0   Age                       1470 non-null   int64 \n",
      " 1   Attrition                 1470 non-null   object\n",
      " 2   BusinessTravel            1470 non-null   object\n",
      " 3   DailyRate                 1470 non-null   int64 \n",
      " 4   Department                1470 non-null   object\n",
      " 5   DistanceFromHome          1470 non-null   int64 \n",
      " 6   Education                 1470 non-null   int64 \n",
      " 7   EducationField            1470 non-null   object\n",
      " 8   EmployeeCount             1470 non-null   int64 \n",
      " 9   EmployeeNumber            1470 non-null   int64 \n",
      " 10  EnvironmentSatisfaction   1470 non-null   int64 \n",
      " 11  Gender                    1470 non-null   object\n",
      " 12  HourlyRate                1470 non-null   int64 \n",
      " 13  JobInvolvement            1470 non-null   int64 \n",
      " 14  JobLevel                  1470 non-null   int64 \n",
      " 15  JobRole                   1470 non-null   object\n",
      " 16  JobSatisfaction           1470 non-null   int64 \n",
      " 17  MaritalStatus             1470 non-null   object\n",
      " 18  MonthlyIncome             1470 non-null   int64 \n",
      " 19  MonthlyRate               1470 non-null   int64 \n",
      " 20  NumCompaniesWorked        1470 non-null   int64 \n",
      " 21  Over18                    1470 non-null   object\n",
      " 22  OverTime                  1470 non-null   object\n",
      " 23  PercentSalaryHike         1470 non-null   int64 \n",
      " 24  PerformanceRating         1470 non-null   int64 \n",
      " 25  RelationshipSatisfaction  1470 non-null   int64 \n",
      " 26  StandardHours             1470 non-null   int64 \n",
      " 27  StockOptionLevel          1470 non-null   int64 \n",
      " 28  TotalWorkingYears         1470 non-null   int64 \n",
      " 29  TrainingTimesLastYear     1470 non-null   int64 \n",
      " 30  WorkLifeBalance           1470 non-null   int64 \n",
      " 31  YearsAtCompany            1470 non-null   int64 \n",
      " 32  YearsInCurrentRole        1470 non-null   int64 \n",
      " 33  YearsSinceLastPromotion   1470 non-null   int64 \n",
      " 34  YearsWithCurrManager      1470 non-null   int64 \n",
      "dtypes: int64(26), object(9)\n",
      "memory usage: 402.1+ KB\n"
     ]
    }
   ],
   "source": [
    "# First thing to do when we start working with dataset is to aks for the data dictionary\n",
    "# data dictionay -> what do cloumns mean\n",
    "\n",
    "# As a data scientist the expection is to generate valuble insights for the data that can add more bussiness \n",
    "# or optimize certain processes in the company\n",
    "\n",
    "# for each cloumns how many non- null values are present what to do?\n",
    "df.info()"
   ]
  },
  {
   "cell_type": "code",
   "execution_count": 19,
   "id": "491245db-f886-4309-a909-660fdfde1158",
   "metadata": {},
   "outputs": [
    {
     "data": {
      "text/plain": [
       "Attrition\n",
       "No     83.877551\n",
       "Yes    16.122449\n",
       "Name: proportion, dtype: float64"
      ]
     },
     "execution_count": 19,
     "metadata": {},
     "output_type": "execute_result"
    }
   ],
   "source": [
    "# 1. What is the count of attrition, What is the percentage of Attrition?\n",
    "\n",
    "df['Attrition'].value_counts(normalize = True)*100\n",
    "\n",
    "# First insight is that the attrition percentage is 16% which is fair "
   ]
  },
  {
   "cell_type": "code",
   "execution_count": 61,
   "id": "e156ccdb-9ec2-41ed-89bf-bf659a4d73de",
   "metadata": {},
   "outputs": [
    {
     "data": {
      "text/plain": [
       "Gender\n",
       "Male      63.291139\n",
       "Female    36.708861\n",
       "Name: proportion, dtype: float64"
      ]
     },
     "execution_count": 61,
     "metadata": {},
     "output_type": "execute_result"
    }
   ],
   "source": [
    "# 2. Out of the total people leaving the company, what is the gender wise percentage?\n",
    "gender_wise_attrition = df[['Attrition','Gender']]\n",
    "gender_wise_attrition = gender_wise_attrition[gender_wise_attrition['Attrition']=='Yes']\n",
    "gender_wise_attrition = gender_wise_attrition['Gender'].value_counts(normalize=True)*100\n",
    "gender_wise_attrition"
   ]
  },
  {
   "cell_type": "code",
   "execution_count": 63,
   "id": "ea775d56-cce3-4250-93f4-e548a4c236f6",
   "metadata": {},
   "outputs": [
    {
     "data": {
      "text/plain": [
       "Attrition  Gender\n",
       "No         Male      49.795918\n",
       "           Female    34.081633\n",
       "Yes        Male      10.204082\n",
       "           Female     5.918367\n",
       "Name: proportion, dtype: float64"
      ]
     },
     "execution_count": 63,
     "metadata": {},
     "output_type": "execute_result"
    }
   ],
   "source": [
    "# Another way\n",
    "df[['Attrition','Gender']].value_counts(normalize=True)*100"
   ]
  },
  {
   "cell_type": "code",
   "execution_count": null,
   "id": "b1ed121b-c637-4a95-9f9f-0fd4fbc0f8c9",
   "metadata": {},
   "outputs": [],
   "source": [
    "# Among all the employees retaind, men are in greate percentage and among all the employee who left the company men are in greaet percentage"
   ]
  },
  {
   "cell_type": "code",
   "execution_count": 77,
   "id": "66e6a4b8-e334-4589-a455-807951515b2d",
   "metadata": {},
   "outputs": [
    {
     "data": {
      "text/plain": [
       "Department\n",
       "Research & Development    133\n",
       "Sales                      92\n",
       "Human Resources            12\n",
       "Name: count, dtype: int64"
      ]
     },
     "execution_count": 77,
     "metadata": {},
     "output_type": "execute_result"
    }
   ],
   "source": [
    "# Which Department is higher Attrition\n",
    "dep_att = df[df['Attrition']=='Yes']['Department'].value_counts()\n",
    "dep_att\n"
   ]
  },
  {
   "cell_type": "code",
   "execution_count": 79,
   "id": "ba6986d8-fd7d-4c28-91cf-65b983d931b0",
   "metadata": {},
   "outputs": [
    {
     "data": {
      "image/png": "[encoded data removed]",
      "text/plain": [
       "<Figure size 640x480 with 1 Axes>"
      ]
     },
     "metadata": {},
     "output_type": "display_data"
    }
   ],
   "source": [
    "dep_att.plot(kind='bar',title='Department Attrition',ylabel='Number of Employee Who Left',color='green')\n",
    "plt.show()"
   ]
  },
  {
   "cell_type": "code",
   "execution_count": 39,
   "id": "dca8c7ae-c65d-49b2-981e-fbcf1a7d680f",
   "metadata": {},
   "outputs": [
    {
     "data": {
      "text/plain": [
       "<Axes: xlabel='Department', ylabel='count'>"
      ]
     },
     "execution_count": 39,
     "metadata": {},
     "output_type": "execute_result"
    },
    {
     "data": {
      "image/png": "[encoded data removed]",
      "text/plain": [
       "<Figure size 640x480 with 1 Axes>"
      ]
     },
     "metadata": {},
     "output_type": "display_data"
    }
   ],
   "source": [
    "# Another Way\n",
    "det_at=df[['Attrition','Department']]\n",
    "det_at\n",
    "sns.countplot(data=det_at,x='Department',hue='Attrition')"
   ]
  },
  {
   "cell_type": "code",
   "execution_count": null,
   "id": "8d9b9d8a-9a02-4317-b2d7-7523df69a062",
   "metadata": {},
   "outputs": [],
   "source": [
    "#Insight : RND department has the highest attrition"
   ]
  },
  {
   "cell_type": "code",
   "execution_count": 57,
   "id": "f29eda18-e044-4455-b1c4-4bb2a47b2096",
   "metadata": {},
   "outputs": [
    {
     "data": {
      "text/plain": [
       "JobRole\n",
       "Sales Executive              326\n",
       "Research Scientist           292\n",
       "Laboratory Technician        259\n",
       "Manufacturing Director       145\n",
       "Healthcare Representative    131\n",
       "Manager                      102\n",
       "Sales Representative          83\n",
       "Research Director             80\n",
       "Human Resources               52\n",
       "Name: count, dtype: int64"
      ]
     },
     "execution_count": 57,
     "metadata": {},
     "output_type": "execute_result"
    }
   ],
   "source": [
    "# Which JobRole has the highest attrition\n",
    "df['JobRole'].value_counts()"
   ]
  },
  {
   "cell_type": "code",
   "execution_count": 61,
   "id": "03774a3d-f709-41ca-b5fa-457b0a977c17",
   "metadata": {},
   "outputs": [
    {
     "data": {
      "text/plain": [
       "JobRole\n",
       "Laboratory Technician        62\n",
       "Sales Executive              57\n",
       "Research Scientist           47\n",
       "Sales Representative         33\n",
       "Human Resources              12\n",
       "Manufacturing Director       10\n",
       "Healthcare Representative     9\n",
       "Manager                       5\n",
       "Research Director             2\n",
       "Name: count, dtype: int64"
      ]
     },
     "execution_count": 61,
     "metadata": {},
     "output_type": "execute_result"
    }
   ],
   "source": [
    "job_att = df[df['Attrition']=='Yes']['JobRole'].value_counts()\n",
    "job_att"
   ]
  },
  {
   "cell_type": "code",
   "execution_count": 63,
   "id": "9379ceb6-5eb4-40f2-8454-167be899618e",
   "metadata": {},
   "outputs": [
    {
     "data": {
      "text/plain": [
       "<Axes: xlabel='JobRole', ylabel='Counts'>"
      ]
     },
     "execution_count": 63,
     "metadata": {},
     "output_type": "execute_result"
    },
    {
     "data": {
      "image/png": "[encoded data removed]",
      "text/plain": [
       "<Figure size 640x480 with 1 Axes>"
      ]
     },
     "metadata": {},
     "output_type": "display_data"
    }
   ],
   "source": [
    "job_att = df[df['Attrition']=='Yes']['JobRole'].value_counts()\n",
    "job_att.plot(kind='bar',ylabel='Counts')"
   ]
  },
  {
   "cell_type": "code",
   "execution_count": 75,
   "id": "c3979a77-b02b-40e6-aafa-e34d03bf812f",
   "metadata": {},
   "outputs": [
    {
     "data": {
      "text/plain": [
       "<Axes: xlabel='count', ylabel='JobRole'>"
      ]
     },
     "execution_count": 75,
     "metadata": {},
     "output_type": "execute_result"
    },
    {
     "data": {
      "image/png": "[encoded data removed]",
      "text/plain": [
       "<Figure size 640x480 with 1 Axes>"
      ]
     },
     "metadata": {},
     "output_type": "display_data"
    }
   ],
   "source": [
    "# Which JobRole has the highest and leadt attrition\n",
    "job_at = df[['JobRole','Attrition']]\n",
    "job_at\n",
    "sns.countplot(data = job_at,y='JobRole',hue='Attrition')"
   ]
  },
  {
   "cell_type": "code",
   "execution_count": 85,
   "id": "89e30bc6-a508-40b9-93d4-b7af5830094e",
   "metadata": {},
   "outputs": [
    {
     "data": {
      "text/plain": [
       "JobRole\n",
       "Research Scientist           292\n",
       "Laboratory Technician        259\n",
       "Manufacturing Director       145\n",
       "Healthcare Representative    131\n",
       "Research Director             80\n",
       "Manager                       54\n",
       "Name: count, dtype: int64"
      ]
     },
     "execution_count": 85,
     "metadata": {},
     "output_type": "execute_result"
    }
   ],
   "source": [
    "# insight:- Sales teams, research teams and laboratory technician.\n",
    "\n",
    "#does RND team have sales executive? if yes report the count of all such people\n",
    "df[df['Department']=='Research & Development']['JobRole'].value_counts()"
   ]
  },
  {
   "cell_type": "code",
   "execution_count": null,
   "id": "4b665d00-2e97-40e5-9c41-8dbfe2cd5b81",
   "metadata": {},
   "outputs": [],
   "source": [
    "# For each jobrole, find the percentage of people leaving the company and represent the finding in a graphical manner\n",
    "# the result should be sorted in dessending order"
   ]
  },
  {
   "cell_type": "code",
   "execution_count": 5,
   "id": "ea3526ba-6607-4853-9dfa-c93144fde27e",
   "metadata": {},
   "outputs": [
    {
     "data": {
      "text/plain": [
       "JobRole                    Attrition\n",
       "Sales Executive            No           18.299320\n",
       "Research Scientist         No           16.666667\n",
       "Laboratory Technician      No           13.401361\n",
       "Manufacturing Director     No            9.183673\n",
       "Healthcare Representative  No            8.299320\n",
       "Manager                    No            6.598639\n",
       "Research Director          No            5.306122\n",
       "Laboratory Technician      Yes           4.217687\n",
       "Sales Executive            Yes           3.877551\n",
       "Sales Representative       No            3.401361\n",
       "Research Scientist         Yes           3.197279\n",
       "Human Resources            No            2.721088\n",
       "Sales Representative       Yes           2.244898\n",
       "Human Resources            Yes           0.816327\n",
       "Manufacturing Director     Yes           0.680272\n",
       "Healthcare Representative  Yes           0.612245\n",
       "Manager                    Yes           0.340136\n",
       "Research Director          Yes           0.136054\n",
       "Name: proportion, dtype: float64"
      ]
     },
     "execution_count": 5,
     "metadata": {},
     "output_type": "execute_result"
    }
   ],
   "source": [
    "job_att = df[['JobRole','Attrition']].value_counts(normalize = True)*100\n",
    "job_att"
   ]
  },
  {
   "cell_type": "code",
   "execution_count": 7,
   "id": "d5f5e457-ecfc-442e-b53c-373f3e8f8a7f",
   "metadata": {},
   "outputs": [
    {
     "data": {
      "text/html": [
       "<div>\n",
       "<style scoped>\n",
       "    .dataframe tbody tr th:only-of-type {\n",
       "        vertical-align: middle;\n",
       "    }\n",
       "\n",
       "    .dataframe tbody tr th {\n",
       "        vertical-align: top;\n",
       "    }\n",
       "\n",
       "    .dataframe thead th {\n",
       "        text-align: right;\n",
       "    }\n",
       "</style>\n",
       "<table border=\"1\" class=\"dataframe\">\n",
       "  <thead>\n",
       "    <tr style=\"text-align: right;\">\n",
       "      <th></th>\n",
       "      <th>JobRole</th>\n",
       "      <th>Attrition</th>\n",
       "      <th>Employee Count</th>\n",
       "    </tr>\n",
       "  </thead>\n",
       "  <tbody>\n",
       "    <tr>\n",
       "      <th>0</th>\n",
       "      <td>Healthcare Representative</td>\n",
       "      <td>No</td>\n",
       "      <td>122</td>\n",
       "    </tr>\n",
       "    <tr>\n",
       "      <th>1</th>\n",
       "      <td>Healthcare Representative</td>\n",
       "      <td>Yes</td>\n",
       "      <td>9</td>\n",
       "    </tr>\n",
       "    <tr>\n",
       "      <th>2</th>\n",
       "      <td>Human Resources</td>\n",
       "      <td>No</td>\n",
       "      <td>40</td>\n",
       "    </tr>\n",
       "    <tr>\n",
       "      <th>3</th>\n",
       "      <td>Human Resources</td>\n",
       "      <td>Yes</td>\n",
       "      <td>12</td>\n",
       "    </tr>\n",
       "    <tr>\n",
       "      <th>4</th>\n",
       "      <td>Laboratory Technician</td>\n",
       "      <td>No</td>\n",
       "      <td>197</td>\n",
       "    </tr>\n",
       "    <tr>\n",
       "      <th>5</th>\n",
       "      <td>Laboratory Technician</td>\n",
       "      <td>Yes</td>\n",
       "      <td>62</td>\n",
       "    </tr>\n",
       "    <tr>\n",
       "      <th>6</th>\n",
       "      <td>Manager</td>\n",
       "      <td>No</td>\n",
       "      <td>97</td>\n",
       "    </tr>\n",
       "    <tr>\n",
       "      <th>7</th>\n",
       "      <td>Manager</td>\n",
       "      <td>Yes</td>\n",
       "      <td>5</td>\n",
       "    </tr>\n",
       "    <tr>\n",
       "      <th>8</th>\n",
       "      <td>Manufacturing Director</td>\n",
       "      <td>No</td>\n",
       "      <td>135</td>\n",
       "    </tr>\n",
       "    <tr>\n",
       "      <th>9</th>\n",
       "      <td>Manufacturing Director</td>\n",
       "      <td>Yes</td>\n",
       "      <td>10</td>\n",
       "    </tr>\n",
       "    <tr>\n",
       "      <th>10</th>\n",
       "      <td>Research Director</td>\n",
       "      <td>No</td>\n",
       "      <td>78</td>\n",
       "    </tr>\n",
       "    <tr>\n",
       "      <th>11</th>\n",
       "      <td>Research Director</td>\n",
       "      <td>Yes</td>\n",
       "      <td>2</td>\n",
       "    </tr>\n",
       "    <tr>\n",
       "      <th>12</th>\n",
       "      <td>Research Scientist</td>\n",
       "      <td>No</td>\n",
       "      <td>245</td>\n",
       "    </tr>\n",
       "    <tr>\n",
       "      <th>13</th>\n",
       "      <td>Research Scientist</td>\n",
       "      <td>Yes</td>\n",
       "      <td>47</td>\n",
       "    </tr>\n",
       "    <tr>\n",
       "      <th>14</th>\n",
       "      <td>Sales Executive</td>\n",
       "      <td>No</td>\n",
       "      <td>269</td>\n",
       "    </tr>\n",
       "    <tr>\n",
       "      <th>15</th>\n",
       "      <td>Sales Executive</td>\n",
       "      <td>Yes</td>\n",
       "      <td>57</td>\n",
       "    </tr>\n",
       "    <tr>\n",
       "      <th>16</th>\n",
       "      <td>Sales Representative</td>\n",
       "      <td>No</td>\n",
       "      <td>50</td>\n",
       "    </tr>\n",
       "    <tr>\n",
       "      <th>17</th>\n",
       "      <td>Sales Representative</td>\n",
       "      <td>Yes</td>\n",
       "      <td>33</td>\n",
       "    </tr>\n",
       "  </tbody>\n",
       "</table>\n",
       "</div>"
      ],
      "text/plain": [
       "                      JobRole Attrition  Employee Count\n",
       "0   Healthcare Representative        No             122\n",
       "1   Healthcare Representative       Yes               9\n",
       "2             Human Resources        No              40\n",
       "3             Human Resources       Yes              12\n",
       "4       Laboratory Technician        No             197\n",
       "5       Laboratory Technician       Yes              62\n",
       "6                     Manager        No              97\n",
       "7                     Manager       Yes               5\n",
       "8      Manufacturing Director        No             135\n",
       "9      Manufacturing Director       Yes              10\n",
       "10          Research Director        No              78\n",
       "11          Research Director       Yes               2\n",
       "12         Research Scientist        No             245\n",
       "13         Research Scientist       Yes              47\n",
       "14            Sales Executive        No             269\n",
       "15            Sales Executive       Yes              57\n",
       "16       Sales Representative        No              50\n",
       "17       Sales Representative       Yes              33"
      ]
     },
     "execution_count": 7,
     "metadata": {},
     "output_type": "execute_result"
    }
   ],
   "source": [
    "job_att = df.groupby(['JobRole','Attrition']).size().reset_index(name = 'Employee Count')\n",
    "job_att"
   ]
  },
  {
   "cell_type": "code",
   "execution_count": 9,
   "id": "a8d260a9-967e-4284-bc92-14e81c314ad4",
   "metadata": {},
   "outputs": [
    {
     "data": {
      "text/html": [
       "<div>\n",
       "<style scoped>\n",
       "    .dataframe tbody tr th:only-of-type {\n",
       "        vertical-align: middle;\n",
       "    }\n",
       "\n",
       "    .dataframe tbody tr th {\n",
       "        vertical-align: top;\n",
       "    }\n",
       "\n",
       "    .dataframe thead th {\n",
       "        text-align: right;\n",
       "    }\n",
       "</style>\n",
       "<table border=\"1\" class=\"dataframe\">\n",
       "  <thead>\n",
       "    <tr style=\"text-align: right;\">\n",
       "      <th></th>\n",
       "      <th>JobRole</th>\n",
       "      <th>Attrition</th>\n",
       "      <th>Employee Count</th>\n",
       "    </tr>\n",
       "  </thead>\n",
       "  <tbody>\n",
       "    <tr>\n",
       "      <th>1</th>\n",
       "      <td>Healthcare Representative</td>\n",
       "      <td>Yes</td>\n",
       "      <td>9</td>\n",
       "    </tr>\n",
       "    <tr>\n",
       "      <th>3</th>\n",
       "      <td>Human Resources</td>\n",
       "      <td>Yes</td>\n",
       "      <td>12</td>\n",
       "    </tr>\n",
       "    <tr>\n",
       "      <th>5</th>\n",
       "      <td>Laboratory Technician</td>\n",
       "      <td>Yes</td>\n",
       "      <td>62</td>\n",
       "    </tr>\n",
       "    <tr>\n",
       "      <th>7</th>\n",
       "      <td>Manager</td>\n",
       "      <td>Yes</td>\n",
       "      <td>5</td>\n",
       "    </tr>\n",
       "    <tr>\n",
       "      <th>9</th>\n",
       "      <td>Manufacturing Director</td>\n",
       "      <td>Yes</td>\n",
       "      <td>10</td>\n",
       "    </tr>\n",
       "    <tr>\n",
       "      <th>11</th>\n",
       "      <td>Research Director</td>\n",
       "      <td>Yes</td>\n",
       "      <td>2</td>\n",
       "    </tr>\n",
       "    <tr>\n",
       "      <th>13</th>\n",
       "      <td>Research Scientist</td>\n",
       "      <td>Yes</td>\n",
       "      <td>47</td>\n",
       "    </tr>\n",
       "    <tr>\n",
       "      <th>15</th>\n",
       "      <td>Sales Executive</td>\n",
       "      <td>Yes</td>\n",
       "      <td>57</td>\n",
       "    </tr>\n",
       "    <tr>\n",
       "      <th>17</th>\n",
       "      <td>Sales Representative</td>\n",
       "      <td>Yes</td>\n",
       "      <td>33</td>\n",
       "    </tr>\n",
       "  </tbody>\n",
       "</table>\n",
       "</div>"
      ],
      "text/plain": [
       "                      JobRole Attrition  Employee Count\n",
       "1   Healthcare Representative       Yes               9\n",
       "3             Human Resources       Yes              12\n",
       "5       Laboratory Technician       Yes              62\n",
       "7                     Manager       Yes               5\n",
       "9      Manufacturing Director       Yes              10\n",
       "11          Research Director       Yes               2\n",
       "13         Research Scientist       Yes              47\n",
       "15            Sales Executive       Yes              57\n",
       "17       Sales Representative       Yes              33"
      ]
     },
     "execution_count": 9,
     "metadata": {},
     "output_type": "execute_result"
    }
   ],
   "source": [
    "job_att_who_left = job_att[job_att['Attrition']=='Yes']\n",
    "job_att_who_left"
   ]
  },
  {
   "cell_type": "code",
   "execution_count": 37,
   "id": "e2f55b15-8527-4d1a-843d-9433465a3cd7",
   "metadata": {},
   "outputs": [],
   "source": [
    "job_att_total =job_att.groupby('JobRole').agg({'Employee Count':'sum'}).reset_index()\n",
    "job_att_total.rename(columns = {'Employee Count': 'Total Employee'},inplace = True)"
   ]
  },
  {
   "cell_type": "code",
   "execution_count": 39,
   "id": "4711c5a3-17c9-45a0-ac45-64ce81d74228",
   "metadata": {},
   "outputs": [
    {
     "data": {
      "text/html": [
       "<div>\n",
       "<style scoped>\n",
       "    .dataframe tbody tr th:only-of-type {\n",
       "        vertical-align: middle;\n",
       "    }\n",
       "\n",
       "    .dataframe tbody tr th {\n",
       "        vertical-align: top;\n",
       "    }\n",
       "\n",
       "    .dataframe thead th {\n",
       "        text-align: right;\n",
       "    }\n",
       "</style>\n",
       "<table border=\"1\" class=\"dataframe\">\n",
       "  <thead>\n",
       "    <tr style=\"text-align: right;\">\n",
       "      <th></th>\n",
       "      <th>JobRole</th>\n",
       "      <th>Total Employee</th>\n",
       "      <th>Attrition</th>\n",
       "      <th>Employee Count</th>\n",
       "    </tr>\n",
       "  </thead>\n",
       "  <tbody>\n",
       "    <tr>\n",
       "      <th>0</th>\n",
       "      <td>Healthcare Representative</td>\n",
       "      <td>131</td>\n",
       "      <td>Yes</td>\n",
       "      <td>9</td>\n",
       "    </tr>\n",
       "    <tr>\n",
       "      <th>1</th>\n",
       "      <td>Human Resources</td>\n",
       "      <td>52</td>\n",
       "      <td>Yes</td>\n",
       "      <td>12</td>\n",
       "    </tr>\n",
       "    <tr>\n",
       "      <th>2</th>\n",
       "      <td>Laboratory Technician</td>\n",
       "      <td>259</td>\n",
       "      <td>Yes</td>\n",
       "      <td>62</td>\n",
       "    </tr>\n",
       "    <tr>\n",
       "      <th>3</th>\n",
       "      <td>Manager</td>\n",
       "      <td>102</td>\n",
       "      <td>Yes</td>\n",
       "      <td>5</td>\n",
       "    </tr>\n",
       "    <tr>\n",
       "      <th>4</th>\n",
       "      <td>Manufacturing Director</td>\n",
       "      <td>145</td>\n",
       "      <td>Yes</td>\n",
       "      <td>10</td>\n",
       "    </tr>\n",
       "    <tr>\n",
       "      <th>5</th>\n",
       "      <td>Research Director</td>\n",
       "      <td>80</td>\n",
       "      <td>Yes</td>\n",
       "      <td>2</td>\n",
       "    </tr>\n",
       "    <tr>\n",
       "      <th>6</th>\n",
       "      <td>Research Scientist</td>\n",
       "      <td>292</td>\n",
       "      <td>Yes</td>\n",
       "      <td>47</td>\n",
       "    </tr>\n",
       "    <tr>\n",
       "      <th>7</th>\n",
       "      <td>Sales Executive</td>\n",
       "      <td>326</td>\n",
       "      <td>Yes</td>\n",
       "      <td>57</td>\n",
       "    </tr>\n",
       "    <tr>\n",
       "      <th>8</th>\n",
       "      <td>Sales Representative</td>\n",
       "      <td>83</td>\n",
       "      <td>Yes</td>\n",
       "      <td>33</td>\n",
       "    </tr>\n",
       "  </tbody>\n",
       "</table>\n",
       "</div>"
      ],
      "text/plain": [
       "                     JobRole  Total Employee Attrition  Employee Count\n",
       "0  Healthcare Representative             131       Yes               9\n",
       "1            Human Resources              52       Yes              12\n",
       "2      Laboratory Technician             259       Yes              62\n",
       "3                    Manager             102       Yes               5\n",
       "4     Manufacturing Director             145       Yes              10\n",
       "5          Research Director              80       Yes               2\n",
       "6         Research Scientist             292       Yes              47\n",
       "7            Sales Executive             326       Yes              57\n",
       "8       Sales Representative              83       Yes              33"
      ]
     },
     "execution_count": 39,
     "metadata": {},
     "output_type": "execute_result"
    }
   ],
   "source": [
    "jobrole_join = pd.merge(job_att_total, job_att_who_left, how = 'inner', on= 'JobRole')\n",
    "jobrole_join"
   ]
  },
  {
   "cell_type": "code",
   "execution_count": null,
   "id": "04b7e678-0c28-4505-a976-376ded62f831",
   "metadata": {},
   "outputs": [],
   "source": []
  },
  {
   "cell_type": "code",
   "execution_count": 42,
   "id": "f6f73cb4-28e6-46ad-bcbf-cced243ac6d8",
   "metadata": {},
   "outputs": [],
   "source": [
    "jobrole_join['per of company how left the company'] = jobrole_join['Employee Count']*100.0/jobrole_join['Total Employee']"
   ]
  },
  {
   "cell_type": "code",
   "execution_count": 46,
   "id": "7a69940a-6d48-488d-bce6-f40f7ac08c48",
   "metadata": {},
   "outputs": [],
   "source": [
    "jobrole_join=jobrole_join.sort_values(by = 'per of company how left the company', ascending = False)"
   ]
  },
  {
   "cell_type": "code",
   "execution_count": 48,
   "id": "cc25440f-6113-4bdd-993a-8a6df0ecdbd0",
   "metadata": {},
   "outputs": [
    {
     "data": {
      "text/html": [
       "<div>\n",
       "<style scoped>\n",
       "    .dataframe tbody tr th:only-of-type {\n",
       "        vertical-align: middle;\n",
       "    }\n",
       "\n",
       "    .dataframe tbody tr th {\n",
       "        vertical-align: top;\n",
       "    }\n",
       "\n",
       "    .dataframe thead th {\n",
       "        text-align: right;\n",
       "    }\n",
       "</style>\n",
       "<table border=\"1\" class=\"dataframe\">\n",
       "  <thead>\n",
       "    <tr style=\"text-align: right;\">\n",
       "      <th></th>\n",
       "      <th>JobRole</th>\n",
       "      <th>Total Employee</th>\n",
       "      <th>Attrition</th>\n",
       "      <th>Employee Count</th>\n",
       "      <th>per of company how left the company</th>\n",
       "    </tr>\n",
       "  </thead>\n",
       "  <tbody>\n",
       "    <tr>\n",
       "      <th>8</th>\n",
       "      <td>Sales Representative</td>\n",
       "      <td>83</td>\n",
       "      <td>Yes</td>\n",
       "      <td>33</td>\n",
       "      <td>39.759036</td>\n",
       "    </tr>\n",
       "    <tr>\n",
       "      <th>2</th>\n",
       "      <td>Laboratory Technician</td>\n",
       "      <td>259</td>\n",
       "      <td>Yes</td>\n",
       "      <td>62</td>\n",
       "      <td>23.938224</td>\n",
       "    </tr>\n",
       "    <tr>\n",
       "      <th>1</th>\n",
       "      <td>Human Resources</td>\n",
       "      <td>52</td>\n",
       "      <td>Yes</td>\n",
       "      <td>12</td>\n",
       "      <td>23.076923</td>\n",
       "    </tr>\n",
       "    <tr>\n",
       "      <th>7</th>\n",
       "      <td>Sales Executive</td>\n",
       "      <td>326</td>\n",
       "      <td>Yes</td>\n",
       "      <td>57</td>\n",
       "      <td>17.484663</td>\n",
       "    </tr>\n",
       "    <tr>\n",
       "      <th>6</th>\n",
       "      <td>Research Scientist</td>\n",
       "      <td>292</td>\n",
       "      <td>Yes</td>\n",
       "      <td>47</td>\n",
       "      <td>16.095890</td>\n",
       "    </tr>\n",
       "    <tr>\n",
       "      <th>4</th>\n",
       "      <td>Manufacturing Director</td>\n",
       "      <td>145</td>\n",
       "      <td>Yes</td>\n",
       "      <td>10</td>\n",
       "      <td>6.896552</td>\n",
       "    </tr>\n",
       "    <tr>\n",
       "      <th>0</th>\n",
       "      <td>Healthcare Representative</td>\n",
       "      <td>131</td>\n",
       "      <td>Yes</td>\n",
       "      <td>9</td>\n",
       "      <td>6.870229</td>\n",
       "    </tr>\n",
       "    <tr>\n",
       "      <th>3</th>\n",
       "      <td>Manager</td>\n",
       "      <td>102</td>\n",
       "      <td>Yes</td>\n",
       "      <td>5</td>\n",
       "      <td>4.901961</td>\n",
       "    </tr>\n",
       "    <tr>\n",
       "      <th>5</th>\n",
       "      <td>Research Director</td>\n",
       "      <td>80</td>\n",
       "      <td>Yes</td>\n",
       "      <td>2</td>\n",
       "      <td>2.500000</td>\n",
       "    </tr>\n",
       "  </tbody>\n",
       "</table>\n",
       "</div>"
      ],
      "text/plain": [
       "                     JobRole  Total Employee Attrition  Employee Count  \\\n",
       "8       Sales Representative              83       Yes              33   \n",
       "2      Laboratory Technician             259       Yes              62   \n",
       "1            Human Resources              52       Yes              12   \n",
       "7            Sales Executive             326       Yes              57   \n",
       "6         Research Scientist             292       Yes              47   \n",
       "4     Manufacturing Director             145       Yes              10   \n",
       "0  Healthcare Representative             131       Yes               9   \n",
       "3                    Manager             102       Yes               5   \n",
       "5          Research Director              80       Yes               2   \n",
       "\n",
       "   per of company how left the company  \n",
       "8                            39.759036  \n",
       "2                            23.938224  \n",
       "1                            23.076923  \n",
       "7                            17.484663  \n",
       "6                            16.095890  \n",
       "4                             6.896552  \n",
       "0                             6.870229  \n",
       "3                             4.901961  \n",
       "5                             2.500000  "
      ]
     },
     "execution_count": 48,
     "metadata": {},
     "output_type": "execute_result"
    }
   ],
   "source": [
    "jobrole_join"
   ]
  },
  {
   "cell_type": "code",
   "execution_count": null,
   "id": "8f858b75-cc40-491b-bf18-3fc3b63c773c",
   "metadata": {},
   "outputs": [],
   "source": [
    "# how does attrition relate to distance form home\n",
    "# work life balance vs attrition\n",
    "# overtime vs attrition "
   ]
  },
  {
   "cell_type": "code",
   "execution_count": 80,
   "id": "e8e2fad5-5d5a-4cda-9395-9e4949985ebc",
   "metadata": {},
   "outputs": [
    {
     "data": {
      "text/html": [
       "<div>\n",
       "<style scoped>\n",
       "    .dataframe tbody tr th:only-of-type {\n",
       "        vertical-align: middle;\n",
       "    }\n",
       "\n",
       "    .dataframe tbody tr th {\n",
       "        vertical-align: top;\n",
       "    }\n",
       "\n",
       "    .dataframe thead th {\n",
       "        text-align: right;\n",
       "    }\n",
       "</style>\n",
       "<table border=\"1\" class=\"dataframe\">\n",
       "  <thead>\n",
       "    <tr style=\"text-align: right;\">\n",
       "      <th></th>\n",
       "      <th>Attrition</th>\n",
       "      <th>DistanceFromHome</th>\n",
       "      <th>count</th>\n",
       "    </tr>\n",
       "  </thead>\n",
       "  <tbody>\n",
       "    <tr>\n",
       "      <th>0</th>\n",
       "      <td>No</td>\n",
       "      <td>2</td>\n",
       "      <td>183</td>\n",
       "    </tr>\n",
       "    <tr>\n",
       "      <th>1</th>\n",
       "      <td>No</td>\n",
       "      <td>1</td>\n",
       "      <td>182</td>\n",
       "    </tr>\n",
       "    <tr>\n",
       "      <th>2</th>\n",
       "      <td>No</td>\n",
       "      <td>10</td>\n",
       "      <td>75</td>\n",
       "    </tr>\n",
       "    <tr>\n",
       "      <th>3</th>\n",
       "      <td>No</td>\n",
       "      <td>7</td>\n",
       "      <td>73</td>\n",
       "    </tr>\n",
       "    <tr>\n",
       "      <th>4</th>\n",
       "      <td>No</td>\n",
       "      <td>3</td>\n",
       "      <td>70</td>\n",
       "    </tr>\n",
       "  </tbody>\n",
       "</table>\n",
       "</div>"
      ],
      "text/plain": [
       "  Attrition  DistanceFromHome  count\n",
       "0        No                 2    183\n",
       "1        No                 1    182\n",
       "2        No                10     75\n",
       "3        No                 7     73\n",
       "4        No                 3     70"
      ]
     },
     "execution_count": 80,
     "metadata": {},
     "output_type": "execute_result"
    }
   ],
   "source": [
    "data = df[['DistanceFromHome','Attrition']].groupby(by='Attrition').value_counts().reset_index()\n",
    "data.head()"
   ]
  },
  {
   "cell_type": "code",
   "execution_count": 78,
   "id": "367b9c7b-28cd-4fcc-9b80-b166ba979b98",
   "metadata": {},
   "outputs": [
    {
     "data": {
      "text/plain": [
       "<Axes: xlabel='DistanceFromHome', ylabel='count'>"
      ]
     },
     "execution_count": 78,
     "metadata": {},
     "output_type": "execute_result"
    },
    {
     "data": {
      "image/png": "[encoded data removed]",
      "text/plain": [
       "<Figure size 640x480 with 1 Axes>"
      ]
     },
     "metadata": {},
     "output_type": "display_data"
    }
   ],
   "source": [
    "sns.lineplot(data=data,x='DistanceFromHome',y='count',hue='Attrition')"
   ]
  },
  {
   "cell_type": "code",
   "execution_count": null,
   "id": "c194bafc-b7ce-48d4-a2c7-f347b77c5181",
   "metadata": {},
   "outputs": [],
   "source": []
  },
  {
   "cell_type": "code",
   "execution_count": null,
   "id": "329ccd99-7bc3-4511-9903-faea3f296c67",
   "metadata": {},
   "outputs": [],
   "source": []
  },
  {
   "cell_type": "code",
   "execution_count": null,
   "id": "7e53c3f1-280e-4785-8918-c8c2c2bb5602",
   "metadata": {},
   "outputs": [],
   "source": []
  },
  {
   "cell_type": "code",
   "execution_count": 11,
   "id": "fc51d8b0-2526-4690-8097-64daebdbdd36",
   "metadata": {},
   "outputs": [
    {
     "data": {
      "text/plain": [
       "Age                         0\n",
       "Attrition                   0\n",
       "BusinessTravel              0\n",
       "DailyRate                   0\n",
       "Department                  0\n",
       "DistanceFromHome            0\n",
       "Education                   0\n",
       "EducationField              0\n",
       "EmployeeCount               0\n",
       "EmployeeNumber              0\n",
       "EnvironmentSatisfaction     0\n",
       "Gender                      0\n",
       "HourlyRate                  0\n",
       "JobInvolvement              0\n",
       "JobLevel                    0\n",
       "JobRole                     0\n",
       "JobSatisfaction             0\n",
       "MaritalStatus               0\n",
       "MonthlyIncome               0\n",
       "MonthlyRate                 0\n",
       "NumCompaniesWorked          0\n",
       "Over18                      0\n",
       "OverTime                    0\n",
       "PercentSalaryHike           0\n",
       "PerformanceRating           0\n",
       "RelationshipSatisfaction    0\n",
       "StandardHours               0\n",
       "StockOptionLevel            0\n",
       "TotalWorkingYears           0\n",
       "TrainingTimesLastYear       0\n",
       "WorkLifeBalance             0\n",
       "YearsAtCompany              0\n",
       "YearsInCurrentRole          0\n",
       "YearsSinceLastPromotion     0\n",
       "YearsWithCurrManager        0\n",
       "dtype: int64"
      ]
     },
     "execution_count": 11,
     "metadata": {},
     "output_type": "execute_result"
    }
   ],
   "source": [
    "df.isna().sum()"
   ]
  },
  {
   "cell_type": "code",
   "execution_count": 13,
   "id": "14b219a2-c0c7-4ea4-9aac-531cd0de54fe",
   "metadata": {},
   "outputs": [
    {
     "name": "stdout",
     "output_type": "stream",
     "text": [
      "<class 'pandas.core.frame.DataFrame'>\n",
      "RangeIndex: 1470 entries, 0 to 1469\n",
      "Data columns (total 35 columns):\n",
      " #   Column                    Non-Null Count  Dtype \n",
      "---  ------                    --------------  ----- \n",
      " 0   Age                       1470 non-null   int64 \n",
      " 1   Attrition                 1470 non-null   object\n",
      " 2   BusinessTravel            1470 non-null   object\n",
      " 3   DailyRate                 1470 non-null   int64 \n",
      " 4   Department                1470 non-null   object\n",
      " 5   DistanceFromHome          1470 non-null   int64 \n",
      " 6   Education                 1470 non-null   int64 \n",
      " 7   EducationField            1470 non-null   object\n",
      " 8   EmployeeCount             1470 non-null   int64 \n",
      " 9   EmployeeNumber            1470 non-null   int64 \n",
      " 10  EnvironmentSatisfaction   1470 non-null   int64 \n",
      " 11  Gender                    1470 non-null   object\n",
      " 12  HourlyRate                1470 non-null   int64 \n",
      " 13  JobInvolvement            1470 non-null   int64 \n",
      " 14  JobLevel                  1470 non-null   int64 \n",
      " 15  JobRole                   1470 non-null   object\n",
      " 16  JobSatisfaction           1470 non-null   int64 \n",
      " 17  MaritalStatus             1470 non-null   object\n",
      " 18  MonthlyIncome             1470 non-null   int64 \n",
      " 19  MonthlyRate               1470 non-null   int64 \n",
      " 20  NumCompaniesWorked        1470 non-null   int64 \n",
      " 21  Over18                    1470 non-null   object\n",
      " 22  OverTime                  1470 non-null   object\n",
      " 23  PercentSalaryHike         1470 non-null   int64 \n",
      " 24  PerformanceRating         1470 non-null   int64 \n",
      " 25  RelationshipSatisfaction  1470 non-null   int64 \n",
      " 26  StandardHours             1470 non-null   int64 \n",
      " 27  StockOptionLevel          1470 non-null   int64 \n",
      " 28  TotalWorkingYears         1470 non-null   int64 \n",
      " 29  TrainingTimesLastYear     1470 non-null   int64 \n",
      " 30  WorkLifeBalance           1470 non-null   int64 \n",
      " 31  YearsAtCompany            1470 non-null   int64 \n",
      " 32  YearsInCurrentRole        1470 non-null   int64 \n",
      " 33  YearsSinceLastPromotion   1470 non-null   int64 \n",
      " 34  YearsWithCurrManager      1470 non-null   int64 \n",
      "dtypes: int64(26), object(9)\n",
      "memory usage: 402.1+ KB\n"
     ]
    }
   ],
   "source": [
    "df.info()"
   ]
  },
  {
   "cell_type": "code",
   "execution_count": 33,
   "id": "80146263-1d3e-4fd0-afde-466eaefca32d",
   "metadata": {},
   "outputs": [
    {
     "data": {
      "text/plain": [
       "Attrition\n",
       "No     1233\n",
       "Yes     237\n",
       "Name: count, dtype: int64"
      ]
     },
     "execution_count": 33,
     "metadata": {},
     "output_type": "execute_result"
    }
   ],
   "source": [
    "df['Attrition'].value_counts()"
   ]
  },
  {
   "cell_type": "code",
   "execution_count": 31,
   "id": "5bd9101f-7e3c-4a94-97cc-e6b4dce1ab49",
   "metadata": {},
   "outputs": [
    {
     "data": {
      "text/plain": [
       "Attrition\n",
       "No     83.877551\n",
       "Yes    16.122449\n",
       "Name: proportion, dtype: float64"
      ]
     },
     "execution_count": 31,
     "metadata": {},
     "output_type": "execute_result"
    }
   ],
   "source": [
    "df['Attrition'].value_counts(normalize = True)*100"
   ]
  },
  {
   "cell_type": "code",
   "execution_count": 29,
   "id": "061be24b-aa0f-41b4-b587-e9da277e4f37",
   "metadata": {},
   "outputs": [],
   "source": [
    "gender_attrition = df[['Attrition','Gender']]"
   ]
  },
  {
   "cell_type": "code",
   "execution_count": 35,
   "id": "185df824-8b38-435f-8bd8-55438a344d4b",
   "metadata": {},
   "outputs": [],
   "source": [
    "gender_attrition = gender_attrition[gender_attrition['Attrition']=='Yes']"
   ]
  },
  {
   "cell_type": "code",
   "execution_count": 41,
   "id": "a18cbca0-a53b-4f39-8db6-7c3bbfe8867f",
   "metadata": {},
   "outputs": [
    {
     "data": {
      "text/plain": [
       "Gender\n",
       "Male      63.291139\n",
       "Female    36.708861\n",
       "Name: proportion, dtype: float64"
      ]
     },
     "execution_count": 41,
     "metadata": {},
     "output_type": "execute_result"
    }
   ],
   "source": [
    "gender_attrition['Gender'].value_counts(normalize = True) * 100"
   ]
  },
  {
   "cell_type": "code",
   "execution_count": 43,
   "id": "6ccff2a7-6d96-429b-9ac9-5879ad27a3c8",
   "metadata": {},
   "outputs": [
    {
     "data": {
      "text/plain": [
       "Attrition  Gender\n",
       "No         Male      49.795918\n",
       "           Female    34.081633\n",
       "Yes        Male      10.204082\n",
       "           Female     5.918367\n",
       "Name: proportion, dtype: float64"
      ]
     },
     "execution_count": 43,
     "metadata": {},
     "output_type": "execute_result"
    }
   ],
   "source": [
    "df[['Attrition','Gender']].value_counts(normalize=True)*100"
   ]
  },
  {
   "cell_type": "code",
   "execution_count": 63,
   "id": "587d347b-7d76-4532-ac23-858deb8acd58",
   "metadata": {},
   "outputs": [],
   "source": [
    "dept_attrition = df[df['Attrition']=='Yes']['Department'].value_counts()"
   ]
  },
  {
   "cell_type": "code",
   "execution_count": 65,
   "id": "5faf71aa-9e76-40c8-822f-26622dfcd4cd",
   "metadata": {},
   "outputs": [
    {
     "data": {
      "text/plain": [
       "Department\n",
       "Research & Development    133\n",
       "Sales                      92\n",
       "Human Resources            12\n",
       "Name: count, dtype: int64"
      ]
     },
     "execution_count": 65,
     "metadata": {},
     "output_type": "execute_result"
    }
   ],
   "source": [
    "dept_attrition"
   ]
  },
  {
   "cell_type": "code",
   "execution_count": 73,
   "id": "844adea1-dbfe-4410-8fb1-bd026821f78b",
   "metadata": {},
   "outputs": [
    {
     "data": {
      "image/png": "[encoded data removed]",
      "text/plain": [
       "<Figure size 640x480 with 1 Axes>"
      ]
     },
     "metadata": {},
     "output_type": "display_data"
    }
   ],
   "source": [
    "dept_attrition.plot(kind = 'bar', title='Department Attrition', color = 'red')\n",
    "plt.ylabel('Number of Employee Who Left')\n",
    "plt.show()"
   ]
  },
  {
   "cell_type": "code",
   "execution_count": 75,
   "id": "4fa518d8-35b7-47cb-9ea4-4f284ee0be6b",
   "metadata": {},
   "outputs": [],
   "source": [
    "dept_wise_attrition = df[['Department','Attrition']]"
   ]
  },
  {
   "cell_type": "code",
   "execution_count": 77,
   "id": "9c7c4a1d-5079-4830-a77e-2f0698ca4182",
   "metadata": {},
   "outputs": [
    {
     "data": {
      "text/html": [
       "<div>\n",
       "<style scoped>\n",
       "    .dataframe tbody tr th:only-of-type {\n",
       "        vertical-align: middle;\n",
       "    }\n",
       "\n",
       "    .dataframe tbody tr th {\n",
       "        vertical-align: top;\n",
       "    }\n",
       "\n",
       "    .dataframe thead th {\n",
       "        text-align: right;\n",
       "    }\n",
       "</style>\n",
       "<table border=\"1\" class=\"dataframe\">\n",
       "  <thead>\n",
       "    <tr style=\"text-align: right;\">\n",
       "      <th></th>\n",
       "      <th>Department</th>\n",
       "      <th>Attrition</th>\n",
       "    </tr>\n",
       "  </thead>\n",
       "  <tbody>\n",
       "    <tr>\n",
       "      <th>0</th>\n",
       "      <td>Sales</td>\n",
       "      <td>Yes</td>\n",
       "    </tr>\n",
       "    <tr>\n",
       "      <th>1</th>\n",
       "      <td>Research &amp; Development</td>\n",
       "      <td>No</td>\n",
       "    </tr>\n",
       "    <tr>\n",
       "      <th>2</th>\n",
       "      <td>Research &amp; Development</td>\n",
       "      <td>Yes</td>\n",
       "    </tr>\n",
       "    <tr>\n",
       "      <th>3</th>\n",
       "      <td>Research &amp; Development</td>\n",
       "      <td>No</td>\n",
       "    </tr>\n",
       "    <tr>\n",
       "      <th>4</th>\n",
       "      <td>Research &amp; Development</td>\n",
       "      <td>No</td>\n",
       "    </tr>\n",
       "    <tr>\n",
       "      <th>...</th>\n",
       "      <td>...</td>\n",
       "      <td>...</td>\n",
       "    </tr>\n",
       "    <tr>\n",
       "      <th>1465</th>\n",
       "      <td>Research &amp; Development</td>\n",
       "      <td>No</td>\n",
       "    </tr>\n",
       "    <tr>\n",
       "      <th>1466</th>\n",
       "      <td>Research &amp; Development</td>\n",
       "      <td>No</td>\n",
       "    </tr>\n",
       "    <tr>\n",
       "      <th>1467</th>\n",
       "      <td>Research &amp; Development</td>\n",
       "      <td>No</td>\n",
       "    </tr>\n",
       "    <tr>\n",
       "      <th>1468</th>\n",
       "      <td>Sales</td>\n",
       "      <td>No</td>\n",
       "    </tr>\n",
       "    <tr>\n",
       "      <th>1469</th>\n",
       "      <td>Research &amp; Development</td>\n",
       "      <td>No</td>\n",
       "    </tr>\n",
       "  </tbody>\n",
       "</table>\n",
       "<p>1470 rows × 2 columns</p>\n",
       "</div>"
      ],
      "text/plain": [
       "                  Department Attrition\n",
       "0                      Sales       Yes\n",
       "1     Research & Development        No\n",
       "2     Research & Development       Yes\n",
       "3     Research & Development        No\n",
       "4     Research & Development        No\n",
       "...                      ...       ...\n",
       "1465  Research & Development        No\n",
       "1466  Research & Development        No\n",
       "1467  Research & Development        No\n",
       "1468                   Sales        No\n",
       "1469  Research & Development        No\n",
       "\n",
       "[1470 rows x 2 columns]"
      ]
     },
     "execution_count": 77,
     "metadata": {},
     "output_type": "execute_result"
    }
   ],
   "source": [
    "dept_wise_attrition"
   ]
  },
  {
   "cell_type": "code",
   "execution_count": 79,
   "id": "0de4ee3b-0661-4495-8511-9b47401b4f5b",
   "metadata": {},
   "outputs": [
    {
     "data": {
      "text/plain": [
       "<Axes: xlabel='Department', ylabel='count'>"
      ]
     },
     "execution_count": 79,
     "metadata": {},
     "output_type": "execute_result"
    },
    {
     "data": {
      "image/png": "[encoded data removed]",
      "text/plain": [
       "<Figure size 640x480 with 1 Axes>"
      ]
     },
     "metadata": {},
     "output_type": "display_data"
    }
   ],
   "source": [
    "sns.countplot(data= dept_wise_attrition,x='Department',hue='Attrition')"
   ]
  },
  {
   "cell_type": "code",
   "execution_count": 83,
   "id": "4945f44a-6c85-4b59-a987-1fb68e24c69f",
   "metadata": {},
   "outputs": [
    {
     "data": {
      "text/plain": [
       "JobRole\n",
       "Sales Executive              326\n",
       "Research Scientist           292\n",
       "Laboratory Technician        259\n",
       "Manufacturing Director       145\n",
       "Healthcare Representative    131\n",
       "Manager                      102\n",
       "Sales Representative          83\n",
       "Research Director             80\n",
       "Human Resources               52\n",
       "Name: count, dtype: int64"
      ]
     },
     "execution_count": 83,
     "metadata": {},
     "output_type": "execute_result"
    }
   ],
   "source": [
    "df['JobRole'].value_counts()"
   ]
  },
  {
   "cell_type": "code",
   "execution_count": 91,
   "id": "3af1d996-b52f-4461-9d25-a2d945c8fa17",
   "metadata": {},
   "outputs": [
    {
     "data": {
      "text/plain": [
       "<Axes: xlabel='count', ylabel='JobRole'>"
      ]
     },
     "execution_count": 91,
     "metadata": {},
     "output_type": "execute_result"
    },
    {
     "data": {
      "image/png": "[encoded data removed]",
      "text/plain": [
       "<Figure size 640x480 with 1 Axes>"
      ]
     },
     "metadata": {},
     "output_type": "display_data"
    }
   ],
   "source": [
    "dept_wise_attrition = df[['JobRole','Attrition']]\n",
    "dept_wise_attrition\n",
    "sns.countplot(data = dept_wise_attrition, y='JobRole', hue='Attrition')"
   ]
  },
  {
   "cell_type": "code",
   "execution_count": null,
   "id": "8d2a6782-5505-41ca-a4d5-322ac5362784",
   "metadata": {},
   "outputs": [],
   "source": [
    "# does rnd team have sales executives? if yes report the count of all such people"
   ]
  },
  {
   "cell_type": "code",
   "execution_count": 95,
   "id": "03fdd117-e535-4b71-8aae-27f68fbdab3f",
   "metadata": {},
   "outputs": [
    {
     "data": {
      "text/plain": [
       "JobRole\n",
       "Research Scientist           292\n",
       "Laboratory Technician        259\n",
       "Manufacturing Director       145\n",
       "Healthcare Representative    131\n",
       "Research Director             80\n",
       "Manager                       54\n",
       "Name: count, dtype: int64"
      ]
     },
     "execution_count": 95,
     "metadata": {},
     "output_type": "execute_result"
    }
   ],
   "source": [
    "df[df['Department']=='Research & Development']['JobRole'].value_counts()"
   ]
  },
  {
   "cell_type": "code",
   "execution_count": 125,
   "id": "26ef4adb-3973-4303-aa3e-98c658dd44f0",
   "metadata": {},
   "outputs": [],
   "source": [
    "job_role_att = df[['JobRole','Attrition']].value_counts(normalize = True)*100"
   ]
  },
  {
   "cell_type": "code",
   "execution_count": 131,
   "id": "8e6e817c-5a54-4d07-be69-14e1e7b2ba09",
   "metadata": {},
   "outputs": [],
   "source": [
    "job_role_att = df.groupby(['JobRole','Attrition']).size().reset_index(name='Employee Count')"
   ]
  },
  {
   "cell_type": "code",
   "execution_count": 133,
   "id": "57e5ea09-7f9c-4bdc-afc8-54ca109803bb",
   "metadata": {},
   "outputs": [
    {
     "data": {
      "text/html": [
       "<div>\n",
       "<style scoped>\n",
       "    .dataframe tbody tr th:only-of-type {\n",
       "        vertical-align: middle;\n",
       "    }\n",
       "\n",
       "    .dataframe tbody tr th {\n",
       "        vertical-align: top;\n",
       "    }\n",
       "\n",
       "    .dataframe thead th {\n",
       "        text-align: right;\n",
       "    }\n",
       "</style>\n",
       "<table border=\"1\" class=\"dataframe\">\n",
       "  <thead>\n",
       "    <tr style=\"text-align: right;\">\n",
       "      <th></th>\n",
       "      <th>JobRole</th>\n",
       "      <th>Attrition</th>\n",
       "      <th>Employee Count</th>\n",
       "    </tr>\n",
       "  </thead>\n",
       "  <tbody>\n",
       "    <tr>\n",
       "      <th>0</th>\n",
       "      <td>Healthcare Representative</td>\n",
       "      <td>No</td>\n",
       "      <td>122</td>\n",
       "    </tr>\n",
       "    <tr>\n",
       "      <th>1</th>\n",
       "      <td>Healthcare Representative</td>\n",
       "      <td>Yes</td>\n",
       "      <td>9</td>\n",
       "    </tr>\n",
       "    <tr>\n",
       "      <th>2</th>\n",
       "      <td>Human Resources</td>\n",
       "      <td>No</td>\n",
       "      <td>40</td>\n",
       "    </tr>\n",
       "    <tr>\n",
       "      <th>3</th>\n",
       "      <td>Human Resources</td>\n",
       "      <td>Yes</td>\n",
       "      <td>12</td>\n",
       "    </tr>\n",
       "    <tr>\n",
       "      <th>4</th>\n",
       "      <td>Laboratory Technician</td>\n",
       "      <td>No</td>\n",
       "      <td>197</td>\n",
       "    </tr>\n",
       "    <tr>\n",
       "      <th>5</th>\n",
       "      <td>Laboratory Technician</td>\n",
       "      <td>Yes</td>\n",
       "      <td>62</td>\n",
       "    </tr>\n",
       "    <tr>\n",
       "      <th>6</th>\n",
       "      <td>Manager</td>\n",
       "      <td>No</td>\n",
       "      <td>97</td>\n",
       "    </tr>\n",
       "    <tr>\n",
       "      <th>7</th>\n",
       "      <td>Manager</td>\n",
       "      <td>Yes</td>\n",
       "      <td>5</td>\n",
       "    </tr>\n",
       "    <tr>\n",
       "      <th>8</th>\n",
       "      <td>Manufacturing Director</td>\n",
       "      <td>No</td>\n",
       "      <td>135</td>\n",
       "    </tr>\n",
       "    <tr>\n",
       "      <th>9</th>\n",
       "      <td>Manufacturing Director</td>\n",
       "      <td>Yes</td>\n",
       "      <td>10</td>\n",
       "    </tr>\n",
       "    <tr>\n",
       "      <th>10</th>\n",
       "      <td>Research Director</td>\n",
       "      <td>No</td>\n",
       "      <td>78</td>\n",
       "    </tr>\n",
       "    <tr>\n",
       "      <th>11</th>\n",
       "      <td>Research Director</td>\n",
       "      <td>Yes</td>\n",
       "      <td>2</td>\n",
       "    </tr>\n",
       "    <tr>\n",
       "      <th>12</th>\n",
       "      <td>Research Scientist</td>\n",
       "      <td>No</td>\n",
       "      <td>245</td>\n",
       "    </tr>\n",
       "    <tr>\n",
       "      <th>13</th>\n",
       "      <td>Research Scientist</td>\n",
       "      <td>Yes</td>\n",
       "      <td>47</td>\n",
       "    </tr>\n",
       "    <tr>\n",
       "      <th>14</th>\n",
       "      <td>Sales Executive</td>\n",
       "      <td>No</td>\n",
       "      <td>269</td>\n",
       "    </tr>\n",
       "    <tr>\n",
       "      <th>15</th>\n",
       "      <td>Sales Executive</td>\n",
       "      <td>Yes</td>\n",
       "      <td>57</td>\n",
       "    </tr>\n",
       "    <tr>\n",
       "      <th>16</th>\n",
       "      <td>Sales Representative</td>\n",
       "      <td>No</td>\n",
       "      <td>50</td>\n",
       "    </tr>\n",
       "    <tr>\n",
       "      <th>17</th>\n",
       "      <td>Sales Representative</td>\n",
       "      <td>Yes</td>\n",
       "      <td>33</td>\n",
       "    </tr>\n",
       "  </tbody>\n",
       "</table>\n",
       "</div>"
      ],
      "text/plain": [
       "                      JobRole Attrition  Employee Count\n",
       "0   Healthcare Representative        No             122\n",
       "1   Healthcare Representative       Yes               9\n",
       "2             Human Resources        No              40\n",
       "3             Human Resources       Yes              12\n",
       "4       Laboratory Technician        No             197\n",
       "5       Laboratory Technician       Yes              62\n",
       "6                     Manager        No              97\n",
       "7                     Manager       Yes               5\n",
       "8      Manufacturing Director        No             135\n",
       "9      Manufacturing Director       Yes              10\n",
       "10          Research Director        No              78\n",
       "11          Research Director       Yes               2\n",
       "12         Research Scientist        No             245\n",
       "13         Research Scientist       Yes              47\n",
       "14            Sales Executive        No             269\n",
       "15            Sales Executive       Yes              57\n",
       "16       Sales Representative        No              50\n",
       "17       Sales Representative       Yes              33"
      ]
     },
     "execution_count": 133,
     "metadata": {},
     "output_type": "execute_result"
    }
   ],
   "source": [
    "job_role_att"
   ]
  },
  {
   "cell_type": "code",
   "execution_count": null,
   "id": "306975e1-4a82-4bee-be5b-78bc350efbc5",
   "metadata": {},
   "outputs": [],
   "source": []
  }
 ],
 "metadata": {
  "kernelspec": {
   "display_name": "Python [conda env:base] *",
   "language": "python",
   "name": "conda-base-py"
  },
  "language_info": {
   "codemirror_mode": {
    "name": "ipython",
    "version": 3
   },
   "file_extension": ".py",
   "mimetype": "text/x-python",
   "name": "python",
   "nbconvert_exporter": "python",
   "pygments_lexer": "ipython3",
   "version": "3.12.7"
  }
 },
 "nbformat": 4,
 "nbformat_minor": 5
}
