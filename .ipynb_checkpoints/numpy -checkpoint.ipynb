{
 "cells": [
  {
   "cell_type": "code",
   "execution_count": 83,
   "id": "deff04d9-8971-40a6-91ba-64a86cfb8e31",
   "metadata": {},
   "outputs": [],
   "source": [
    "import numpy as np\n",
    "\n",
    "# a = np.array([1, 2, 3, 4], dtype='int8')\n",
    "\n",
    "# # print(a)\n",
    "\n",
    "# # Number of elements\n",
    "# # print(a.size)\n",
    "\n",
    "# # Size of each element in bytes\n",
    "# print(a.itemsize)\n",
    "\n",
    "# Get data type of array elements\n",
    "# print(a.dtype)\n",
    "# a.dtype\n",
    "\n",
    "# a.nbytes\n",
    "\n",
    "\n",
    "#created 2d array\n",
    "\n",
    "b = np.array([\n",
    "    [1,2,3,4,5],\n",
    "    [6,7,8,9,0]\n",
    "])\n",
    "# print(b)\n",
    "\n",
    "# #check dimenstions\n",
    "# a.ndim\n",
    "# b.ndim\n",
    "\n",
    "# # how many rows,cloums\n",
    "# b.shape\n",
    "\n",
    "b\n",
    "\n",
    "#get a specific element\n",
    "# b[0][1]\n",
    "\n",
    "# b[0]\n",
    "\n",
    "# #get a specific row\n",
    "# b[0, :]\n",
    "\n",
    "# #get a specific cloumn\n",
    "# b[:,4]\n",
    "\n",
    "# ## more on access [startingIdx, lastIdx, steps]\n",
    "# b[0,1:-1]\n",
    "# b[1,2:-1]\n",
    "# b[1,1:-1:2]\n",
    "\n",
    "b\n",
    "b[1,4]=10"
   ]
  },
  {
   "cell_type": "code",
   "execution_count": null,
   "id": "ad30749f-2dcd-4376-a6e6-49874d0e8d22",
   "metadata": {},
   "outputs": [],
   "source": []
  }
 ],
 "metadata": {
  "kernelspec": {
   "display_name": "Python [conda env:base] *",
   "language": "python",
   "name": "conda-base-py"
  },
  "language_info": {
   "codemirror_mode": {
    "name": "ipython",
    "version": 3
   },
   "file_extension": ".py",
   "mimetype": "text/x-python",
   "name": "python",
   "nbconvert_exporter": "python",
   "pygments_lexer": "ipython3",
   "version": "3.12.7"
  }
 },
 "nbformat": 4,
 "nbformat_minor": 5
}
