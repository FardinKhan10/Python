{
 "cells": [
  {
   "cell_type": "code",
   "execution_count": 20,
   "id": "7d21830b-8b0b-400f-8e0b-873e26b97e44",
   "metadata": {},
   "outputs": [
    {
     "name": "stdout",
     "output_type": "stream",
     "text": [
      "800.0\n"
     ]
    },
    {
     "ename": "NameError",
     "evalue": "name 'discount' is not defined",
     "output_type": "error",
     "traceback": [
      "\u001b[1;31m---------------------------------------------------------------------------\u001b[0m",
      "\u001b[1;31mNameError\u001b[0m                                 Traceback (most recent call last)",
      "Cell \u001b[1;32mIn[20], line 9\u001b[0m\n\u001b[0;32m      6\u001b[0m final_Price \u001b[38;5;241m=\u001b[39m apply_discount(price,discountPercentage)\n\u001b[0;32m      7\u001b[0m \u001b[38;5;28mprint\u001b[39m(final_Price)\n\u001b[1;32m----> 9\u001b[0m c \u001b[38;5;241m=\u001b[39m discount\u001b[38;5;241m.\u001b[39mcard_discount(\u001b[38;5;241m100\u001b[39m, \u001b[38;5;124m\"\u001b[39m\u001b[38;5;124mSBI\u001b[39m\u001b[38;5;124m\"\u001b[39m)\n\u001b[0;32m     10\u001b[0m \u001b[38;5;28mprint\u001b[39m(c)\n",
      "\u001b[1;31mNameError\u001b[0m: name 'discount' is not defined"
     ]
    }
   ],
   "source": [
    "from discount import *\n",
    "\n",
    "price = 1000\n",
    "discountPercentage = 20\n",
    "\n",
    "final_Price = apply_discount(price,discountPercentage)\n",
    "print(final_Price)\n",
    "\n",
    "c = discount.card_discount(100, \"SBI\")\n",
    "print(c)"
   ]
  },
  {
   "cell_type": "code",
   "execution_count": null,
   "id": "567135e0-c2b4-4384-856e-78d7cb4a919a",
   "metadata": {},
   "outputs": [],
   "source": []
  }
 ],
 "metadata": {
  "kernelspec": {
   "display_name": "Python [conda env:base] *",
   "language": "python",
   "name": "conda-base-py"
  },
  "language_info": {
   "codemirror_mode": {
    "name": "ipython",
    "version": 3
   },
   "file_extension": ".py",
   "mimetype": "text/x-python",
   "name": "python",
   "nbconvert_exporter": "python",
   "pygments_lexer": "ipython3",
   "version": "3.12.7"
  }
 },
 "nbformat": 4,
 "nbformat_minor": 5
}
