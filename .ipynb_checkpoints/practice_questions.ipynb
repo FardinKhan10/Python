{
 "cells": [
  {
   "cell_type": "code",
   "execution_count": 3,
   "id": "b4a3985a",
   "metadata": {},
   "outputs": [
    {
     "name": "stdout",
     "output_type": "stream",
     "text": [
      "{'fardin': 2, 'khan': 1}\n"
     ]
    }
   ],
   "source": [
    "# Q1. Accept a list of words from the user\n",
    "# create a dictionary of type word: vowel_counts (for each word find the count of vowels)\n",
    "# vowels an be aeiou or AEIOU\n",
    "words = input(\"Enter words separated by spaces: \").split()\n",
    "vowels = 'aeiou'\n",
    "vowel_counts = {}\n",
    "for word in words:\n",
    "    count = 0\n",
    "    for letter in word.lower():\n",
    "        if letter in vowels:\n",
    "            count += 1\n",
    "    vowel_counts[word] = count\n",
    "print(vowel_counts)"
   ]
  },
  {
   "cell_type": "code",
   "execution_count": null,
   "id": "689d8fde",
   "metadata": {},
   "outputs": [
    {
     "name": "stdout",
     "output_type": "stream",
     "text": [
      "1\n",
      "123\n",
      "1236\n",
      "123410\n",
      "1234515\n"
     ]
    }
   ],
   "source": [
    "# Q2. print the following pattern\n",
    "# 1\n",
    "# 123\n",
    "# 1236\n",
    "# 123410\n",
    "\n",
    "for number1 in range(1, 6):\n",
    "    summ = 0\n",
    "    for number2 in range(1, number1 + 1):\n",
    "        summ = summ + number2\n",
    "        print(number2, end = '')\n",
    "    if number1 != 1:\n",
    "        print(summ)\n",
    "    else:\n",
    "        print()\n",
    "# 1234515"
   ]
  },
  {
   "cell_type": "code",
   "execution_count": null,
   "id": "35e581ef",
   "metadata": {},
   "outputs": [
    {
     "name": "stdout",
     "output_type": "stream",
     "text": [
      "1\n"
     ]
    }
   ],
   "source": [
    "# Q3. accept list of email ids from the user and count how many email ids are of the domain rediff\n",
    "email_ids = input('Enter the email spereted by ,:').split(',')\n",
    "\n",
    "count = 0\n",
    "for email in email_ids:\n",
    "    email.lower().strip()\n",
    "    if email.endswith('@rediff.com'):\n",
    "        count += 1\n",
    "print(count)"
   ]
  },
  {
   "cell_type": "code",
   "execution_count": 11,
   "id": "833c223d",
   "metadata": {},
   "outputs": [
    {
     "name": "stdout",
     "output_type": "stream",
     "text": [
      "[(1, 6)]\n",
      "[(2, 5)]\n",
      "[(3, 4)]\n"
     ]
    }
   ],
   "source": [
    "# Q4. accept 2 lists of integers from the user and find the pairs that add up to a target value.\n",
    "# target value should also be taken as input\n",
    "\n",
    "lst1 = eval(input('Enter a Number seperated by ,'))\n",
    "lst2 = eval(input('Enter a Number seperated by ,'))\n",
    "target = eval(input('Enter a target value:'))\n",
    "\n",
    "for num1 in lst1:\n",
    "    # for num2 in lst2:\n",
    "    #     if(num1+num2==target):\n",
    "    #         print(num1,num2)\n",
    "    x = ((num1,num2) for num2 in lst2 if (num1+num2==target))\n",
    "    print(list(x))\n"
   ]
  },
  {
   "cell_type": "code",
   "execution_count": 14,
   "id": "c3463afa",
   "metadata": {},
   "outputs": [
    {
     "name": "stdout",
     "output_type": "stream",
     "text": [
      "(2.54, -3.21, 7.55, 5.23)\n",
      "5.23\n"
     ]
    }
   ],
   "source": [
    "# Q5. Input a list of floating point numbers and find the second largest number\n",
    "# no sorting! no built-in method\n",
    "\n",
    "lst_float = eval(input('Enter float number seperated by ,'))\n",
    "larg = 0.0\n",
    "sec_larg = 0.0\n",
    "\n",
    "for num_float in lst_float:\n",
    "    if num_float > larg:\n",
    "        sec_larg = larg\n",
    "        larg = num_float\n",
    "    elif num_float > sec_larg and num_float != larg:\n",
    "        sec_larg = num_float   \n",
    "\n",
    "print(lst_float) \n",
    "print(sec_larg)        "
   ]
  },
  {
   "cell_type": "code",
   "execution_count": 17,
   "id": "a9bb9bb1",
   "metadata": {},
   "outputs": [
    {
     "name": "stdout",
     "output_type": "stream",
     "text": [
      "[[1, 2, 3], [4, 5, 6], [7, 8, 9]]\n"
     ]
    }
   ],
   "source": [
    "# Q6. input a matrix of size n * n (n is also to be taken as input)\n",
    "# then find the sum of all elements on both the diagonals\n",
    "\n",
    "n = eval(input('Enter the value of N:'))\n",
    "matrix = []\n",
    "\n",
    "for i in range(n):\n",
    "    lst = []\n",
    "    for j in range(n):\n",
    "        x = eval(input(f'Enter the {j+1} element of list{i+1}: '))\n",
    "        lst.append(x)\n",
    "    matrix.append(lst)\n",
    "\n",
    "print(matrix)\n"
   ]
  },
  {
   "cell_type": "code",
   "execution_count": 19,
   "id": "6681b6eb",
   "metadata": {},
   "outputs": [
    {
     "name": "stdout",
     "output_type": "stream",
     "text": [
      "25\n"
     ]
    }
   ],
   "source": [
    "rows = len(matrix)\n",
    "cols = len(matrix[0])\n",
    "ans  = 0\n",
    "\n",
    "for r in range(rows):\n",
    "    for c in range(cols):\n",
    "        if r == c:\n",
    "            ans = ans + matrix[r][c]\n",
    "        elif r == n - c - 1:\n",
    "            ans = ans + matrix[r][c]\n",
    "\n",
    "print(ans)            "
   ]
  },
  {
   "cell_type": "code",
   "execution_count": null,
   "id": "1eeeede7",
   "metadata": {},
   "outputs": [],
   "source": []
  }
 ],
 "metadata": {
  "kernelspec": {
   "display_name": "Python 3",
   "language": "python",
   "name": "python3"
  },
  "language_info": {
   "codemirror_mode": {
    "name": "ipython",
    "version": 3
   },
   "file_extension": ".py",
   "mimetype": "text/x-python",
   "name": "python",
   "nbconvert_exporter": "python",
   "pygments_lexer": "ipython3",
   "version": "3.13.5"
  }
 },
 "nbformat": 4,
 "nbformat_minor": 5
}
