{
 "cells": [
  {
   "cell_type": "code",
   "execution_count": null,
   "id": "34d8a0e8-9f5f-4045-b336-f9ceb0637368",
   "metadata": {},
   "outputs": [],
   "source": [
    "# find the sum of all multiples of 3 and 5 between 1 and 100 using loops"
   ]
  },
  {
   "cell_type": "code",
   "execution_count": 8,
   "id": "60ee6bd1-7d40-4191-9a1f-0df73cf292a6",
   "metadata": {},
   "outputs": [
    {
     "name": "stdout",
     "output_type": "stream",
     "text": [
      "15\n",
      "30\n",
      "45\n",
      "60\n",
      "75\n",
      "90\n",
      "315\n"
     ]
    }
   ],
   "source": [
    "ans = 0\n",
    "for num in range(1,101):\n",
    "    if (num % 5 == 0) & (num % 3 == 0):\n",
    "        print(num)\n",
    "        ans = ans + num\n",
    "\n",
    "print(ans)"
   ]
  },
  {
   "cell_type": "code",
   "execution_count": 3,
   "id": "efde6271-4bfa-450b-9271-d4024d9f80b7",
   "metadata": {},
   "outputs": [
    {
     "name": "stdout",
     "output_type": "stream",
     "text": [
      "[84, 94]\n"
     ]
    }
   ],
   "source": [
    "lst1 = [50,84,36,94,45]\n",
    "lst2 = []\n",
    "for num in lst1:\n",
    "    if num > 70:\n",
    "        lst2.append(num)\n",
    "    else:\n",
    "        pass\n",
    "print(lst2)"
   ]
  },
  {
   "cell_type": "code",
   "execution_count": 9,
   "id": "0a725b6e-1f90-4e28-a595-0da365fe71e6",
   "metadata": {},
   "outputs": [
    {
     "name": "stdout",
     "output_type": "stream",
     "text": [
      "[84, 94]\n"
     ]
    }
   ],
   "source": [
    "lst1 = [50,84,36,94,45]\n",
    "lst2 = []\n",
    "\n",
    "\n",
    "\n",
    "for num in lst1:\n",
    "    lst2.append(num) if num > 70 else None\n",
    "\n",
    "print(lst2)"
   ]
  },
  {
   "cell_type": "code",
   "execution_count": 39,
   "id": "572d3dfd-17a5-48c5-9d6a-702f4f0dfa37",
   "metadata": {},
   "outputs": [
    {
     "name": "stdout",
     "output_type": "stream",
     "text": [
      "[[6, 7, 8, 9, 10, 1, 2, 3, 4, 5]]\n",
      "27\n"
     ]
    }
   ],
   "source": [
    "lst = [1,2,3,4,5,6,7,8,9,10]\n",
    "lstt = [lst[5:10]+lst[:5]]\n",
    "s = sum(lst[7:10])\n",
    "print(lstt)\n",
    "print(s)"
   ]
  },
  {
   "cell_type": "code",
   "execution_count": 1,
   "id": "4bdf2012-dc47-46ff-8af0-ebf82c189ef3",
   "metadata": {},
   "outputs": [
    {
     "name": "stdout",
     "output_type": "stream",
     "text": [
      "['yes', 'no', 'maybe']\n"
     ]
    }
   ],
   "source": [
    "resp = ['yes','','no','maybe','']\n",
    "clean = []\n",
    "\n",
    "for r in resp:\n",
    "    if r != '':\n",
    "        clean.append(r)\n",
    "print(clean)"
   ]
  },
  {
   "cell_type": "code",
   "execution_count": 13,
   "id": "908a7ed7-2eff-4bd4-8d50-693585c98c3a",
   "metadata": {},
   "outputs": [
    {
     "data": {
      "text/plain": [
       "[5, 10, 20, 40, 50, 60]"
      ]
     },
     "execution_count": 13,
     "metadata": {},
     "output_type": "execute_result"
    }
   ],
   "source": [
    "data_points = [10,20,30,40,50]\n",
    "data_points.append(60)\n",
    "data_points.insert(0,5)\n",
    "data_points.remove(30)\n",
    "data_points"
   ]
  },
  {
   "cell_type": "code",
   "execution_count": 29,
   "id": "4a53fae3-89c5-4172-8943-60c934223b37",
   "metadata": {},
   "outputs": [
    {
     "name": "stdout",
     "output_type": "stream",
     "text": [
      "Enter a Student Number 3\n",
      "Enter a Course Credit for student: 11\n",
      "Enter a Course Credit for student: 16\n",
      "Enter a Course Credit for student: 12\n"
     ]
    },
    {
     "name": "stdout",
     "output_type": "stream",
     "text": [
      "Student1: Enrollment Status:Part_Time\n",
      "Student2: Enrollment Status:Full_Stack\n",
      "Student3: Enrollment Status:Full_Stack\n"
     ]
    }
   ],
   "source": [
    "std = []\n",
    "num_std = int(input('Enter a Student Number'))\n",
    "crds = [] \n",
    "\n",
    "for i in range(num_std):\n",
    "    crd = int(input('Enter a Course Credit for student:')) \n",
    "    crds.append(crd)\n",
    "\n",
    "status = []\n",
    "\n",
    "for i in crds:\n",
    "    if i >= 12:\n",
    "        status.append('Full_Stack')\n",
    "\n",
    "    else:\n",
    "        status.append('Part_Time')\n",
    "\n",
    "for i in range(num_std):\n",
    "    print(f'Student{i+1}: Enrollment Status: {status[i]}')"
   ]
  },
  {
   "cell_type": "code",
   "execution_count": null,
   "id": "6a893719-12ee-4792-807b-5c68de90bc7b",
   "metadata": {},
   "outputs": [],
   "source": [
    "num = int(input('Enter number of people'))\n",
    "\n",
    "age2 = []\n",
    "for i in range(num):\n",
    "    age1=int(input('Enter age for each person'))\n",
    "    age2.append(age1)\n",
    "\n",
    "ch = 0\n",
    "ad= 0\n",
    "se=0\n",
    "for age in age2:\n",
    "    if (age < 18):\n",
    "        ch = ch +1\n",
    "    elif (age >= age and age < 65):\n",
    "        ad = ad +1\n",
    "    else:\n",
    "        se = se +1\n",
    "\n",
    "\n",
    "print('Number of people in each age Group')\n",
    "print('Children:',ch)\n",
    "print('Adult:',ad)\n",
    "print('Senior:',se)"
   ]
  },
  {
   "cell_type": "code",
   "execution_count": null,
   "id": "bb5a81d4-d5fb-495b-972b-ff4260b6e009",
   "metadata": {},
   "outputs": [],
   "source": [
    "x = int(input('Enter a number'))"
   ]
  },
  {
   "cell_type": "code",
   "execution_count": null,
   "id": "f3af4e57-4cb9-4fa0-b629-557b86697cf3",
   "metadata": {},
   "outputs": [],
   "source": []
  },
  {
   "cell_type": "code",
   "execution_count": null,
   "id": "bdddb9ce-90ab-4fec-bfef-076d9dd77383",
   "metadata": {},
   "outputs": [],
   "source": []
  },
  {
   "cell_type": "code",
   "execution_count": null,
   "id": "d1d130d0-7487-49f3-adf8-db8e4ee120fb",
   "metadata": {},
   "outputs": [],
   "source": []
  },
  {
   "cell_type": "code",
   "execution_count": null,
   "id": "7feb692f-e8b7-4161-a7cb-f5f2bd52eeea",
   "metadata": {},
   "outputs": [],
   "source": []
  },
  {
   "cell_type": "code",
   "execution_count": null,
   "id": "687d53ec-b8a2-4dc1-8d4b-4ef7654bd6da",
   "metadata": {},
   "outputs": [],
   "source": []
  },
  {
   "cell_type": "code",
   "execution_count": null,
   "id": "e14b82d5-df89-486d-8204-a1f84c5a2786",
   "metadata": {},
   "outputs": [],
   "source": []
  }
 ],
 "metadata": {
  "kernelspec": {
   "display_name": "base",
   "language": "python",
   "name": "python3"
  },
  "language_info": {
   "codemirror_mode": {
    "name": "ipython",
    "version": 3
   },
   "file_extension": ".py",
   "mimetype": "text/x-python",
   "name": "python",
   "nbconvert_exporter": "python",
   "pygments_lexer": "ipython3",
   "version": "3.12.7"
  }
 },
 "nbformat": 4,
 "nbformat_minor": 5
}
