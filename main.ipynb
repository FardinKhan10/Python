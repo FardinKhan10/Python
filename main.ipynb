{
 "cells": [
  {
   "cell_type": "code",
   "execution_count": 2,
   "id": "7d21830b-8b0b-400f-8e0b-873e26b97e44",
   "metadata": {},
   "outputs": [
    {
     "name": "stdout",
     "output_type": "stream",
     "text": [
      "800.0\n",
      "80.0\n"
     ]
    }
   ],
   "source": [
    "from discount import *\n",
    "\n",
    "price = 1000\n",
    "discountPercentage = 20\n",
    "\n",
    "final_Price = apply_discount(price,discountPercentage)\n",
    "print(final_Price)\n",
    "\n",
    "c = card_discount(100, \"SBI\")\n",
    "print(c)"
   ]
  },
  {
   "cell_type": "code",
   "execution_count": null,
   "id": "567135e0-c2b4-4384-856e-78d7cb4a919a",
   "metadata": {},
   "outputs": [],
   "source": []
  }
 ],
 "metadata": {
  "kernelspec": {
   "display_name": "base",
   "language": "python",
   "name": "python3"
  },
  "language_info": {
   "codemirror_mode": {
    "name": "ipython",
    "version": 3
   },
   "file_extension": ".py",
   "mimetype": "text/x-python",
   "name": "python",
   "nbconvert_exporter": "python",
   "pygments_lexer": "ipython3",
   "version": "3.12.7"
  }
 },
 "nbformat": 4,
 "nbformat_minor": 5
}
